{
 "cells": [
  {
   "attachments": {},
   "cell_type": "markdown",
   "metadata": {},
   "source": [
    "## UNET Model for the CAMUS dataset using the MONAI platform"
   ]
  },
  {
   "attachments": {},
   "cell_type": "markdown",
   "metadata": {},
   "source": [
    "### Purpose"
   ]
  },
  {
   "attachments": {},
   "cell_type": "markdown",
   "metadata": {},
   "source": [
    "This notebook will explore the models that will do a segmentation of the left ventricle. Here I will use the CAMUS dataset with the ES and ED phases with their corresponding ground truth masks as my input and output for the model. "
   ]
  },
  {
   "cell_type": "code",
   "execution_count": 1,
   "metadata": {},
   "outputs": [],
   "source": [
    "!python -c \"import monai\" || pip install -qU \"monai[ignite, nibabel, torchvision,tqdm]==0.6.0\"\n",
    "!python -c \"import matplotlib\" || pip install -q matplotlib\n",
    "!python -c \"import cv2\" || pip install opencv-python"
   ]
  },
  {
   "cell_type": "code",
   "execution_count": 2,
   "metadata": {},
   "outputs": [
    {
     "name": "stdout",
     "output_type": "stream",
     "text": [
      "/bin/bash: nvidia-smi: command not found\n"
     ]
    }
   ],
   "source": [
    "!nvidia-smi"
   ]
  },
  {
   "attachments": {},
   "cell_type": "markdown",
   "metadata": {},
   "source": [
    "Import all the necessary packages."
   ]
  },
  {
   "cell_type": "code",
   "execution_count": 3,
   "metadata": {},
   "outputs": [
    {
     "name": "stderr",
     "output_type": "stream",
     "text": [
      "/home/jyoti/Projects/Python/topeka-chapter-ejection-fraction/venv/lib/python3.8/site-packages/tqdm/auto.py:21: TqdmWarning: IProgress not found. Please update jupyter and ipywidgets. See https://ipywidgets.readthedocs.io/en/stable/user_install.html\n",
      "  from .autonotebook import tqdm as notebook_tqdm\n"
     ]
    }
   ],
   "source": [
    "import monai\n",
    "import torch\n",
    "import pandas as pd\n",
    "import numpy as np\n",
    "import matplotlib.pyplot as plt\n",
    "import SimpleITK as sitk\n",
    "import medpy\n",
    "import PIL\n",
    "import os\n",
    "import shutil\n",
    "import tempfile\n",
    "from pathlib import Path\n",
    "import pprint"
   ]
  },
  {
   "cell_type": "code",
   "execution_count": 4,
   "metadata": {},
   "outputs": [
    {
     "name": "stdout",
     "output_type": "stream",
     "text": [
      "MONAI version: 1.1.0\n",
      "Numpy version: 1.24.2\n",
      "Pytorch version: 1.13.1+cu117\n",
      "MONAI flags: HAS_EXT = False, USE_COMPILED = False, USE_META_DICT = False\n",
      "MONAI rev id: a2ec3752f54bfc3b40e7952234fbeb5452ed63e3\n",
      "MONAI __file__: /home/jyoti/Projects/Python/topeka-chapter-ejection-fraction/venv/lib/python3.8/site-packages/monai/__init__.py\n",
      "\n",
      "Optional dependencies:\n",
      "Pytorch Ignite version: 0.4.11\n",
      "Nibabel version: 5.0.1\n",
      "scikit-image version: 0.20.0\n",
      "Pillow version: 9.4.0\n",
      "Tensorboard version: 2.12.0\n",
      "gdown version: 4.6.4\n",
      "TorchVision version: 0.14.1+cu117\n",
      "tqdm version: 4.65.0\n",
      "lmdb version: 1.4.0\n",
      "psutil version: 5.9.4\n",
      "pandas version: 1.5.3\n",
      "einops version: NOT INSTALLED or UNKNOWN VERSION.\n",
      "transformers version: NOT INSTALLED or UNKNOWN VERSION.\n",
      "mlflow version: NOT INSTALLED or UNKNOWN VERSION.\n",
      "pynrrd version: 1.0.0\n",
      "\n",
      "For details about installing the optional dependencies, please visit:\n",
      "    https://docs.monai.io/en/latest/installation.html#installing-the-recommended-dependencies\n",
      "\n"
     ]
    }
   ],
   "source": [
    "from monai.config import print_config\n",
    "print_config()"
   ]
  },
  {
   "attachments": {},
   "cell_type": "markdown",
   "metadata": {},
   "source": [
    "Set the base directory where the data resides. \n",
    "If using Google Drive set here"
   ]
  },
  {
   "cell_type": "code",
   "execution_count": 5,
   "metadata": {},
   "outputs": [
    {
     "name": "stdout",
     "output_type": "stream",
     "text": [
      "env: DATA_DIRECTORY=/content/drive/MyDrive/LVEF\n"
     ]
    }
   ],
   "source": [
    "%env DATA_DIRECTORY = /content/drive/MyDrive/LVEF"
   ]
  },
  {
   "attachments": {},
   "cell_type": "markdown",
   "metadata": {},
   "source": [
    "If using a local drive, set directory below"
   ]
  },
  {
   "cell_type": "code",
   "execution_count": 6,
   "metadata": {},
   "outputs": [
    {
     "name": "stdout",
     "output_type": "stream",
     "text": [
      "env: DATA_DIRECTORY=/opt/Data\n"
     ]
    }
   ],
   "source": [
    "\n",
    "%env DATA_DIRECTORY =  /opt/Data"
   ]
  },
  {
   "cell_type": "code",
   "execution_count": 7,
   "metadata": {},
   "outputs": [
    {
     "name": "stdout",
     "output_type": "stream",
     "text": [
      "/opt/Data\n"
     ]
    }
   ],
   "source": [
    "## if environment variable is not set , get a temp directory. \n",
    "directory = os.environ.get(\"DATA_DIRECTORY\")\n",
    "ROOT_DIR = Path(tempfile.mkdtemp()) if directory is None else Path(directory)\n",
    "print(ROOT_DIR)"
   ]
  },
  {
   "cell_type": "code",
   "execution_count": 8,
   "metadata": {},
   "outputs": [],
   "source": [
    "def checkPathExists(path):\n",
    "  if not os.path.exists(path):\n",
    "    print(f\"Cannot access path: {path}\")\n",
    "  else:\n",
    "    print (f\"Path {path} accessible\")"
   ]
  },
  {
   "attachments": {},
   "cell_type": "markdown",
   "metadata": {},
   "source": [
    "Download and extract the CAMUS dataset. This step is not needed if the data was downloaded and unzipped."
   ]
  },
  {
   "cell_type": "code",
   "execution_count": 9,
   "metadata": {},
   "outputs": [],
   "source": [
    "pp = pprint.PrettyPrinter()\n",
    "from monai.utils import set_determinism\n",
    "set_determinism(seed=0)\n",
    "from monai.apps import download_and_extract, extractall"
   ]
  },
  {
   "cell_type": "code",
   "execution_count": 10,
   "metadata": {},
   "outputs": [],
   "source": [
    "CAMUS_ORIGINAL_DATA_DIR = 'CAMUS/original_data/data'\n",
    "CAMUS_DATA_DIR = 'New_CAMUS_png/CAMUS'"
   ]
  },
  {
   "cell_type": "code",
   "execution_count": 11,
   "metadata": {},
   "outputs": [
    {
     "name": "stdout",
     "output_type": "stream",
     "text": [
      "Path /opt/Data/New_CAMUS_png/CAMUS accessible\n"
     ]
    }
   ],
   "source": [
    "# May not work on WIndows\n",
    "#resource = \"https://scholar.cu.edu.eg/Dataset_BUSI.zip\"\n",
    "compressed_file = ROOT_DIR.joinpath(\"CAMUS.zip\")\n",
    "DATA_DIR = ROOT_DIR.joinpath(CAMUS_DATA_DIR)\n",
    "if not os.path.exists(DATA_DIR):\n",
    "    extractall(compressed_file, ROOT_DIR)\n",
    "checkPathExists(DATA_DIR)"
   ]
  },
  {
   "attachments": {},
   "cell_type": "markdown",
   "metadata": {},
   "source": [
    "Organize the file names used for training and testing into Python lists for easy access when needed."
   ]
  },
  {
   "cell_type": "code",
   "execution_count": 12,
   "metadata": {},
   "outputs": [],
   "source": [
    "TRAINING_DATA_DIR = DATA_DIR.joinpath('Training')\n",
    "TESTING_DATA_DIR = DATA_DIR.joinpath('Testing')\n",
    "TWO_CHANNEL = '2CH'\n",
    "FOUR_CHANNEL = '4CH'\n",
    "PHASE_NAMES = ['ED', 'ES']"
   ]
  },
  {
   "cell_type": "code",
   "execution_count": 13,
   "metadata": {},
   "outputs": [],
   "source": [
    "### Set the file list as\n",
    "#[ \n",
    "#   ED [(input_file, mask_file), (input_file, mask_file), ....]\n",
    "#   ES [(input_file, mask_file), (input_file, mask_file), ....]\n",
    "#]\n",
    "def data_directories(data_path, class_names, chamber_view):\n",
    "    num_phases = len(class_names)\n",
    "    patient_list = [x for x in data_path.iterdir() if x.is_dir()]\n",
    "\n",
    "    image_files_list = [\n",
    "        [\n",
    "            (p, Path(str(p).replace(f\"{class_names[i]}\", f\"{class_names[i]}_gt\")))\n",
    "            for x in patient_list\n",
    "            for j, p in enumerate(x.glob(f\"**/{chamber_view}*{class_names[i]}.png\"))\n",
    "        ]\n",
    "        for i in range(num_phases)\n",
    "    ]\n",
    "    return image_files_list"
   ]
  },
  {
   "cell_type": "code",
   "execution_count": 14,
   "metadata": {},
   "outputs": [],
   "source": [
    "training_2chamber_image_files = data_directories(TRAINING_DATA_DIR, PHASE_NAMES, TWO_CHANNEL)\n",
    "training_4chamber_image_files = data_directories(TRAINING_DATA_DIR, PHASE_NAMES, FOUR_CHANNEL)\n",
    "testing_2chamber_image_files = data_directories(TESTING_DATA_DIR, PHASE_NAMES, TWO_CHANNEL)\n",
    "testing_4chamber_image_files = data_directories(TESTING_DATA_DIR, PHASE_NAMES, FOUR_CHANNEL)\n",
    "#pp.pprint(training_2chamber_image_files[1])"
   ]
  },
  {
   "cell_type": "code",
   "execution_count": 15,
   "metadata": {},
   "outputs": [],
   "source": [
    "def data_description(image_files_list):\n",
    "    num_total = len(image_files_list[0])\n",
    "    image_width, image_height = PIL.Image.open(image_files_list[0][0][0]).size\n",
    "    print(f\"Total Image Count: {num_total}\")\n",
    "    print(f\"Image Dimensions: {image_width} x {image_height}\")"
   ]
  },
  {
   "cell_type": "code",
   "execution_count": 16,
   "metadata": {},
   "outputs": [
    {
     "name": "stdout",
     "output_type": "stream",
     "text": [
      "Two Chamber Training Data Count\n",
      "Total Image Count: 400\n",
      "Image Dimensions: 256 x 256\n",
      "-------------\n",
      "Four Chamber Training Data Count\n",
      "Total Image Count: 400\n",
      "Image Dimensions: 256 x 256\n",
      "-------------\n",
      "Two Chamber Testing Data Count\n",
      "Total Image Count: 50\n",
      "Image Dimensions: 256 x 256\n",
      "-------------\n",
      "Four Chamber Testing Data Count\n",
      "Total Image Count: 50\n",
      "Image Dimensions: 256 x 256\n",
      "-------------\n"
     ]
    }
   ],
   "source": [
    "print(f\"Two Chamber Training Data Count\")\n",
    "data_description(training_2chamber_image_files)\n",
    "print(\"-------------\")\n",
    "print(f\"Four Chamber Training Data Count\")\n",
    "data_description(training_4chamber_image_files)\n",
    "print(\"-------------\")\n",
    "print(f\"Two Chamber Testing Data Count\")\n",
    "data_description(testing_2chamber_image_files)\n",
    "print(\"-------------\")\n",
    "print(f\"Four Chamber Testing Data Count\")\n",
    "data_description(testing_4chamber_image_files)\n",
    "print(\"-------------\")"
   ]
  },
  {
   "attachments": {},
   "cell_type": "markdown",
   "metadata": {},
   "source": [
    "Lets load the information file as a pandas dataframe"
   ]
  },
  {
   "cell_type": "code",
   "execution_count": 17,
   "metadata": {},
   "outputs": [
    {
     "name": "stdout",
     "output_type": "stream",
     "text": [
      "Path /opt/Data/New_CAMUS_png/CAMUS/Training/training_2ch_info accessible\n",
      "Path /opt/Data/New_CAMUS_png/CAMUS/Training/training_4ch_info accessible\n",
      "Path /opt/Data/New_CAMUS_png/CAMUS/Testing/testing_2ch_info accessible\n",
      "Path /opt/Data/New_CAMUS_png/CAMUS/Testing/testing_4ch_info accessible\n"
     ]
    }
   ],
   "source": [
    "TRAINING_2CH_INFO_DIR = TRAINING_DATA_DIR.joinpath('training_2ch_info')\n",
    "TRAINING_4CH_INFO_DIR = TRAINING_DATA_DIR.joinpath('training_4ch_info')\n",
    "TESTING_2CH_INFO_DIR = TESTING_DATA_DIR.joinpath('testing_2ch_info')\n",
    "TESTING_4CH_INFO_DIR = TESTING_DATA_DIR.joinpath('testing_4ch_info')\n",
    "checkPathExists(TRAINING_2CH_INFO_DIR)\n",
    "checkPathExists(TRAINING_4CH_INFO_DIR)\n",
    "checkPathExists(TESTING_2CH_INFO_DIR)\n",
    "checkPathExists(TESTING_4CH_INFO_DIR)"
   ]
  },
  {
   "cell_type": "code",
   "execution_count": 24,
   "metadata": {},
   "outputs": [],
   "source": [
    "def data_info_file(info_dir, chamber_view):\n",
    "    info_df = pd.DataFrame()\n",
    "    for file in info_dir.glob(f\"**/*.cfg\"):\n",
    "        with open(file) as f: \n",
    "            data = f.readlines() \n",
    "            data = [x.rstrip('\\n') for x in data]\n",
    "            data = { f\"{x.split(': ')[0]}_{chamber_view}\": x.split(': ')[1] for x in data}\n",
    "            data['id'] = str(file.name).split('_')[0]\n",
    "            info_df = pd.concat([info_df, pd.DataFrame([data])])\n",
    "    info_df = info_df.reset_index(drop=True)\n",
    "    info_df = info_df.set_index('id')\n",
    "    return info_df"
   ]
  },
  {
   "cell_type": "code",
   "execution_count": 144,
   "metadata": {},
   "outputs": [],
   "source": [
    "training_2chamber_info_df = data_info_file(TRAINING_2CH_INFO_DIR, TWO_CHANNEL)\n",
    "training_4chamber_info_df = data_info_file(TRAINING_4CH_INFO_DIR, FOUR_CHANNEL)\n",
    "testing_2chamber_info_df = data_info_file(TESTING_2CH_INFO_DIR, TWO_CHANNEL)\n",
    "testing_4chamber_info_df = data_info_file(TESTING_4CH_INFO_DIR, FOUR_CHANNEL)"
   ]
  },
  {
   "cell_type": "code",
   "execution_count": 145,
   "metadata": {},
   "outputs": [],
   "source": [
    "training_2chamber_info_df.LVedv_2CH = training_2chamber_info_df.LVedv_2CH.astype('float32')\n",
    "training_2chamber_info_df.LVesv_2CH = training_2chamber_info_df.LVedv_2CH.astype('float32')\n",
    "training_2chamber_info_df.LVef_2CH = training_2chamber_info_df.LVef_2CH.astype('float32')\n",
    "\n",
    "training_4chamber_info_df.LVedv_4CH = training_4chamber_info_df.LVedv_4CH.astype('float32')\n",
    "training_4chamber_info_df.LVesv_4CH = training_4chamber_info_df.LVedv_4CH.astype('float32')\n",
    "training_4chamber_info_df.LVef_4CH = training_4chamber_info_df.LVef_4CH.astype('float32')\n",
    "\n",
    "testing_2chamber_info_df.LVedv_2CH = testing_2chamber_info_df.LVedv_2CH.astype('float32')\n",
    "testing_2chamber_info_df.LVesv_2CH = testing_2chamber_info_df.LVedv_2CH.astype('float32')\n",
    "testing_2chamber_info_df.LVef_2CH = testing_2chamber_info_df.LVef_2CH.astype('float32')\n",
    "\n",
    "testing_4chamber_info_df.LVedv_4CH = testing_4chamber_info_df.LVedv_4CH.astype('float32')\n",
    "testing_4chamber_info_df.LVesv_4CH = testing_4chamber_info_df.LVedv_4CH.astype('float32')\n",
    "testing_4chamber_info_df.LVef_4CH = testing_4chamber_info_df.LVef_4CH.astype('float32')"
   ]
  },
  {
   "cell_type": "code",
   "execution_count": 228,
   "metadata": {},
   "outputs": [],
   "source": [
    "## Save the files here for easy access later"
   ]
  },
  {
   "attachments": {},
   "cell_type": "markdown",
   "metadata": {},
   "source": [
    "### EDA for CAMUS dataset"
   ]
  },
  {
   "attachments": {},
   "cell_type": "markdown",
   "metadata": {},
   "source": [
    "Lets look at the characteristics of the CAMUS data"
   ]
  },
  {
   "attachments": {},
   "cell_type": "markdown",
   "metadata": {},
   "source": [
    "According to the American Heart Association:\n",
    "\n",
    "    A left ventricle (LV) ejection fraction of about 50% to 70% is categorized as normal.\n",
    "    A mildly reduced LV ejection fraction is usually between 41% and 49%.\n",
    "    A reduced LV ejection fraction is usually 40% or less."
   ]
  },
  {
   "attachments": {},
   "cell_type": "markdown",
   "metadata": {},
   "source": [
    "1. Distribute the Training data into normal, mild, and abnormal"
   ]
  },
  {
   "cell_type": "code",
   "execution_count": 146,
   "metadata": {},
   "outputs": [],
   "source": [
    "def data_hfclass(df):\n",
    "    lvef_class = []\n",
    "    for i in df:\n",
    "        if i >= 50:\n",
    "            lvef_class.append('Normal')\n",
    "        elif i > 40:\n",
    "            lvef_class.append('Mild')\n",
    "        else:\n",
    "            lvef_class.append('Abnormal')\n",
    "    lv_class = pd.Series(lvef_class, name='HFClass')\n",
    "    lv_class = lv_class.astype('category')\n",
    "    lv_class.index = df.index\n",
    "    return lv_class"
   ]
  },
  {
   "cell_type": "code",
   "execution_count": 147,
   "metadata": {},
   "outputs": [],
   "source": [
    "training_2chamber_info_df = pd.concat([training_2chamber_info_df, data_hfclass(training_2chamber_info_df.LVef_2CH)], axis=1)\n",
    "training_4chamber_info_df = pd.concat([training_4chamber_info_df, data_hfclass(training_4chamber_info_df.LVef_4CH)], axis=1)\n",
    "testing_2chamber_info_df = pd.concat([testing_2chamber_info_df, data_hfclass(testing_2chamber_info_df.LVef_2CH)], axis=1)\n",
    "testing_4chamber_info_df = pd.concat([testing_4chamber_info_df, data_hfclass(testing_4chamber_info_df.LVef_4CH)], axis=1)"
   ]
  },
  {
   "attachments": {},
   "cell_type": "markdown",
   "metadata": {},
   "source": [
    "2. Visualize the training/testing data for 2 chamber and 4 chamber in terms of their Diagnostic classes"
   ]
  },
  {
   "cell_type": "code",
   "execution_count": 229,
   "metadata": {},
   "outputs": [],
   "source": [
    "def generate_pie_plot(labels, title=\"Categories\", ax = None):\n",
    "    proportions = []\n",
    "    sz = len(labels.unique())\n",
    "    total = labels.value_counts().sum()\n",
    "    for c in range(sz):\n",
    "        prop = labels.value_counts()[c]\n",
    "        print(f\"Proportion of data in class {c} is {prop} : {prop/total*100:0.2f} %\")\n",
    "        proportions.append(prop)\n",
    "\n",
    "    colors = ['#003f5c', '#58508d' , '#bc5090', '#ff6361', '#ffa600']\n",
    "\n",
    "    if ax is None:\n",
    "        fig, ax = plt.subplots()\n",
    "    ax.pie(proportions, labels=labels.unique(), autopct='%1.1f%%', colors = colors, textprops={'color':\"gray\"})\n",
    "    ax.axis('equal')  # Equal aspect ratio ensures the pie chart is circular.\n",
    "    ax.set_title(title, color='gray')"
   ]
  },
  {
   "cell_type": "code",
   "execution_count": 230,
   "metadata": {},
   "outputs": [
    {
     "name": "stdout",
     "output_type": "stream",
     "text": [
      "Proportion of data in class 0 is 274 : 60.89 %\n",
      "Proportion of data in class 1 is 103 : 22.89 %\n",
      "Proportion of data in class 2 is 73 : 16.22 %\n",
      "Proportion of data in class 0 is 33 : 66.00 %\n",
      "Proportion of data in class 1 is 10 : 20.00 %\n",
      "Proportion of data in class 2 is 7 : 14.00 %\n",
      "Proportion of data in class 0 is 274 : 60.89 %\n",
      "Proportion of data in class 1 is 103 : 22.89 %\n",
      "Proportion of data in class 2 is 73 : 16.22 %\n",
      "Proportion of data in class 0 is 33 : 66.00 %\n",
      "Proportion of data in class 1 is 10 : 20.00 %\n",
      "Proportion of data in class 2 is 7 : 14.00 %\n"
     ]
    },
    {
     "data": {
      "image/png": "[encoded data removed]",
      "text/plain": [
       "<Figure size 1000x1000 with 4 Axes>"
      ]
     },
     "metadata": {},
     "output_type": "display_data"
    }
   ],
   "source": [
    "fig, ax = plt.subplots(2, 2, figsize=(10,10))\n",
    "generate_pie_plot(training_2chamber_info_df.HFClass, 'Training 2 Chamber Diagnostic Classes', ax[0][0])\n",
    "generate_pie_plot(testing_2chamber_info_df.HFClass, 'Testing 2 Chamber Diagnostic Classes', ax[0][1])\n",
    "generate_pie_plot(training_4chamber_info_df.HFClass, 'Training 4 Chamber Diagnostic Classes', ax[1][0])\n",
    "generate_pie_plot(testing_4chamber_info_df.HFClass, 'Testing 4 Chamber Diagnostic Classes', ax[1][1])"
   ]
  },
  {
   "attachments": {},
   "cell_type": "markdown",
   "metadata": {},
   "source": [
    "The training and testing data is similarly distributed based on its diagnostic class"
   ]
  },
  {
   "attachments": {},
   "cell_type": "markdown",
   "metadata": {},
   "source": [
    "3. Lets visualize the distribution of the diagnostic classes in terms of the age groups"
   ]
  },
  {
   "cell_type": "code",
   "execution_count": 232,
   "metadata": {},
   "outputs": [
    {
     "data": {
      "text/plain": [
       "'93'"
      ]
     },
     "execution_count": 232,
     "metadata": {},
     "output_type": "execute_result"
    }
   ],
   "source": [
    "training_2chamber_info_df.Age_2CH.min()\n",
    "training_2chamber_info_df.Age_2CH.max()"
   ]
  },
  {
   "attachments": {},
   "cell_type": "markdown",
   "metadata": {},
   "source": []
  }
 ],
 "metadata": {
  "kernelspec": {
   "display_name": "PyTorch-arlbtak8",
   "language": "python",
   "name": "python3"
  },
  "language_info": {
   "codemirror_mode": {
    "name": "ipython",
    "version": 3
   },
   "file_extension": ".py",
   "mimetype": "text/x-python",
   "name": "python",
   "nbconvert_exporter": "python",
   "pygments_lexer": "ipython3",
   "version": "3.8.10"
  },
  "orig_nbformat": 4
 },
 "nbformat": 4,
 "nbformat_minor": 2
}

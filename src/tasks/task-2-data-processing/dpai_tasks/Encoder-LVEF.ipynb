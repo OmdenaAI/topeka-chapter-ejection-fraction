{
 "cells": [
  {
   "attachments": {},
   "cell_type": "markdown",
   "metadata": {},
   "source": [
    "## Purpose"
   ]
  },
  {
   "attachments": {},
   "cell_type": "markdown",
   "metadata": {},
   "source": [
    "Since the EF calculation requires both the ED image and the ES image. I built a 2-pass model to predict the EF value.\n",
    "1. In the first pass, I stack a ED and ES image together, and train a encoder-decoder network. The network basically encodes the 2 images down to a feature image. In the decoder stage the network outputs the same ED and ES image again. Hence the feature image becomes the encoding for the ED and ES image.\n",
    "2. This feature images become input to the resnet backbone. I have a Linear head at the end that will predict the EF value.\n",
    "3. There are 2 stages of training. First train the Encoder-Decoder network. \n",
    "4. Next the pretrained resnet is trained with a regression head. The input to this is the feature image from the encoder. The decoder output is ignored. The output of the resnet is the predicted EF."
   ]
  },
  {
   "cell_type": "code",
   "execution_count": 35,
   "metadata": {},
   "outputs": [],
   "source": [
    "import argparse\n",
    "from datetime import datetime\n",
    "import os\n",
    "from tqdm import tqdm\n",
    "\n",
    "#Pytorch\n",
    "import torch\n",
    "import torch.optim as optim\n",
    "from torch.optim import lr_scheduler\n",
    "import torch.nn as nn\n",
    "from torchvision import models, transforms\n",
    "from torchvision.utils import save_image\n",
    "#from torch.utils.tensorboard import SummaryWriter\n",
    "from torch.autograd import Variable\n",
    "#from torchsummary import summary\n",
    "from torch.utils.data import Dataset, ConcatDataset, DataLoader, Subset"
   ]
  },
  {
   "cell_type": "code",
   "execution_count": 36,
   "metadata": {},
   "outputs": [],
   "source": [
    "from pathlib import Path\n",
    "import tempfile\n",
    "import PIL\n",
    "import pandas as pd\n",
    "import numpy as np\n",
    "import matplotlib.pyplot as plt\n",
    "from sklearn.model_selection import train_test_split"
   ]
  },
  {
   "cell_type": "code",
   "execution_count": 37,
   "metadata": {},
   "outputs": [],
   "source": [
    "torch.cuda.set_device(\"cuda:0\")\n",
    "device = torch.device(\"cuda\" if torch.cuda.is_available() else \"cpu\")"
   ]
  },
  {
   "cell_type": "code",
   "execution_count": 38,
   "metadata": {},
   "outputs": [
    {
     "name": "stdout",
     "output_type": "stream",
     "text": [
      "env: DATA_DIRECTORY=C:\\Workspace\\Practice\\Python\\PyTorch\n"
     ]
    }
   ],
   "source": [
    "%env DATA_DIRECTORY =  C:\\Workspace\\Practice\\Python\\PyTorch"
   ]
  },
  {
   "cell_type": "code",
   "execution_count": 39,
   "metadata": {},
   "outputs": [
    {
     "name": "stdout",
     "output_type": "stream",
     "text": [
      "C:\\Workspace\\Practice\\Python\\PyTorch\n"
     ]
    }
   ],
   "source": [
    "## if environment variable is not set , get a temp directory. \n",
    "directory = os.environ.get(\"DATA_DIRECTORY\")\n",
    "ROOT_DIR = Path(tempfile.mkdtemp()) if directory is None else Path(directory)\n",
    "print(ROOT_DIR)"
   ]
  },
  {
   "cell_type": "code",
   "execution_count": 40,
   "metadata": {},
   "outputs": [],
   "source": [
    "def checkPathExists(path):\n",
    "  if not os.path.exists(path):\n",
    "    print(f\"Cannot access path: {path}\")\n",
    "  else:\n",
    "    print (f\"Path {path} accessible\")"
   ]
  },
  {
   "cell_type": "code",
   "execution_count": 41,
   "metadata": {},
   "outputs": [],
   "source": [
    "CAMUS_ORIGINAL_DATA_DIR = 'CAMUS/original_data/data'\n",
    "CAMUS_DATA_DIR = 'New_CAMUS_png/CAMUS'"
   ]
  },
  {
   "cell_type": "code",
   "execution_count": 42,
   "metadata": {},
   "outputs": [],
   "source": [
    "DATA_DIR = ROOT_DIR.joinpath(CAMUS_DATA_DIR)"
   ]
  },
  {
   "cell_type": "code",
   "execution_count": 43,
   "metadata": {},
   "outputs": [],
   "source": [
    "TRAINING_DATA_DIR = DATA_DIR.joinpath('Training')\n",
    "TESTING_DATA_DIR = DATA_DIR.joinpath('Testing')\n",
    "TWO_CHANNEL = '2CH'\n",
    "FOUR_CHANNEL = '4CH'\n",
    "PHASE_NAMES = ['ED', 'ES']"
   ]
  },
  {
   "cell_type": "code",
   "execution_count": 44,
   "metadata": {},
   "outputs": [],
   "source": [
    "### Set the file list as\n",
    "#[ \n",
    "#   ED [(input_file, mask_file), (input_file, mask_file), ....]\n",
    "#   ES [(input_file, mask_file), (input_file, mask_file), ....]\n",
    "#]\n",
    "def data_directories(data_path, class_names, chamber_view):\n",
    "    num_phases = len(class_names)\n",
    "    patient_list = [x for x in data_path.iterdir() if x.is_dir()]\n",
    "\n",
    "    image_files_list = [\n",
    "        [\n",
    "            (p, Path(str(p).replace(f\"{class_names[i]}\", f\"{class_names[i]}_gt\")))\n",
    "            for x in patient_list\n",
    "            for j, p in enumerate(x.glob(f\"**/{chamber_view}*{class_names[i]}.png\"))\n",
    "        ]\n",
    "        for i in range(num_phases)\n",
    "    ]\n",
    "    return image_files_list"
   ]
  },
  {
   "cell_type": "code",
   "execution_count": 45,
   "metadata": {},
   "outputs": [],
   "source": [
    "import pprint"
   ]
  },
  {
   "cell_type": "code",
   "execution_count": 46,
   "metadata": {},
   "outputs": [],
   "source": [
    "training_2chamber_image_files = data_directories(TRAINING_DATA_DIR, PHASE_NAMES, TWO_CHANNEL)\n",
    "training_4chamber_image_files = data_directories(TRAINING_DATA_DIR, PHASE_NAMES, FOUR_CHANNEL)\n",
    "testing_2chamber_image_files = data_directories(TESTING_DATA_DIR, PHASE_NAMES, TWO_CHANNEL)\n",
    "testing_4chamber_image_files = data_directories(TESTING_DATA_DIR, PHASE_NAMES, FOUR_CHANNEL)"
   ]
  },
  {
   "cell_type": "code",
   "execution_count": 47,
   "metadata": {},
   "outputs": [
    {
     "name": "stdout",
     "output_type": "stream",
     "text": [
      "[(WindowsPath('C:/Workspace/Practice/Python/PyTorch/New_CAMUS_png/CAMUS/Training/patient0001/4CH_ES.png'),\n",
      "  WindowsPath('C:/Workspace/Practice/Python/PyTorch/New_CAMUS_png/CAMUS/Training/patient0001/4CH_ES_gt.png')),\n",
      " (WindowsPath('C:/Workspace/Practice/Python/PyTorch/New_CAMUS_png/CAMUS/Training/patient0002/4CH_ES.png'),\n",
      "  WindowsPath('C:/Workspace/Practice/Python/PyTorch/New_CAMUS_png/CAMUS/Training/patient0002/4CH_ES_gt.png')),\n",
      " (WindowsPath('C:/Workspace/Practice/Python/PyTorch/New_CAMUS_png/CAMUS/Training/patient0003/4CH_ES.png'),\n",
      "  WindowsPath('C:/Workspace/Practice/Python/PyTorch/New_CAMUS_png/CAMUS/Training/patient0003/4CH_ES_gt.png')),\n",
      " (WindowsPath('C:/Workspace/Practice/Python/PyTorch/New_CAMUS_png/CAMUS/Training/patient0004/4CH_ES.png'),\n",
      "  WindowsPath('C:/Workspace/Practice/Python/PyTorch/New_CAMUS_png/CAMUS/Training/patient0004/4CH_ES_gt.png')),\n",
      " (WindowsPath('C:/Workspace/Practice/Python/PyTorch/New_CAMUS_png/CAMUS/Training/patient0005/4CH_ES.png'),\n",
      "  WindowsPath('C:/Workspace/Practice/Python/PyTorch/New_CAMUS_png/CAMUS/Training/patient0005/4CH_ES_gt.png')),\n",
      " (WindowsPath('C:/Workspace/Practice/Python/PyTorch/New_CAMUS_png/CAMUS/Training/patient0006/4CH_ES.png'),\n",
      "  WindowsPath('C:/Workspace/Practice/Python/PyTorch/New_CAMUS_png/CAMUS/Training/patient0006/4CH_ES_gt.png')),\n",
      " (WindowsPath('C:/Workspace/Practice/Python/PyTorch/New_CAMUS_png/CAMUS/Training/patient0007/4CH_ES.png'),\n",
      "  WindowsPath('C:/Workspace/Practice/Python/PyTorch/New_CAMUS_png/CAMUS/Training/patient0007/4CH_ES_gt.png')),\n",
      " (WindowsPath('C:/Workspace/Practice/Python/PyTorch/New_CAMUS_png/CAMUS/Training/patient0008/4CH_ES.png'),\n",
      "  WindowsPath('C:/Workspace/Practice/Python/PyTorch/New_CAMUS_png/CAMUS/Training/patient0008/4CH_ES_gt.png')),\n",
      " (WindowsPath('C:/Workspace/Practice/Python/PyTorch/New_CAMUS_png/CAMUS/Training/patient0009/4CH_ES.png'),\n",
      "  WindowsPath('C:/Workspace/Practice/Python/PyTorch/New_CAMUS_png/CAMUS/Training/patient0009/4CH_ES_gt.png')),\n",
      " (WindowsPath('C:/Workspace/Practice/Python/PyTorch/New_CAMUS_png/CAMUS/Training/patient0010/4CH_ES.png'),\n",
      "  WindowsPath('C:/Workspace/Practice/Python/PyTorch/New_CAMUS_png/CAMUS/Training/patient0010/4CH_ES_gt.png')),\n",
      " (WindowsPath('C:/Workspace/Practice/Python/PyTorch/New_CAMUS_png/CAMUS/Training/patient0011/4CH_ES.png'),\n",
      "  WindowsPath('C:/Workspace/Practice/Python/PyTorch/New_CAMUS_png/CAMUS/Training/patient0011/4CH_ES_gt.png')),\n",
      " (WindowsPath('C:/Workspace/Practice/Python/PyTorch/New_CAMUS_png/CAMUS/Training/patient0012/4CH_ES.png'),\n",
      "  WindowsPath('C:/Workspace/Practice/Python/PyTorch/New_CAMUS_png/CAMUS/Training/patient0012/4CH_ES_gt.png')),\n",
      " (WindowsPath('C:/Workspace/Practice/Python/PyTorch/New_CAMUS_png/CAMUS/Training/patient0013/4CH_ES.png'),\n",
      "  WindowsPath('C:/Workspace/Practice/Python/PyTorch/New_CAMUS_png/CAMUS/Training/patient0013/4CH_ES_gt.png')),\n",
      " (WindowsPath('C:/Workspace/Practice/Python/PyTorch/New_CAMUS_png/CAMUS/Training/patient0014/4CH_ES.png'),\n",
      "  WindowsPath('C:/Workspace/Practice/Python/PyTorch/New_CAMUS_png/CAMUS/Training/patient0014/4CH_ES_gt.png')),\n",
      " (WindowsPath('C:/Workspace/Practice/Python/PyTorch/New_CAMUS_png/CAMUS/Training/patient0015/4CH_ES.png'),\n",
      "  WindowsPath('C:/Workspace/Practice/Python/PyTorch/New_CAMUS_png/CAMUS/Training/patient0015/4CH_ES_gt.png')),\n",
      " (WindowsPath('C:/Workspace/Practice/Python/PyTorch/New_CAMUS_png/CAMUS/Training/patient0016/4CH_ES.png'),\n",
      "  WindowsPath('C:/Workspace/Practice/Python/PyTorch/New_CAMUS_png/CAMUS/Training/patient0016/4CH_ES_gt.png')),\n",
      " (WindowsPath('C:/Workspace/Practice/Python/PyTorch/New_CAMUS_png/CAMUS/Training/patient0017/4CH_ES.png'),\n",
      "  WindowsPath('C:/Workspace/Practice/Python/PyTorch/New_CAMUS_png/CAMUS/Training/patient0017/4CH_ES_gt.png')),\n",
      " (WindowsPath('C:/Workspace/Practice/Python/PyTorch/New_CAMUS_png/CAMUS/Training/patient0018/4CH_ES.png'),\n",
      "  WindowsPath('C:/Workspace/Practice/Python/PyTorch/New_CAMUS_png/CAMUS/Training/patient0018/4CH_ES_gt.png')),\n",
      " (WindowsPath('C:/Workspace/Practice/Python/PyTorch/New_CAMUS_png/CAMUS/Training/patient0019/4CH_ES.png'),\n",
      "  WindowsPath('C:/Workspace/Practice/Python/PyTorch/New_CAMUS_png/CAMUS/Training/patient0019/4CH_ES_gt.png')),\n",
      " (WindowsPath('C:/Workspace/Practice/Python/PyTorch/New_CAMUS_png/CAMUS/Training/patient0020/4CH_ES.png'),\n",
      "  WindowsPath('C:/Workspace/Practice/Python/PyTorch/New_CAMUS_png/CAMUS/Training/patient0020/4CH_ES_gt.png')),\n",
      " (WindowsPath('C:/Workspace/Practice/Python/PyTorch/New_CAMUS_png/CAMUS/Training/patient0021/4CH_ES.png'),\n",
      "  WindowsPath('C:/Workspace/Practice/Python/PyTorch/New_CAMUS_png/CAMUS/Training/patient0021/4CH_ES_gt.png')),\n",
      " (WindowsPath('C:/Workspace/Practice/Python/PyTorch/New_CAMUS_png/CAMUS/Training/patient0022/4CH_ES.png'),\n",
      "  WindowsPath('C:/Workspace/Practice/Python/PyTorch/New_CAMUS_png/CAMUS/Training/patient0022/4CH_ES_gt.png')),\n",
      " (WindowsPath('C:/Workspace/Practice/Python/PyTorch/New_CAMUS_png/CAMUS/Training/patient0023/4CH_ES.png'),\n",
      "  WindowsPath('C:/Workspace/Practice/Python/PyTorch/New_CAMUS_png/CAMUS/Training/patient0023/4CH_ES_gt.png')),\n",
      " (WindowsPath('C:/Workspace/Practice/Python/PyTorch/New_CAMUS_png/CAMUS/Training/patient0024/4CH_ES.png'),\n",
      "  WindowsPath('C:/Workspace/Practice/Python/PyTorch/New_CAMUS_png/CAMUS/Training/patient0024/4CH_ES_gt.png')),\n",
      " (WindowsPath('C:/Workspace/Practice/Python/PyTorch/New_CAMUS_png/CAMUS/Training/patient0025/4CH_ES.png'),\n",
      "  WindowsPath('C:/Workspace/Practice/Python/PyTorch/New_CAMUS_png/CAMUS/Training/patient0025/4CH_ES_gt.png')),\n",
      " (WindowsPath('C:/Workspace/Practice/Python/PyTorch/New_CAMUS_png/CAMUS/Training/patient0026/4CH_ES.png'),\n",
      "  WindowsPath('C:/Workspace/Practice/Python/PyTorch/New_CAMUS_png/CAMUS/Training/patient0026/4CH_ES_gt.png')),\n",
      " (WindowsPath('C:/Workspace/Practice/Python/PyTorch/New_CAMUS_png/CAMUS/Training/patient0027/4CH_ES.png'),\n",
      "  WindowsPath('C:/Workspace/Practice/Python/PyTorch/New_CAMUS_png/CAMUS/Training/patient0027/4CH_ES_gt.png')),\n",
      " (WindowsPath('C:/Workspace/Practice/Python/PyTorch/New_CAMUS_png/CAMUS/Training/patient0028/4CH_ES.png'),\n",
      "  WindowsPath('C:/Workspace/Practice/Python/PyTorch/New_CAMUS_png/CAMUS/Training/patient0028/4CH_ES_gt.png')),\n",
      " (WindowsPath('C:/Workspace/Practice/Python/PyTorch/New_CAMUS_png/CAMUS/Training/patient0029/4CH_ES.png'),\n",
      "  WindowsPath('C:/Workspace/Practice/Python/PyTorch/New_CAMUS_png/CAMUS/Training/patient0029/4CH_ES_gt.png')),\n",
      " (WindowsPath('C:/Workspace/Practice/Python/PyTorch/New_CAMUS_png/CAMUS/Training/patient0030/4CH_ES.png'),\n",
      "  WindowsPath('C:/Workspace/Practice/Python/PyTorch/New_CAMUS_png/CAMUS/Training/patient0030/4CH_ES_gt.png')),\n",
      " (WindowsPath('C:/Workspace/Practice/Python/PyTorch/New_CAMUS_png/CAMUS/Training/patient0031/4CH_ES.png'),\n",
      "  WindowsPath('C:/Workspace/Practice/Python/PyTorch/New_CAMUS_png/CAMUS/Training/patient0031/4CH_ES_gt.png')),\n",
      " (WindowsPath('C:/Workspace/Practice/Python/PyTorch/New_CAMUS_png/CAMUS/Training/patient0032/4CH_ES.png'),\n",
      "  WindowsPath('C:/Workspace/Practice/Python/PyTorch/New_CAMUS_png/CAMUS/Training/patient0032/4CH_ES_gt.png')),\n",
      " (WindowsPath('C:/Workspace/Practice/Python/PyTorch/New_CAMUS_png/CAMUS/Training/patient0033/4CH_ES.png'),\n",
      "  WindowsPath('C:/Workspace/Practice/Python/PyTorch/New_CAMUS_png/CAMUS/Training/patient0033/4CH_ES_gt.png')),\n",
      " (WindowsPath('C:/Workspace/Practice/Python/PyTorch/New_CAMUS_png/CAMUS/Training/patient0034/4CH_ES.png'),\n",
      "  WindowsPath('C:/Workspace/Practice/Python/PyTorch/New_CAMUS_png/CAMUS/Training/patient0034/4CH_ES_gt.png')),\n",
      " (WindowsPath('C:/Workspace/Practice/Python/PyTorch/New_CAMUS_png/CAMUS/Training/patient0035/4CH_ES.png'),\n",
      "  WindowsPath('C:/Workspace/Practice/Python/PyTorch/New_CAMUS_png/CAMUS/Training/patient0035/4CH_ES_gt.png')),\n",
      " (WindowsPath('C:/Workspace/Practice/Python/PyTorch/New_CAMUS_png/CAMUS/Training/patient0036/4CH_ES.png'),\n",
      "  WindowsPath('C:/Workspace/Practice/Python/PyTorch/New_CAMUS_png/CAMUS/Training/patient0036/4CH_ES_gt.png')),\n",
      " (WindowsPath('C:/Workspace/Practice/Python/PyTorch/New_CAMUS_png/CAMUS/Training/patient0037/4CH_ES.png'),\n",
      "  WindowsPath('C:/Workspace/Practice/Python/PyTorch/New_CAMUS_png/CAMUS/Training/patient0037/4CH_ES_gt.png')),\n",
      " (WindowsPath('C:/Workspace/Practice/Python/PyTorch/New_CAMUS_png/CAMUS/Training/patient0038/4CH_ES.png'),\n",
      "  WindowsPath('C:/Workspace/Practice/Python/PyTorch/New_CAMUS_png/CAMUS/Training/patient0038/4CH_ES_gt.png')),\n",
      " (WindowsPath('C:/Workspace/Practice/Python/PyTorch/New_CAMUS_png/CAMUS/Training/patient0039/4CH_ES.png'),\n",
      "  WindowsPath('C:/Workspace/Practice/Python/PyTorch/New_CAMUS_png/CAMUS/Training/patient0039/4CH_ES_gt.png')),\n",
      " (WindowsPath('C:/Workspace/Practice/Python/PyTorch/New_CAMUS_png/CAMUS/Training/patient0040/4CH_ES.png'),\n",
      "  WindowsPath('C:/Workspace/Practice/Python/PyTorch/New_CAMUS_png/CAMUS/Training/patient0040/4CH_ES_gt.png')),\n",
      " (WindowsPath('C:/Workspace/Practice/Python/PyTorch/New_CAMUS_png/CAMUS/Training/patient0041/4CH_ES.png'),\n",
      "  WindowsPath('C:/Workspace/Practice/Python/PyTorch/New_CAMUS_png/CAMUS/Training/patient0041/4CH_ES_gt.png')),\n",
      " (WindowsPath('C:/Workspace/Practice/Python/PyTorch/New_CAMUS_png/CAMUS/Training/patient0042/4CH_ES.png'),\n",
      "  WindowsPath('C:/Workspace/Practice/Python/PyTorch/New_CAMUS_png/CAMUS/Training/patient0042/4CH_ES_gt.png')),\n",
      " (WindowsPath('C:/Workspace/Practice/Python/PyTorch/New_CAMUS_png/CAMUS/Training/patient0043/4CH_ES.png'),\n",
      "  WindowsPath('C:/Workspace/Practice/Python/PyTorch/New_CAMUS_png/CAMUS/Training/patient0043/4CH_ES_gt.png')),\n",
      " (WindowsPath('C:/Workspace/Practice/Python/PyTorch/New_CAMUS_png/CAMUS/Training/patient0044/4CH_ES.png'),\n",
      "  WindowsPath('C:/Workspace/Practice/Python/PyTorch/New_CAMUS_png/CAMUS/Training/patient0044/4CH_ES_gt.png')),\n",
      " (WindowsPath('C:/Workspace/Practice/Python/PyTorch/New_CAMUS_png/CAMUS/Training/patient0045/4CH_ES.png'),\n",
      "  WindowsPath('C:/Workspace/Practice/Python/PyTorch/New_CAMUS_png/CAMUS/Training/patient0045/4CH_ES_gt.png')),\n",
      " (WindowsPath('C:/Workspace/Practice/Python/PyTorch/New_CAMUS_png/CAMUS/Training/patient0046/4CH_ES.png'),\n",
      "  WindowsPath('C:/Workspace/Practice/Python/PyTorch/New_CAMUS_png/CAMUS/Training/patient0046/4CH_ES_gt.png')),\n",
      " (WindowsPath('C:/Workspace/Practice/Python/PyTorch/New_CAMUS_png/CAMUS/Training/patient0047/4CH_ES.png'),\n",
      "  WindowsPath('C:/Workspace/Practice/Python/PyTorch/New_CAMUS_png/CAMUS/Training/patient0047/4CH_ES_gt.png')),\n",
      " (WindowsPath('C:/Workspace/Practice/Python/PyTorch/New_CAMUS_png/CAMUS/Training/patient0048/4CH_ES.png'),\n",
      "  WindowsPath('C:/Workspace/Practice/Python/PyTorch/New_CAMUS_png/CAMUS/Training/patient0048/4CH_ES_gt.png')),\n",
      " (WindowsPath('C:/Workspace/Practice/Python/PyTorch/New_CAMUS_png/CAMUS/Training/patient0049/4CH_ES.png'),\n",
      "  WindowsPath('C:/Workspace/Practice/Python/PyTorch/New_CAMUS_png/CAMUS/Training/patient0049/4CH_ES_gt.png')),\n",
      " (WindowsPath('C:/Workspace/Practice/Python/PyTorch/New_CAMUS_png/CAMUS/Training/patient0050/4CH_ES.png'),\n",
      "  WindowsPath('C:/Workspace/Practice/Python/PyTorch/New_CAMUS_png/CAMUS/Training/patient0050/4CH_ES_gt.png')),\n",
      " (WindowsPath('C:/Workspace/Practice/Python/PyTorch/New_CAMUS_png/CAMUS/Training/patient0051/4CH_ES.png'),\n",
      "  WindowsPath('C:/Workspace/Practice/Python/PyTorch/New_CAMUS_png/CAMUS/Training/patient0051/4CH_ES_gt.png')),\n",
      " (WindowsPath('C:/Workspace/Practice/Python/PyTorch/New_CAMUS_png/CAMUS/Training/patient0052/4CH_ES.png'),\n",
      "  WindowsPath('C:/Workspace/Practice/Python/PyTorch/New_CAMUS_png/CAMUS/Training/patient0052/4CH_ES_gt.png')),\n",
      " (WindowsPath('C:/Workspace/Practice/Python/PyTorch/New_CAMUS_png/CAMUS/Training/patient0053/4CH_ES.png'),\n",
      "  WindowsPath('C:/Workspace/Practice/Python/PyTorch/New_CAMUS_png/CAMUS/Training/patient0053/4CH_ES_gt.png')),\n",
      " (WindowsPath('C:/Workspace/Practice/Python/PyTorch/New_CAMUS_png/CAMUS/Training/patient0054/4CH_ES.png'),\n",
      "  WindowsPath('C:/Workspace/Practice/Python/PyTorch/New_CAMUS_png/CAMUS/Training/patient0054/4CH_ES_gt.png')),\n",
      " (WindowsPath('C:/Workspace/Practice/Python/PyTorch/New_CAMUS_png/CAMUS/Training/patient0055/4CH_ES.png'),\n",
      "  WindowsPath('C:/Workspace/Practice/Python/PyTorch/New_CAMUS_png/CAMUS/Training/patient0055/4CH_ES_gt.png')),\n",
      " (WindowsPath('C:/Workspace/Practice/Python/PyTorch/New_CAMUS_png/CAMUS/Training/patient0056/4CH_ES.png'),\n",
      "  WindowsPath('C:/Workspace/Practice/Python/PyTorch/New_CAMUS_png/CAMUS/Training/patient0056/4CH_ES_gt.png')),\n",
      " (WindowsPath('C:/Workspace/Practice/Python/PyTorch/New_CAMUS_png/CAMUS/Training/patient0057/4CH_ES.png'),\n",
      "  WindowsPath('C:/Workspace/Practice/Python/PyTorch/New_CAMUS_png/CAMUS/Training/patient0057/4CH_ES_gt.png')),\n",
      " (WindowsPath('C:/Workspace/Practice/Python/PyTorch/New_CAMUS_png/CAMUS/Training/patient0058/4CH_ES.png'),\n",
      "  WindowsPath('C:/Workspace/Practice/Python/PyTorch/New_CAMUS_png/CAMUS/Training/patient0058/4CH_ES_gt.png')),\n",
      " (WindowsPath('C:/Workspace/Practice/Python/PyTorch/New_CAMUS_png/CAMUS/Training/patient0059/4CH_ES.png'),\n",
      "  WindowsPath('C:/Workspace/Practice/Python/PyTorch/New_CAMUS_png/CAMUS/Training/patient0059/4CH_ES_gt.png')),\n",
      " (WindowsPath('C:/Workspace/Practice/Python/PyTorch/New_CAMUS_png/CAMUS/Training/patient0060/4CH_ES.png'),\n",
      "  WindowsPath('C:/Workspace/Practice/Python/PyTorch/New_CAMUS_png/CAMUS/Training/patient0060/4CH_ES_gt.png')),\n",
      " (WindowsPath('C:/Workspace/Practice/Python/PyTorch/New_CAMUS_png/CAMUS/Training/patient0061/4CH_ES.png'),\n",
      "  WindowsPath('C:/Workspace/Practice/Python/PyTorch/New_CAMUS_png/CAMUS/Training/patient0061/4CH_ES_gt.png')),\n",
      " (WindowsPath('C:/Workspace/Practice/Python/PyTorch/New_CAMUS_png/CAMUS/Training/patient0062/4CH_ES.png'),\n",
      "  WindowsPath('C:/Workspace/Practice/Python/PyTorch/New_CAMUS_png/CAMUS/Training/patient0062/4CH_ES_gt.png')),\n",
      " (WindowsPath('C:/Workspace/Practice/Python/PyTorch/New_CAMUS_png/CAMUS/Training/patient0063/4CH_ES.png'),\n",
      "  WindowsPath('C:/Workspace/Practice/Python/PyTorch/New_CAMUS_png/CAMUS/Training/patient0063/4CH_ES_gt.png')),\n",
      " (WindowsPath('C:/Workspace/Practice/Python/PyTorch/New_CAMUS_png/CAMUS/Training/patient0064/4CH_ES.png'),\n",
      "  WindowsPath('C:/Workspace/Practice/Python/PyTorch/New_CAMUS_png/CAMUS/Training/patient0064/4CH_ES_gt.png')),\n",
      " (WindowsPath('C:/Workspace/Practice/Python/PyTorch/New_CAMUS_png/CAMUS/Training/patient0065/4CH_ES.png'),\n",
      "  WindowsPath('C:/Workspace/Practice/Python/PyTorch/New_CAMUS_png/CAMUS/Training/patient0065/4CH_ES_gt.png')),\n",
      " (WindowsPath('C:/Workspace/Practice/Python/PyTorch/New_CAMUS_png/CAMUS/Training/patient0066/4CH_ES.png'),\n",
      "  WindowsPath('C:/Workspace/Practice/Python/PyTorch/New_CAMUS_png/CAMUS/Training/patient0066/4CH_ES_gt.png')),\n",
      " (WindowsPath('C:/Workspace/Practice/Python/PyTorch/New_CAMUS_png/CAMUS/Training/patient0067/4CH_ES.png'),\n",
      "  WindowsPath('C:/Workspace/Practice/Python/PyTorch/New_CAMUS_png/CAMUS/Training/patient0067/4CH_ES_gt.png')),\n",
      " (WindowsPath('C:/Workspace/Practice/Python/PyTorch/New_CAMUS_png/CAMUS/Training/patient0068/4CH_ES.png'),\n",
      "  WindowsPath('C:/Workspace/Practice/Python/PyTorch/New_CAMUS_png/CAMUS/Training/patient0068/4CH_ES_gt.png')),\n",
      " (WindowsPath('C:/Workspace/Practice/Python/PyTorch/New_CAMUS_png/CAMUS/Training/patient0069/4CH_ES.png'),\n",
      "  WindowsPath('C:/Workspace/Practice/Python/PyTorch/New_CAMUS_png/CAMUS/Training/patient0069/4CH_ES_gt.png')),\n",
      " (WindowsPath('C:/Workspace/Practice/Python/PyTorch/New_CAMUS_png/CAMUS/Training/patient0070/4CH_ES.png'),\n",
      "  WindowsPath('C:/Workspace/Practice/Python/PyTorch/New_CAMUS_png/CAMUS/Training/patient0070/4CH_ES_gt.png')),\n",
      " (WindowsPath('C:/Workspace/Practice/Python/PyTorch/New_CAMUS_png/CAMUS/Training/patient0071/4CH_ES.png'),\n",
      "  WindowsPath('C:/Workspace/Practice/Python/PyTorch/New_CAMUS_png/CAMUS/Training/patient0071/4CH_ES_gt.png')),\n",
      " (WindowsPath('C:/Workspace/Practice/Python/PyTorch/New_CAMUS_png/CAMUS/Training/patient0072/4CH_ES.png'),\n",
      "  WindowsPath('C:/Workspace/Practice/Python/PyTorch/New_CAMUS_png/CAMUS/Training/patient0072/4CH_ES_gt.png')),\n",
      " (WindowsPath('C:/Workspace/Practice/Python/PyTorch/New_CAMUS_png/CAMUS/Training/patient0073/4CH_ES.png'),\n",
      "  WindowsPath('C:/Workspace/Practice/Python/PyTorch/New_CAMUS_png/CAMUS/Training/patient0073/4CH_ES_gt.png')),\n",
      " (WindowsPath('C:/Workspace/Practice/Python/PyTorch/New_CAMUS_png/CAMUS/Training/patient0074/4CH_ES.png'),\n",
      "  WindowsPath('C:/Workspace/Practice/Python/PyTorch/New_CAMUS_png/CAMUS/Training/patient0074/4CH_ES_gt.png')),\n",
      " (WindowsPath('C:/Workspace/Practice/Python/PyTorch/New_CAMUS_png/CAMUS/Training/patient0075/4CH_ES.png'),\n",
      "  WindowsPath('C:/Workspace/Practice/Python/PyTorch/New_CAMUS_png/CAMUS/Training/patient0075/4CH_ES_gt.png')),\n",
      " (WindowsPath('C:/Workspace/Practice/Python/PyTorch/New_CAMUS_png/CAMUS/Training/patient0076/4CH_ES.png'),\n",
      "  WindowsPath('C:/Workspace/Practice/Python/PyTorch/New_CAMUS_png/CAMUS/Training/patient0076/4CH_ES_gt.png')),\n",
      " (WindowsPath('C:/Workspace/Practice/Python/PyTorch/New_CAMUS_png/CAMUS/Training/patient0077/4CH_ES.png'),\n",
      "  WindowsPath('C:/Workspace/Practice/Python/PyTorch/New_CAMUS_png/CAMUS/Training/patient0077/4CH_ES_gt.png')),\n",
      " (WindowsPath('C:/Workspace/Practice/Python/PyTorch/New_CAMUS_png/CAMUS/Training/patient0078/4CH_ES.png'),\n",
      "  WindowsPath('C:/Workspace/Practice/Python/PyTorch/New_CAMUS_png/CAMUS/Training/patient0078/4CH_ES_gt.png')),\n",
      " (WindowsPath('C:/Workspace/Practice/Python/PyTorch/New_CAMUS_png/CAMUS/Training/patient0079/4CH_ES.png'),\n",
      "  WindowsPath('C:/Workspace/Practice/Python/PyTorch/New_CAMUS_png/CAMUS/Training/patient0079/4CH_ES_gt.png')),\n",
      " (WindowsPath('C:/Workspace/Practice/Python/PyTorch/New_CAMUS_png/CAMUS/Training/patient0080/4CH_ES.png'),\n",
      "  WindowsPath('C:/Workspace/Practice/Python/PyTorch/New_CAMUS_png/CAMUS/Training/patient0080/4CH_ES_gt.png')),\n",
      " (WindowsPath('C:/Workspace/Practice/Python/PyTorch/New_CAMUS_png/CAMUS/Training/patient0081/4CH_ES.png'),\n",
      "  WindowsPath('C:/Workspace/Practice/Python/PyTorch/New_CAMUS_png/CAMUS/Training/patient0081/4CH_ES_gt.png')),\n",
      " (WindowsPath('C:/Workspace/Practice/Python/PyTorch/New_CAMUS_png/CAMUS/Training/patient0082/4CH_ES.png'),\n",
      "  WindowsPath('C:/Workspace/Practice/Python/PyTorch/New_CAMUS_png/CAMUS/Training/patient0082/4CH_ES_gt.png')),\n",
      " (WindowsPath('C:/Workspace/Practice/Python/PyTorch/New_CAMUS_png/CAMUS/Training/patient0083/4CH_ES.png'),\n",
      "  WindowsPath('C:/Workspace/Practice/Python/PyTorch/New_CAMUS_png/CAMUS/Training/patient0083/4CH_ES_gt.png')),\n",
      " (WindowsPath('C:/Workspace/Practice/Python/PyTorch/New_CAMUS_png/CAMUS/Training/patient0084/4CH_ES.png'),\n",
      "  WindowsPath('C:/Workspace/Practice/Python/PyTorch/New_CAMUS_png/CAMUS/Training/patient0084/4CH_ES_gt.png')),\n",
      " (WindowsPath('C:/Workspace/Practice/Python/PyTorch/New_CAMUS_png/CAMUS/Training/patient0085/4CH_ES.png'),\n",
      "  WindowsPath('C:/Workspace/Practice/Python/PyTorch/New_CAMUS_png/CAMUS/Training/patient0085/4CH_ES_gt.png')),\n",
      " (WindowsPath('C:/Workspace/Practice/Python/PyTorch/New_CAMUS_png/CAMUS/Training/patient0086/4CH_ES.png'),\n",
      "  WindowsPath('C:/Workspace/Practice/Python/PyTorch/New_CAMUS_png/CAMUS/Training/patient0086/4CH_ES_gt.png')),\n",
      " (WindowsPath('C:/Workspace/Practice/Python/PyTorch/New_CAMUS_png/CAMUS/Training/patient0087/4CH_ES.png'),\n",
      "  WindowsPath('C:/Workspace/Practice/Python/PyTorch/New_CAMUS_png/CAMUS/Training/patient0087/4CH_ES_gt.png')),\n",
      " (WindowsPath('C:/Workspace/Practice/Python/PyTorch/New_CAMUS_png/CAMUS/Training/patient0088/4CH_ES.png'),\n",
      "  WindowsPath('C:/Workspace/Practice/Python/PyTorch/New_CAMUS_png/CAMUS/Training/patient0088/4CH_ES_gt.png')),\n",
      " (WindowsPath('C:/Workspace/Practice/Python/PyTorch/New_CAMUS_png/CAMUS/Training/patient0089/4CH_ES.png'),\n",
      "  WindowsPath('C:/Workspace/Practice/Python/PyTorch/New_CAMUS_png/CAMUS/Training/patient0089/4CH_ES_gt.png')),\n",
      " (WindowsPath('C:/Workspace/Practice/Python/PyTorch/New_CAMUS_png/CAMUS/Training/patient0090/4CH_ES.png'),\n",
      "  WindowsPath('C:/Workspace/Practice/Python/PyTorch/New_CAMUS_png/CAMUS/Training/patient0090/4CH_ES_gt.png')),\n",
      " (WindowsPath('C:/Workspace/Practice/Python/PyTorch/New_CAMUS_png/CAMUS/Training/patient0091/4CH_ES.png'),\n",
      "  WindowsPath('C:/Workspace/Practice/Python/PyTorch/New_CAMUS_png/CAMUS/Training/patient0091/4CH_ES_gt.png')),\n",
      " (WindowsPath('C:/Workspace/Practice/Python/PyTorch/New_CAMUS_png/CAMUS/Training/patient0092/4CH_ES.png'),\n",
      "  WindowsPath('C:/Workspace/Practice/Python/PyTorch/New_CAMUS_png/CAMUS/Training/patient0092/4CH_ES_gt.png')),\n",
      " (WindowsPath('C:/Workspace/Practice/Python/PyTorch/New_CAMUS_png/CAMUS/Training/patient0093/4CH_ES.png'),\n",
      "  WindowsPath('C:/Workspace/Practice/Python/PyTorch/New_CAMUS_png/CAMUS/Training/patient0093/4CH_ES_gt.png')),\n",
      " (WindowsPath('C:/Workspace/Practice/Python/PyTorch/New_CAMUS_png/CAMUS/Training/patient0094/4CH_ES.png'),\n",
      "  WindowsPath('C:/Workspace/Practice/Python/PyTorch/New_CAMUS_png/CAMUS/Training/patient0094/4CH_ES_gt.png')),\n",
      " (WindowsPath('C:/Workspace/Practice/Python/PyTorch/New_CAMUS_png/CAMUS/Training/patient0095/4CH_ES.png'),\n",
      "  WindowsPath('C:/Workspace/Practice/Python/PyTorch/New_CAMUS_png/CAMUS/Training/patient0095/4CH_ES_gt.png')),\n",
      " (WindowsPath('C:/Workspace/Practice/Python/PyTorch/New_CAMUS_png/CAMUS/Training/patient0096/4CH_ES.png'),\n",
      "  WindowsPath('C:/Workspace/Practice/Python/PyTorch/New_CAMUS_png/CAMUS/Training/patient0096/4CH_ES_gt.png')),\n",
      " (WindowsPath('C:/Workspace/Practice/Python/PyTorch/New_CAMUS_png/CAMUS/Training/patient0097/4CH_ES.png'),\n",
      "  WindowsPath('C:/Workspace/Practice/Python/PyTorch/New_CAMUS_png/CAMUS/Training/patient0097/4CH_ES_gt.png')),\n",
      " (WindowsPath('C:/Workspace/Practice/Python/PyTorch/New_CAMUS_png/CAMUS/Training/patient0098/4CH_ES.png'),\n",
      "  WindowsPath('C:/Workspace/Practice/Python/PyTorch/New_CAMUS_png/CAMUS/Training/patient0098/4CH_ES_gt.png')),\n",
      " (WindowsPath('C:/Workspace/Practice/Python/PyTorch/New_CAMUS_png/CAMUS/Training/patient0099/4CH_ES.png'),\n",
      "  WindowsPath('C:/Workspace/Practice/Python/PyTorch/New_CAMUS_png/CAMUS/Training/patient0099/4CH_ES_gt.png')),\n",
      " (WindowsPath('C:/Workspace/Practice/Python/PyTorch/New_CAMUS_png/CAMUS/Training/patient0100/4CH_ES.png'),\n",
      "  WindowsPath('C:/Workspace/Practice/Python/PyTorch/New_CAMUS_png/CAMUS/Training/patient0100/4CH_ES_gt.png')),\n",
      " (WindowsPath('C:/Workspace/Practice/Python/PyTorch/New_CAMUS_png/CAMUS/Training/patient0101/4CH_ES.png'),\n",
      "  WindowsPath('C:/Workspace/Practice/Python/PyTorch/New_CAMUS_png/CAMUS/Training/patient0101/4CH_ES_gt.png')),\n",
      " (WindowsPath('C:/Workspace/Practice/Python/PyTorch/New_CAMUS_png/CAMUS/Training/patient0102/4CH_ES.png'),\n",
      "  WindowsPath('C:/Workspace/Practice/Python/PyTorch/New_CAMUS_png/CAMUS/Training/patient0102/4CH_ES_gt.png')),\n",
      " (WindowsPath('C:/Workspace/Practice/Python/PyTorch/New_CAMUS_png/CAMUS/Training/patient0103/4CH_ES.png'),\n",
      "  WindowsPath('C:/Workspace/Practice/Python/PyTorch/New_CAMUS_png/CAMUS/Training/patient0103/4CH_ES_gt.png')),\n",
      " (WindowsPath('C:/Workspace/Practice/Python/PyTorch/New_CAMUS_png/CAMUS/Training/patient0104/4CH_ES.png'),\n",
      "  WindowsPath('C:/Workspace/Practice/Python/PyTorch/New_CAMUS_png/CAMUS/Training/patient0104/4CH_ES_gt.png')),\n",
      " (WindowsPath('C:/Workspace/Practice/Python/PyTorch/New_CAMUS_png/CAMUS/Training/patient0105/4CH_ES.png'),\n",
      "  WindowsPath('C:/Workspace/Practice/Python/PyTorch/New_CAMUS_png/CAMUS/Training/patient0105/4CH_ES_gt.png')),\n",
      " (WindowsPath('C:/Workspace/Practice/Python/PyTorch/New_CAMUS_png/CAMUS/Training/patient0106/4CH_ES.png'),\n",
      "  WindowsPath('C:/Workspace/Practice/Python/PyTorch/New_CAMUS_png/CAMUS/Training/patient0106/4CH_ES_gt.png')),\n",
      " (WindowsPath('C:/Workspace/Practice/Python/PyTorch/New_CAMUS_png/CAMUS/Training/patient0107/4CH_ES.png'),\n",
      "  WindowsPath('C:/Workspace/Practice/Python/PyTorch/New_CAMUS_png/CAMUS/Training/patient0107/4CH_ES_gt.png')),\n",
      " (WindowsPath('C:/Workspace/Practice/Python/PyTorch/New_CAMUS_png/CAMUS/Training/patient0108/4CH_ES.png'),\n",
      "  WindowsPath('C:/Workspace/Practice/Python/PyTorch/New_CAMUS_png/CAMUS/Training/patient0108/4CH_ES_gt.png')),\n",
      " (WindowsPath('C:/Workspace/Practice/Python/PyTorch/New_CAMUS_png/CAMUS/Training/patient0109/4CH_ES.png'),\n",
      "  WindowsPath('C:/Workspace/Practice/Python/PyTorch/New_CAMUS_png/CAMUS/Training/patient0109/4CH_ES_gt.png')),\n",
      " (WindowsPath('C:/Workspace/Practice/Python/PyTorch/New_CAMUS_png/CAMUS/Training/patient0110/4CH_ES.png'),\n",
      "  WindowsPath('C:/Workspace/Practice/Python/PyTorch/New_CAMUS_png/CAMUS/Training/patient0110/4CH_ES_gt.png')),\n",
      " (WindowsPath('C:/Workspace/Practice/Python/PyTorch/New_CAMUS_png/CAMUS/Training/patient0111/4CH_ES.png'),\n",
      "  WindowsPath('C:/Workspace/Practice/Python/PyTorch/New_CAMUS_png/CAMUS/Training/patient0111/4CH_ES_gt.png')),\n",
      " (WindowsPath('C:/Workspace/Practice/Python/PyTorch/New_CAMUS_png/CAMUS/Training/patient0112/4CH_ES.png'),\n",
      "  WindowsPath('C:/Workspace/Practice/Python/PyTorch/New_CAMUS_png/CAMUS/Training/patient0112/4CH_ES_gt.png')),\n",
      " (WindowsPath('C:/Workspace/Practice/Python/PyTorch/New_CAMUS_png/CAMUS/Training/patient0113/4CH_ES.png'),\n",
      "  WindowsPath('C:/Workspace/Practice/Python/PyTorch/New_CAMUS_png/CAMUS/Training/patient0113/4CH_ES_gt.png')),\n",
      " (WindowsPath('C:/Workspace/Practice/Python/PyTorch/New_CAMUS_png/CAMUS/Training/patient0114/4CH_ES.png'),\n",
      "  WindowsPath('C:/Workspace/Practice/Python/PyTorch/New_CAMUS_png/CAMUS/Training/patient0114/4CH_ES_gt.png')),\n",
      " (WindowsPath('C:/Workspace/Practice/Python/PyTorch/New_CAMUS_png/CAMUS/Training/patient0115/4CH_ES.png'),\n",
      "  WindowsPath('C:/Workspace/Practice/Python/PyTorch/New_CAMUS_png/CAMUS/Training/patient0115/4CH_ES_gt.png')),\n",
      " (WindowsPath('C:/Workspace/Practice/Python/PyTorch/New_CAMUS_png/CAMUS/Training/patient0116/4CH_ES.png'),\n",
      "  WindowsPath('C:/Workspace/Practice/Python/PyTorch/New_CAMUS_png/CAMUS/Training/patient0116/4CH_ES_gt.png')),\n",
      " (WindowsPath('C:/Workspace/Practice/Python/PyTorch/New_CAMUS_png/CAMUS/Training/patient0117/4CH_ES.png'),\n",
      "  WindowsPath('C:/Workspace/Practice/Python/PyTorch/New_CAMUS_png/CAMUS/Training/patient0117/4CH_ES_gt.png')),\n",
      " (WindowsPath('C:/Workspace/Practice/Python/PyTorch/New_CAMUS_png/CAMUS/Training/patient0118/4CH_ES.png'),\n",
      "  WindowsPath('C:/Workspace/Practice/Python/PyTorch/New_CAMUS_png/CAMUS/Training/patient0118/4CH_ES_gt.png')),\n",
      " (WindowsPath('C:/Workspace/Practice/Python/PyTorch/New_CAMUS_png/CAMUS/Training/patient0119/4CH_ES.png'),\n",
      "  WindowsPath('C:/Workspace/Practice/Python/PyTorch/New_CAMUS_png/CAMUS/Training/patient0119/4CH_ES_gt.png')),\n",
      " (WindowsPath('C:/Workspace/Practice/Python/PyTorch/New_CAMUS_png/CAMUS/Training/patient0120/4CH_ES.png'),\n",
      "  WindowsPath('C:/Workspace/Practice/Python/PyTorch/New_CAMUS_png/CAMUS/Training/patient0120/4CH_ES_gt.png')),\n",
      " (WindowsPath('C:/Workspace/Practice/Python/PyTorch/New_CAMUS_png/CAMUS/Training/patient0121/4CH_ES.png'),\n",
      "  WindowsPath('C:/Workspace/Practice/Python/PyTorch/New_CAMUS_png/CAMUS/Training/patient0121/4CH_ES_gt.png')),\n",
      " (WindowsPath('C:/Workspace/Practice/Python/PyTorch/New_CAMUS_png/CAMUS/Training/patient0122/4CH_ES.png'),\n",
      "  WindowsPath('C:/Workspace/Practice/Python/PyTorch/New_CAMUS_png/CAMUS/Training/patient0122/4CH_ES_gt.png')),\n",
      " (WindowsPath('C:/Workspace/Practice/Python/PyTorch/New_CAMUS_png/CAMUS/Training/patient0123/4CH_ES.png'),\n",
      "  WindowsPath('C:/Workspace/Practice/Python/PyTorch/New_CAMUS_png/CAMUS/Training/patient0123/4CH_ES_gt.png')),\n",
      " (WindowsPath('C:/Workspace/Practice/Python/PyTorch/New_CAMUS_png/CAMUS/Training/patient0124/4CH_ES.png'),\n",
      "  WindowsPath('C:/Workspace/Practice/Python/PyTorch/New_CAMUS_png/CAMUS/Training/patient0124/4CH_ES_gt.png')),\n",
      " (WindowsPath('C:/Workspace/Practice/Python/PyTorch/New_CAMUS_png/CAMUS/Training/patient0125/4CH_ES.png'),\n",
      "  WindowsPath('C:/Workspace/Practice/Python/PyTorch/New_CAMUS_png/CAMUS/Training/patient0125/4CH_ES_gt.png')),\n",
      " (WindowsPath('C:/Workspace/Practice/Python/PyTorch/New_CAMUS_png/CAMUS/Training/patient0126/4CH_ES.png'),\n",
      "  WindowsPath('C:/Workspace/Practice/Python/PyTorch/New_CAMUS_png/CAMUS/Training/patient0126/4CH_ES_gt.png')),\n",
      " (WindowsPath('C:/Workspace/Practice/Python/PyTorch/New_CAMUS_png/CAMUS/Training/patient0127/4CH_ES.png'),\n",
      "  WindowsPath('C:/Workspace/Practice/Python/PyTorch/New_CAMUS_png/CAMUS/Training/patient0127/4CH_ES_gt.png')),\n",
      " (WindowsPath('C:/Workspace/Practice/Python/PyTorch/New_CAMUS_png/CAMUS/Training/patient0128/4CH_ES.png'),\n",
      "  WindowsPath('C:/Workspace/Practice/Python/PyTorch/New_CAMUS_png/CAMUS/Training/patient0128/4CH_ES_gt.png')),\n",
      " (WindowsPath('C:/Workspace/Practice/Python/PyTorch/New_CAMUS_png/CAMUS/Training/patient0129/4CH_ES.png'),\n",
      "  WindowsPath('C:/Workspace/Practice/Python/PyTorch/New_CAMUS_png/CAMUS/Training/patient0129/4CH_ES_gt.png')),\n",
      " (WindowsPath('C:/Workspace/Practice/Python/PyTorch/New_CAMUS_png/CAMUS/Training/patient0130/4CH_ES.png'),\n",
      "  WindowsPath('C:/Workspace/Practice/Python/PyTorch/New_CAMUS_png/CAMUS/Training/patient0130/4CH_ES_gt.png')),\n",
      " (WindowsPath('C:/Workspace/Practice/Python/PyTorch/New_CAMUS_png/CAMUS/Training/patient0131/4CH_ES.png'),\n",
      "  WindowsPath('C:/Workspace/Practice/Python/PyTorch/New_CAMUS_png/CAMUS/Training/patient0131/4CH_ES_gt.png')),\n",
      " (WindowsPath('C:/Workspace/Practice/Python/PyTorch/New_CAMUS_png/CAMUS/Training/patient0132/4CH_ES.png'),\n",
      "  WindowsPath('C:/Workspace/Practice/Python/PyTorch/New_CAMUS_png/CAMUS/Training/patient0132/4CH_ES_gt.png')),\n",
      " (WindowsPath('C:/Workspace/Practice/Python/PyTorch/New_CAMUS_png/CAMUS/Training/patient0133/4CH_ES.png'),\n",
      "  WindowsPath('C:/Workspace/Practice/Python/PyTorch/New_CAMUS_png/CAMUS/Training/patient0133/4CH_ES_gt.png')),\n",
      " (WindowsPath('C:/Workspace/Practice/Python/PyTorch/New_CAMUS_png/CAMUS/Training/patient0134/4CH_ES.png'),\n",
      "  WindowsPath('C:/Workspace/Practice/Python/PyTorch/New_CAMUS_png/CAMUS/Training/patient0134/4CH_ES_gt.png')),\n",
      " (WindowsPath('C:/Workspace/Practice/Python/PyTorch/New_CAMUS_png/CAMUS/Training/patient0135/4CH_ES.png'),\n",
      "  WindowsPath('C:/Workspace/Practice/Python/PyTorch/New_CAMUS_png/CAMUS/Training/patient0135/4CH_ES_gt.png')),\n",
      " (WindowsPath('C:/Workspace/Practice/Python/PyTorch/New_CAMUS_png/CAMUS/Training/patient0136/4CH_ES.png'),\n",
      "  WindowsPath('C:/Workspace/Practice/Python/PyTorch/New_CAMUS_png/CAMUS/Training/patient0136/4CH_ES_gt.png')),\n",
      " (WindowsPath('C:/Workspace/Practice/Python/PyTorch/New_CAMUS_png/CAMUS/Training/patient0137/4CH_ES.png'),\n",
      "  WindowsPath('C:/Workspace/Practice/Python/PyTorch/New_CAMUS_png/CAMUS/Training/patient0137/4CH_ES_gt.png')),\n",
      " (WindowsPath('C:/Workspace/Practice/Python/PyTorch/New_CAMUS_png/CAMUS/Training/patient0138/4CH_ES.png'),\n",
      "  WindowsPath('C:/Workspace/Practice/Python/PyTorch/New_CAMUS_png/CAMUS/Training/patient0138/4CH_ES_gt.png')),\n",
      " (WindowsPath('C:/Workspace/Practice/Python/PyTorch/New_CAMUS_png/CAMUS/Training/patient0139/4CH_ES.png'),\n",
      "  WindowsPath('C:/Workspace/Practice/Python/PyTorch/New_CAMUS_png/CAMUS/Training/patient0139/4CH_ES_gt.png')),\n",
      " (WindowsPath('C:/Workspace/Practice/Python/PyTorch/New_CAMUS_png/CAMUS/Training/patient0140/4CH_ES.png'),\n",
      "  WindowsPath('C:/Workspace/Practice/Python/PyTorch/New_CAMUS_png/CAMUS/Training/patient0140/4CH_ES_gt.png')),\n",
      " (WindowsPath('C:/Workspace/Practice/Python/PyTorch/New_CAMUS_png/CAMUS/Training/patient0141/4CH_ES.png'),\n",
      "  WindowsPath('C:/Workspace/Practice/Python/PyTorch/New_CAMUS_png/CAMUS/Training/patient0141/4CH_ES_gt.png')),\n",
      " (WindowsPath('C:/Workspace/Practice/Python/PyTorch/New_CAMUS_png/CAMUS/Training/patient0142/4CH_ES.png'),\n",
      "  WindowsPath('C:/Workspace/Practice/Python/PyTorch/New_CAMUS_png/CAMUS/Training/patient0142/4CH_ES_gt.png')),\n",
      " (WindowsPath('C:/Workspace/Practice/Python/PyTorch/New_CAMUS_png/CAMUS/Training/patient0143/4CH_ES.png'),\n",
      "  WindowsPath('C:/Workspace/Practice/Python/PyTorch/New_CAMUS_png/CAMUS/Training/patient0143/4CH_ES_gt.png')),\n",
      " (WindowsPath('C:/Workspace/Practice/Python/PyTorch/New_CAMUS_png/CAMUS/Training/patient0144/4CH_ES.png'),\n",
      "  WindowsPath('C:/Workspace/Practice/Python/PyTorch/New_CAMUS_png/CAMUS/Training/patient0144/4CH_ES_gt.png')),\n",
      " (WindowsPath('C:/Workspace/Practice/Python/PyTorch/New_CAMUS_png/CAMUS/Training/patient0145/4CH_ES.png'),\n",
      "  WindowsPath('C:/Workspace/Practice/Python/PyTorch/New_CAMUS_png/CAMUS/Training/patient0145/4CH_ES_gt.png')),\n",
      " (WindowsPath('C:/Workspace/Practice/Python/PyTorch/New_CAMUS_png/CAMUS/Training/patient0146/4CH_ES.png'),\n",
      "  WindowsPath('C:/Workspace/Practice/Python/PyTorch/New_CAMUS_png/CAMUS/Training/patient0146/4CH_ES_gt.png')),\n",
      " (WindowsPath('C:/Workspace/Practice/Python/PyTorch/New_CAMUS_png/CAMUS/Training/patient0147/4CH_ES.png'),\n",
      "  WindowsPath('C:/Workspace/Practice/Python/PyTorch/New_CAMUS_png/CAMUS/Training/patient0147/4CH_ES_gt.png')),\n",
      " (WindowsPath('C:/Workspace/Practice/Python/PyTorch/New_CAMUS_png/CAMUS/Training/patient0148/4CH_ES.png'),\n",
      "  WindowsPath('C:/Workspace/Practice/Python/PyTorch/New_CAMUS_png/CAMUS/Training/patient0148/4CH_ES_gt.png')),\n",
      " (WindowsPath('C:/Workspace/Practice/Python/PyTorch/New_CAMUS_png/CAMUS/Training/patient0149/4CH_ES.png'),\n",
      "  WindowsPath('C:/Workspace/Practice/Python/PyTorch/New_CAMUS_png/CAMUS/Training/patient0149/4CH_ES_gt.png')),\n",
      " (WindowsPath('C:/Workspace/Practice/Python/PyTorch/New_CAMUS_png/CAMUS/Training/patient0150/4CH_ES.png'),\n",
      "  WindowsPath('C:/Workspace/Practice/Python/PyTorch/New_CAMUS_png/CAMUS/Training/patient0150/4CH_ES_gt.png')),\n",
      " (WindowsPath('C:/Workspace/Practice/Python/PyTorch/New_CAMUS_png/CAMUS/Training/patient0151/4CH_ES.png'),\n",
      "  WindowsPath('C:/Workspace/Practice/Python/PyTorch/New_CAMUS_png/CAMUS/Training/patient0151/4CH_ES_gt.png')),\n",
      " (WindowsPath('C:/Workspace/Practice/Python/PyTorch/New_CAMUS_png/CAMUS/Training/patient0152/4CH_ES.png'),\n",
      "  WindowsPath('C:/Workspace/Practice/Python/PyTorch/New_CAMUS_png/CAMUS/Training/patient0152/4CH_ES_gt.png')),\n",
      " (WindowsPath('C:/Workspace/Practice/Python/PyTorch/New_CAMUS_png/CAMUS/Training/patient0153/4CH_ES.png'),\n",
      "  WindowsPath('C:/Workspace/Practice/Python/PyTorch/New_CAMUS_png/CAMUS/Training/patient0153/4CH_ES_gt.png')),\n",
      " (WindowsPath('C:/Workspace/Practice/Python/PyTorch/New_CAMUS_png/CAMUS/Training/patient0154/4CH_ES.png'),\n",
      "  WindowsPath('C:/Workspace/Practice/Python/PyTorch/New_CAMUS_png/CAMUS/Training/patient0154/4CH_ES_gt.png')),\n",
      " (WindowsPath('C:/Workspace/Practice/Python/PyTorch/New_CAMUS_png/CAMUS/Training/patient0155/4CH_ES.png'),\n",
      "  WindowsPath('C:/Workspace/Practice/Python/PyTorch/New_CAMUS_png/CAMUS/Training/patient0155/4CH_ES_gt.png')),\n",
      " (WindowsPath('C:/Workspace/Practice/Python/PyTorch/New_CAMUS_png/CAMUS/Training/patient0156/4CH_ES.png'),\n",
      "  WindowsPath('C:/Workspace/Practice/Python/PyTorch/New_CAMUS_png/CAMUS/Training/patient0156/4CH_ES_gt.png')),\n",
      " (WindowsPath('C:/Workspace/Practice/Python/PyTorch/New_CAMUS_png/CAMUS/Training/patient0157/4CH_ES.png'),\n",
      "  WindowsPath('C:/Workspace/Practice/Python/PyTorch/New_CAMUS_png/CAMUS/Training/patient0157/4CH_ES_gt.png')),\n",
      " (WindowsPath('C:/Workspace/Practice/Python/PyTorch/New_CAMUS_png/CAMUS/Training/patient0158/4CH_ES.png'),\n",
      "  WindowsPath('C:/Workspace/Practice/Python/PyTorch/New_CAMUS_png/CAMUS/Training/patient0158/4CH_ES_gt.png')),\n",
      " (WindowsPath('C:/Workspace/Practice/Python/PyTorch/New_CAMUS_png/CAMUS/Training/patient0159/4CH_ES.png'),\n",
      "  WindowsPath('C:/Workspace/Practice/Python/PyTorch/New_CAMUS_png/CAMUS/Training/patient0159/4CH_ES_gt.png')),\n",
      " (WindowsPath('C:/Workspace/Practice/Python/PyTorch/New_CAMUS_png/CAMUS/Training/patient0160/4CH_ES.png'),\n",
      "  WindowsPath('C:/Workspace/Practice/Python/PyTorch/New_CAMUS_png/CAMUS/Training/patient0160/4CH_ES_gt.png')),\n",
      " (WindowsPath('C:/Workspace/Practice/Python/PyTorch/New_CAMUS_png/CAMUS/Training/patient0161/4CH_ES.png'),\n",
      "  WindowsPath('C:/Workspace/Practice/Python/PyTorch/New_CAMUS_png/CAMUS/Training/patient0161/4CH_ES_gt.png')),\n",
      " (WindowsPath('C:/Workspace/Practice/Python/PyTorch/New_CAMUS_png/CAMUS/Training/patient0162/4CH_ES.png'),\n",
      "  WindowsPath('C:/Workspace/Practice/Python/PyTorch/New_CAMUS_png/CAMUS/Training/patient0162/4CH_ES_gt.png')),\n",
      " (WindowsPath('C:/Workspace/Practice/Python/PyTorch/New_CAMUS_png/CAMUS/Training/patient0163/4CH_ES.png'),\n",
      "  WindowsPath('C:/Workspace/Practice/Python/PyTorch/New_CAMUS_png/CAMUS/Training/patient0163/4CH_ES_gt.png')),\n",
      " (WindowsPath('C:/Workspace/Practice/Python/PyTorch/New_CAMUS_png/CAMUS/Training/patient0164/4CH_ES.png'),\n",
      "  WindowsPath('C:/Workspace/Practice/Python/PyTorch/New_CAMUS_png/CAMUS/Training/patient0164/4CH_ES_gt.png')),\n",
      " (WindowsPath('C:/Workspace/Practice/Python/PyTorch/New_CAMUS_png/CAMUS/Training/patient0165/4CH_ES.png'),\n",
      "  WindowsPath('C:/Workspace/Practice/Python/PyTorch/New_CAMUS_png/CAMUS/Training/patient0165/4CH_ES_gt.png')),\n",
      " (WindowsPath('C:/Workspace/Practice/Python/PyTorch/New_CAMUS_png/CAMUS/Training/patient0166/4CH_ES.png'),\n",
      "  WindowsPath('C:/Workspace/Practice/Python/PyTorch/New_CAMUS_png/CAMUS/Training/patient0166/4CH_ES_gt.png')),\n",
      " (WindowsPath('C:/Workspace/Practice/Python/PyTorch/New_CAMUS_png/CAMUS/Training/patient0167/4CH_ES.png'),\n",
      "  WindowsPath('C:/Workspace/Practice/Python/PyTorch/New_CAMUS_png/CAMUS/Training/patient0167/4CH_ES_gt.png')),\n",
      " (WindowsPath('C:/Workspace/Practice/Python/PyTorch/New_CAMUS_png/CAMUS/Training/patient0168/4CH_ES.png'),\n",
      "  WindowsPath('C:/Workspace/Practice/Python/PyTorch/New_CAMUS_png/CAMUS/Training/patient0168/4CH_ES_gt.png')),\n",
      " (WindowsPath('C:/Workspace/Practice/Python/PyTorch/New_CAMUS_png/CAMUS/Training/patient0169/4CH_ES.png'),\n",
      "  WindowsPath('C:/Workspace/Practice/Python/PyTorch/New_CAMUS_png/CAMUS/Training/patient0169/4CH_ES_gt.png')),\n",
      " (WindowsPath('C:/Workspace/Practice/Python/PyTorch/New_CAMUS_png/CAMUS/Training/patient0170/4CH_ES.png'),\n",
      "  WindowsPath('C:/Workspace/Practice/Python/PyTorch/New_CAMUS_png/CAMUS/Training/patient0170/4CH_ES_gt.png')),\n",
      " (WindowsPath('C:/Workspace/Practice/Python/PyTorch/New_CAMUS_png/CAMUS/Training/patient0171/4CH_ES.png'),\n",
      "  WindowsPath('C:/Workspace/Practice/Python/PyTorch/New_CAMUS_png/CAMUS/Training/patient0171/4CH_ES_gt.png')),\n",
      " (WindowsPath('C:/Workspace/Practice/Python/PyTorch/New_CAMUS_png/CAMUS/Training/patient0172/4CH_ES.png'),\n",
      "  WindowsPath('C:/Workspace/Practice/Python/PyTorch/New_CAMUS_png/CAMUS/Training/patient0172/4CH_ES_gt.png')),\n",
      " (WindowsPath('C:/Workspace/Practice/Python/PyTorch/New_CAMUS_png/CAMUS/Training/patient0173/4CH_ES.png'),\n",
      "  WindowsPath('C:/Workspace/Practice/Python/PyTorch/New_CAMUS_png/CAMUS/Training/patient0173/4CH_ES_gt.png')),\n",
      " (WindowsPath('C:/Workspace/Practice/Python/PyTorch/New_CAMUS_png/CAMUS/Training/patient0174/4CH_ES.png'),\n",
      "  WindowsPath('C:/Workspace/Practice/Python/PyTorch/New_CAMUS_png/CAMUS/Training/patient0174/4CH_ES_gt.png')),\n",
      " (WindowsPath('C:/Workspace/Practice/Python/PyTorch/New_CAMUS_png/CAMUS/Training/patient0175/4CH_ES.png'),\n",
      "  WindowsPath('C:/Workspace/Practice/Python/PyTorch/New_CAMUS_png/CAMUS/Training/patient0175/4CH_ES_gt.png')),\n",
      " (WindowsPath('C:/Workspace/Practice/Python/PyTorch/New_CAMUS_png/CAMUS/Training/patient0176/4CH_ES.png'),\n",
      "  WindowsPath('C:/Workspace/Practice/Python/PyTorch/New_CAMUS_png/CAMUS/Training/patient0176/4CH_ES_gt.png')),\n",
      " (WindowsPath('C:/Workspace/Practice/Python/PyTorch/New_CAMUS_png/CAMUS/Training/patient0177/4CH_ES.png'),\n",
      "  WindowsPath('C:/Workspace/Practice/Python/PyTorch/New_CAMUS_png/CAMUS/Training/patient0177/4CH_ES_gt.png')),\n",
      " (WindowsPath('C:/Workspace/Practice/Python/PyTorch/New_CAMUS_png/CAMUS/Training/patient0178/4CH_ES.png'),\n",
      "  WindowsPath('C:/Workspace/Practice/Python/PyTorch/New_CAMUS_png/CAMUS/Training/patient0178/4CH_ES_gt.png')),\n",
      " (WindowsPath('C:/Workspace/Practice/Python/PyTorch/New_CAMUS_png/CAMUS/Training/patient0179/4CH_ES.png'),\n",
      "  WindowsPath('C:/Workspace/Practice/Python/PyTorch/New_CAMUS_png/CAMUS/Training/patient0179/4CH_ES_gt.png')),\n",
      " (WindowsPath('C:/Workspace/Practice/Python/PyTorch/New_CAMUS_png/CAMUS/Training/patient0180/4CH_ES.png'),\n",
      "  WindowsPath('C:/Workspace/Practice/Python/PyTorch/New_CAMUS_png/CAMUS/Training/patient0180/4CH_ES_gt.png')),\n",
      " (WindowsPath('C:/Workspace/Practice/Python/PyTorch/New_CAMUS_png/CAMUS/Training/patient0181/4CH_ES.png'),\n",
      "  WindowsPath('C:/Workspace/Practice/Python/PyTorch/New_CAMUS_png/CAMUS/Training/patient0181/4CH_ES_gt.png')),\n",
      " (WindowsPath('C:/Workspace/Practice/Python/PyTorch/New_CAMUS_png/CAMUS/Training/patient0182/4CH_ES.png'),\n",
      "  WindowsPath('C:/Workspace/Practice/Python/PyTorch/New_CAMUS_png/CAMUS/Training/patient0182/4CH_ES_gt.png')),\n",
      " (WindowsPath('C:/Workspace/Practice/Python/PyTorch/New_CAMUS_png/CAMUS/Training/patient0183/4CH_ES.png'),\n",
      "  WindowsPath('C:/Workspace/Practice/Python/PyTorch/New_CAMUS_png/CAMUS/Training/patient0183/4CH_ES_gt.png')),\n",
      " (WindowsPath('C:/Workspace/Practice/Python/PyTorch/New_CAMUS_png/CAMUS/Training/patient0184/4CH_ES.png'),\n",
      "  WindowsPath('C:/Workspace/Practice/Python/PyTorch/New_CAMUS_png/CAMUS/Training/patient0184/4CH_ES_gt.png')),\n",
      " (WindowsPath('C:/Workspace/Practice/Python/PyTorch/New_CAMUS_png/CAMUS/Training/patient0185/4CH_ES.png'),\n",
      "  WindowsPath('C:/Workspace/Practice/Python/PyTorch/New_CAMUS_png/CAMUS/Training/patient0185/4CH_ES_gt.png')),\n",
      " (WindowsPath('C:/Workspace/Practice/Python/PyTorch/New_CAMUS_png/CAMUS/Training/patient0186/4CH_ES.png'),\n",
      "  WindowsPath('C:/Workspace/Practice/Python/PyTorch/New_CAMUS_png/CAMUS/Training/patient0186/4CH_ES_gt.png')),\n",
      " (WindowsPath('C:/Workspace/Practice/Python/PyTorch/New_CAMUS_png/CAMUS/Training/patient0187/4CH_ES.png'),\n",
      "  WindowsPath('C:/Workspace/Practice/Python/PyTorch/New_CAMUS_png/CAMUS/Training/patient0187/4CH_ES_gt.png')),\n",
      " (WindowsPath('C:/Workspace/Practice/Python/PyTorch/New_CAMUS_png/CAMUS/Training/patient0188/4CH_ES.png'),\n",
      "  WindowsPath('C:/Workspace/Practice/Python/PyTorch/New_CAMUS_png/CAMUS/Training/patient0188/4CH_ES_gt.png')),\n",
      " (WindowsPath('C:/Workspace/Practice/Python/PyTorch/New_CAMUS_png/CAMUS/Training/patient0189/4CH_ES.png'),\n",
      "  WindowsPath('C:/Workspace/Practice/Python/PyTorch/New_CAMUS_png/CAMUS/Training/patient0189/4CH_ES_gt.png')),\n",
      " (WindowsPath('C:/Workspace/Practice/Python/PyTorch/New_CAMUS_png/CAMUS/Training/patient0190/4CH_ES.png'),\n",
      "  WindowsPath('C:/Workspace/Practice/Python/PyTorch/New_CAMUS_png/CAMUS/Training/patient0190/4CH_ES_gt.png')),\n",
      " (WindowsPath('C:/Workspace/Practice/Python/PyTorch/New_CAMUS_png/CAMUS/Training/patient0191/4CH_ES.png'),\n",
      "  WindowsPath('C:/Workspace/Practice/Python/PyTorch/New_CAMUS_png/CAMUS/Training/patient0191/4CH_ES_gt.png')),\n",
      " (WindowsPath('C:/Workspace/Practice/Python/PyTorch/New_CAMUS_png/CAMUS/Training/patient0192/4CH_ES.png'),\n",
      "  WindowsPath('C:/Workspace/Practice/Python/PyTorch/New_CAMUS_png/CAMUS/Training/patient0192/4CH_ES_gt.png')),\n",
      " (WindowsPath('C:/Workspace/Practice/Python/PyTorch/New_CAMUS_png/CAMUS/Training/patient0193/4CH_ES.png'),\n",
      "  WindowsPath('C:/Workspace/Practice/Python/PyTorch/New_CAMUS_png/CAMUS/Training/patient0193/4CH_ES_gt.png')),\n",
      " (WindowsPath('C:/Workspace/Practice/Python/PyTorch/New_CAMUS_png/CAMUS/Training/patient0194/4CH_ES.png'),\n",
      "  WindowsPath('C:/Workspace/Practice/Python/PyTorch/New_CAMUS_png/CAMUS/Training/patient0194/4CH_ES_gt.png')),\n",
      " (WindowsPath('C:/Workspace/Practice/Python/PyTorch/New_CAMUS_png/CAMUS/Training/patient0195/4CH_ES.png'),\n",
      "  WindowsPath('C:/Workspace/Practice/Python/PyTorch/New_CAMUS_png/CAMUS/Training/patient0195/4CH_ES_gt.png')),\n",
      " (WindowsPath('C:/Workspace/Practice/Python/PyTorch/New_CAMUS_png/CAMUS/Training/patient0196/4CH_ES.png'),\n",
      "  WindowsPath('C:/Workspace/Practice/Python/PyTorch/New_CAMUS_png/CAMUS/Training/patient0196/4CH_ES_gt.png')),\n",
      " (WindowsPath('C:/Workspace/Practice/Python/PyTorch/New_CAMUS_png/CAMUS/Training/patient0197/4CH_ES.png'),\n",
      "  WindowsPath('C:/Workspace/Practice/Python/PyTorch/New_CAMUS_png/CAMUS/Training/patient0197/4CH_ES_gt.png')),\n",
      " (WindowsPath('C:/Workspace/Practice/Python/PyTorch/New_CAMUS_png/CAMUS/Training/patient0198/4CH_ES.png'),\n",
      "  WindowsPath('C:/Workspace/Practice/Python/PyTorch/New_CAMUS_png/CAMUS/Training/patient0198/4CH_ES_gt.png')),\n",
      " (WindowsPath('C:/Workspace/Practice/Python/PyTorch/New_CAMUS_png/CAMUS/Training/patient0199/4CH_ES.png'),\n",
      "  WindowsPath('C:/Workspace/Practice/Python/PyTorch/New_CAMUS_png/CAMUS/Training/patient0199/4CH_ES_gt.png')),\n",
      " (WindowsPath('C:/Workspace/Practice/Python/PyTorch/New_CAMUS_png/CAMUS/Training/patient0200/4CH_ES.png'),\n",
      "  WindowsPath('C:/Workspace/Practice/Python/PyTorch/New_CAMUS_png/CAMUS/Training/patient0200/4CH_ES_gt.png')),\n",
      " (WindowsPath('C:/Workspace/Practice/Python/PyTorch/New_CAMUS_png/CAMUS/Training/patient0201/4CH_ES.png'),\n",
      "  WindowsPath('C:/Workspace/Practice/Python/PyTorch/New_CAMUS_png/CAMUS/Training/patient0201/4CH_ES_gt.png')),\n",
      " (WindowsPath('C:/Workspace/Practice/Python/PyTorch/New_CAMUS_png/CAMUS/Training/patient0202/4CH_ES.png'),\n",
      "  WindowsPath('C:/Workspace/Practice/Python/PyTorch/New_CAMUS_png/CAMUS/Training/patient0202/4CH_ES_gt.png')),\n",
      " (WindowsPath('C:/Workspace/Practice/Python/PyTorch/New_CAMUS_png/CAMUS/Training/patient0203/4CH_ES.png'),\n",
      "  WindowsPath('C:/Workspace/Practice/Python/PyTorch/New_CAMUS_png/CAMUS/Training/patient0203/4CH_ES_gt.png')),\n",
      " (WindowsPath('C:/Workspace/Practice/Python/PyTorch/New_CAMUS_png/CAMUS/Training/patient0204/4CH_ES.png'),\n",
      "  WindowsPath('C:/Workspace/Practice/Python/PyTorch/New_CAMUS_png/CAMUS/Training/patient0204/4CH_ES_gt.png')),\n",
      " (WindowsPath('C:/Workspace/Practice/Python/PyTorch/New_CAMUS_png/CAMUS/Training/patient0205/4CH_ES.png'),\n",
      "  WindowsPath('C:/Workspace/Practice/Python/PyTorch/New_CAMUS_png/CAMUS/Training/patient0205/4CH_ES_gt.png')),\n",
      " (WindowsPath('C:/Workspace/Practice/Python/PyTorch/New_CAMUS_png/CAMUS/Training/patient0206/4CH_ES.png'),\n",
      "  WindowsPath('C:/Workspace/Practice/Python/PyTorch/New_CAMUS_png/CAMUS/Training/patient0206/4CH_ES_gt.png')),\n",
      " (WindowsPath('C:/Workspace/Practice/Python/PyTorch/New_CAMUS_png/CAMUS/Training/patient0207/4CH_ES.png'),\n",
      "  WindowsPath('C:/Workspace/Practice/Python/PyTorch/New_CAMUS_png/CAMUS/Training/patient0207/4CH_ES_gt.png')),\n",
      " (WindowsPath('C:/Workspace/Practice/Python/PyTorch/New_CAMUS_png/CAMUS/Training/patient0208/4CH_ES.png'),\n",
      "  WindowsPath('C:/Workspace/Practice/Python/PyTorch/New_CAMUS_png/CAMUS/Training/patient0208/4CH_ES_gt.png')),\n",
      " (WindowsPath('C:/Workspace/Practice/Python/PyTorch/New_CAMUS_png/CAMUS/Training/patient0209/4CH_ES.png'),\n",
      "  WindowsPath('C:/Workspace/Practice/Python/PyTorch/New_CAMUS_png/CAMUS/Training/patient0209/4CH_ES_gt.png')),\n",
      " (WindowsPath('C:/Workspace/Practice/Python/PyTorch/New_CAMUS_png/CAMUS/Training/patient0210/4CH_ES.png'),\n",
      "  WindowsPath('C:/Workspace/Practice/Python/PyTorch/New_CAMUS_png/CAMUS/Training/patient0210/4CH_ES_gt.png')),\n",
      " (WindowsPath('C:/Workspace/Practice/Python/PyTorch/New_CAMUS_png/CAMUS/Training/patient0211/4CH_ES.png'),\n",
      "  WindowsPath('C:/Workspace/Practice/Python/PyTorch/New_CAMUS_png/CAMUS/Training/patient0211/4CH_ES_gt.png')),\n",
      " (WindowsPath('C:/Workspace/Practice/Python/PyTorch/New_CAMUS_png/CAMUS/Training/patient0212/4CH_ES.png'),\n",
      "  WindowsPath('C:/Workspace/Practice/Python/PyTorch/New_CAMUS_png/CAMUS/Training/patient0212/4CH_ES_gt.png')),\n",
      " (WindowsPath('C:/Workspace/Practice/Python/PyTorch/New_CAMUS_png/CAMUS/Training/patient0213/4CH_ES.png'),\n",
      "  WindowsPath('C:/Workspace/Practice/Python/PyTorch/New_CAMUS_png/CAMUS/Training/patient0213/4CH_ES_gt.png')),\n",
      " (WindowsPath('C:/Workspace/Practice/Python/PyTorch/New_CAMUS_png/CAMUS/Training/patient0214/4CH_ES.png'),\n",
      "  WindowsPath('C:/Workspace/Practice/Python/PyTorch/New_CAMUS_png/CAMUS/Training/patient0214/4CH_ES_gt.png')),\n",
      " (WindowsPath('C:/Workspace/Practice/Python/PyTorch/New_CAMUS_png/CAMUS/Training/patient0215/4CH_ES.png'),\n",
      "  WindowsPath('C:/Workspace/Practice/Python/PyTorch/New_CAMUS_png/CAMUS/Training/patient0215/4CH_ES_gt.png')),\n",
      " (WindowsPath('C:/Workspace/Practice/Python/PyTorch/New_CAMUS_png/CAMUS/Training/patient0216/4CH_ES.png'),\n",
      "  WindowsPath('C:/Workspace/Practice/Python/PyTorch/New_CAMUS_png/CAMUS/Training/patient0216/4CH_ES_gt.png')),\n",
      " (WindowsPath('C:/Workspace/Practice/Python/PyTorch/New_CAMUS_png/CAMUS/Training/patient0217/4CH_ES.png'),\n",
      "  WindowsPath('C:/Workspace/Practice/Python/PyTorch/New_CAMUS_png/CAMUS/Training/patient0217/4CH_ES_gt.png')),\n",
      " (WindowsPath('C:/Workspace/Practice/Python/PyTorch/New_CAMUS_png/CAMUS/Training/patient0218/4CH_ES.png'),\n",
      "  WindowsPath('C:/Workspace/Practice/Python/PyTorch/New_CAMUS_png/CAMUS/Training/patient0218/4CH_ES_gt.png')),\n",
      " (WindowsPath('C:/Workspace/Practice/Python/PyTorch/New_CAMUS_png/CAMUS/Training/patient0219/4CH_ES.png'),\n",
      "  WindowsPath('C:/Workspace/Practice/Python/PyTorch/New_CAMUS_png/CAMUS/Training/patient0219/4CH_ES_gt.png')),\n",
      " (WindowsPath('C:/Workspace/Practice/Python/PyTorch/New_CAMUS_png/CAMUS/Training/patient0220/4CH_ES.png'),\n",
      "  WindowsPath('C:/Workspace/Practice/Python/PyTorch/New_CAMUS_png/CAMUS/Training/patient0220/4CH_ES_gt.png')),\n",
      " (WindowsPath('C:/Workspace/Practice/Python/PyTorch/New_CAMUS_png/CAMUS/Training/patient0221/4CH_ES.png'),\n",
      "  WindowsPath('C:/Workspace/Practice/Python/PyTorch/New_CAMUS_png/CAMUS/Training/patient0221/4CH_ES_gt.png')),\n",
      " (WindowsPath('C:/Workspace/Practice/Python/PyTorch/New_CAMUS_png/CAMUS/Training/patient0222/4CH_ES.png'),\n",
      "  WindowsPath('C:/Workspace/Practice/Python/PyTorch/New_CAMUS_png/CAMUS/Training/patient0222/4CH_ES_gt.png')),\n",
      " (WindowsPath('C:/Workspace/Practice/Python/PyTorch/New_CAMUS_png/CAMUS/Training/patient0223/4CH_ES.png'),\n",
      "  WindowsPath('C:/Workspace/Practice/Python/PyTorch/New_CAMUS_png/CAMUS/Training/patient0223/4CH_ES_gt.png')),\n",
      " (WindowsPath('C:/Workspace/Practice/Python/PyTorch/New_CAMUS_png/CAMUS/Training/patient0224/4CH_ES.png'),\n",
      "  WindowsPath('C:/Workspace/Practice/Python/PyTorch/New_CAMUS_png/CAMUS/Training/patient0224/4CH_ES_gt.png')),\n",
      " (WindowsPath('C:/Workspace/Practice/Python/PyTorch/New_CAMUS_png/CAMUS/Training/patient0225/4CH_ES.png'),\n",
      "  WindowsPath('C:/Workspace/Practice/Python/PyTorch/New_CAMUS_png/CAMUS/Training/patient0225/4CH_ES_gt.png')),\n",
      " (WindowsPath('C:/Workspace/Practice/Python/PyTorch/New_CAMUS_png/CAMUS/Training/patient0226/4CH_ES.png'),\n",
      "  WindowsPath('C:/Workspace/Practice/Python/PyTorch/New_CAMUS_png/CAMUS/Training/patient0226/4CH_ES_gt.png')),\n",
      " (WindowsPath('C:/Workspace/Practice/Python/PyTorch/New_CAMUS_png/CAMUS/Training/patient0227/4CH_ES.png'),\n",
      "  WindowsPath('C:/Workspace/Practice/Python/PyTorch/New_CAMUS_png/CAMUS/Training/patient0227/4CH_ES_gt.png')),\n",
      " (WindowsPath('C:/Workspace/Practice/Python/PyTorch/New_CAMUS_png/CAMUS/Training/patient0228/4CH_ES.png'),\n",
      "  WindowsPath('C:/Workspace/Practice/Python/PyTorch/New_CAMUS_png/CAMUS/Training/patient0228/4CH_ES_gt.png')),\n",
      " (WindowsPath('C:/Workspace/Practice/Python/PyTorch/New_CAMUS_png/CAMUS/Training/patient0229/4CH_ES.png'),\n",
      "  WindowsPath('C:/Workspace/Practice/Python/PyTorch/New_CAMUS_png/CAMUS/Training/patient0229/4CH_ES_gt.png')),\n",
      " (WindowsPath('C:/Workspace/Practice/Python/PyTorch/New_CAMUS_png/CAMUS/Training/patient0230/4CH_ES.png'),\n",
      "  WindowsPath('C:/Workspace/Practice/Python/PyTorch/New_CAMUS_png/CAMUS/Training/patient0230/4CH_ES_gt.png')),\n",
      " (WindowsPath('C:/Workspace/Practice/Python/PyTorch/New_CAMUS_png/CAMUS/Training/patient0231/4CH_ES.png'),\n",
      "  WindowsPath('C:/Workspace/Practice/Python/PyTorch/New_CAMUS_png/CAMUS/Training/patient0231/4CH_ES_gt.png')),\n",
      " (WindowsPath('C:/Workspace/Practice/Python/PyTorch/New_CAMUS_png/CAMUS/Training/patient0232/4CH_ES.png'),\n",
      "  WindowsPath('C:/Workspace/Practice/Python/PyTorch/New_CAMUS_png/CAMUS/Training/patient0232/4CH_ES_gt.png')),\n",
      " (WindowsPath('C:/Workspace/Practice/Python/PyTorch/New_CAMUS_png/CAMUS/Training/patient0233/4CH_ES.png'),\n",
      "  WindowsPath('C:/Workspace/Practice/Python/PyTorch/New_CAMUS_png/CAMUS/Training/patient0233/4CH_ES_gt.png')),\n",
      " (WindowsPath('C:/Workspace/Practice/Python/PyTorch/New_CAMUS_png/CAMUS/Training/patient0234/4CH_ES.png'),\n",
      "  WindowsPath('C:/Workspace/Practice/Python/PyTorch/New_CAMUS_png/CAMUS/Training/patient0234/4CH_ES_gt.png')),\n",
      " (WindowsPath('C:/Workspace/Practice/Python/PyTorch/New_CAMUS_png/CAMUS/Training/patient0235/4CH_ES.png'),\n",
      "  WindowsPath('C:/Workspace/Practice/Python/PyTorch/New_CAMUS_png/CAMUS/Training/patient0235/4CH_ES_gt.png')),\n",
      " (WindowsPath('C:/Workspace/Practice/Python/PyTorch/New_CAMUS_png/CAMUS/Training/patient0236/4CH_ES.png'),\n",
      "  WindowsPath('C:/Workspace/Practice/Python/PyTorch/New_CAMUS_png/CAMUS/Training/patient0236/4CH_ES_gt.png')),\n",
      " (WindowsPath('C:/Workspace/Practice/Python/PyTorch/New_CAMUS_png/CAMUS/Training/patient0237/4CH_ES.png'),\n",
      "  WindowsPath('C:/Workspace/Practice/Python/PyTorch/New_CAMUS_png/CAMUS/Training/patient0237/4CH_ES_gt.png')),\n",
      " (WindowsPath('C:/Workspace/Practice/Python/PyTorch/New_CAMUS_png/CAMUS/Training/patient0238/4CH_ES.png'),\n",
      "  WindowsPath('C:/Workspace/Practice/Python/PyTorch/New_CAMUS_png/CAMUS/Training/patient0238/4CH_ES_gt.png')),\n",
      " (WindowsPath('C:/Workspace/Practice/Python/PyTorch/New_CAMUS_png/CAMUS/Training/patient0239/4CH_ES.png'),\n",
      "  WindowsPath('C:/Workspace/Practice/Python/PyTorch/New_CAMUS_png/CAMUS/Training/patient0239/4CH_ES_gt.png')),\n",
      " (WindowsPath('C:/Workspace/Practice/Python/PyTorch/New_CAMUS_png/CAMUS/Training/patient0240/4CH_ES.png'),\n",
      "  WindowsPath('C:/Workspace/Practice/Python/PyTorch/New_CAMUS_png/CAMUS/Training/patient0240/4CH_ES_gt.png')),\n",
      " (WindowsPath('C:/Workspace/Practice/Python/PyTorch/New_CAMUS_png/CAMUS/Training/patient0241/4CH_ES.png'),\n",
      "  WindowsPath('C:/Workspace/Practice/Python/PyTorch/New_CAMUS_png/CAMUS/Training/patient0241/4CH_ES_gt.png')),\n",
      " (WindowsPath('C:/Workspace/Practice/Python/PyTorch/New_CAMUS_png/CAMUS/Training/patient0242/4CH_ES.png'),\n",
      "  WindowsPath('C:/Workspace/Practice/Python/PyTorch/New_CAMUS_png/CAMUS/Training/patient0242/4CH_ES_gt.png')),\n",
      " (WindowsPath('C:/Workspace/Practice/Python/PyTorch/New_CAMUS_png/CAMUS/Training/patient0243/4CH_ES.png'),\n",
      "  WindowsPath('C:/Workspace/Practice/Python/PyTorch/New_CAMUS_png/CAMUS/Training/patient0243/4CH_ES_gt.png')),\n",
      " (WindowsPath('C:/Workspace/Practice/Python/PyTorch/New_CAMUS_png/CAMUS/Training/patient0244/4CH_ES.png'),\n",
      "  WindowsPath('C:/Workspace/Practice/Python/PyTorch/New_CAMUS_png/CAMUS/Training/patient0244/4CH_ES_gt.png')),\n",
      " (WindowsPath('C:/Workspace/Practice/Python/PyTorch/New_CAMUS_png/CAMUS/Training/patient0245/4CH_ES.png'),\n",
      "  WindowsPath('C:/Workspace/Practice/Python/PyTorch/New_CAMUS_png/CAMUS/Training/patient0245/4CH_ES_gt.png')),\n",
      " (WindowsPath('C:/Workspace/Practice/Python/PyTorch/New_CAMUS_png/CAMUS/Training/patient0246/4CH_ES.png'),\n",
      "  WindowsPath('C:/Workspace/Practice/Python/PyTorch/New_CAMUS_png/CAMUS/Training/patient0246/4CH_ES_gt.png')),\n",
      " (WindowsPath('C:/Workspace/Practice/Python/PyTorch/New_CAMUS_png/CAMUS/Training/patient0247/4CH_ES.png'),\n",
      "  WindowsPath('C:/Workspace/Practice/Python/PyTorch/New_CAMUS_png/CAMUS/Training/patient0247/4CH_ES_gt.png')),\n",
      " (WindowsPath('C:/Workspace/Practice/Python/PyTorch/New_CAMUS_png/CAMUS/Training/patient0248/4CH_ES.png'),\n",
      "  WindowsPath('C:/Workspace/Practice/Python/PyTorch/New_CAMUS_png/CAMUS/Training/patient0248/4CH_ES_gt.png')),\n",
      " (WindowsPath('C:/Workspace/Practice/Python/PyTorch/New_CAMUS_png/CAMUS/Training/patient0249/4CH_ES.png'),\n",
      "  WindowsPath('C:/Workspace/Practice/Python/PyTorch/New_CAMUS_png/CAMUS/Training/patient0249/4CH_ES_gt.png')),\n",
      " (WindowsPath('C:/Workspace/Practice/Python/PyTorch/New_CAMUS_png/CAMUS/Training/patient0250/4CH_ES.png'),\n",
      "  WindowsPath('C:/Workspace/Practice/Python/PyTorch/New_CAMUS_png/CAMUS/Training/patient0250/4CH_ES_gt.png')),\n",
      " (WindowsPath('C:/Workspace/Practice/Python/PyTorch/New_CAMUS_png/CAMUS/Training/patient0251/4CH_ES.png'),\n",
      "  WindowsPath('C:/Workspace/Practice/Python/PyTorch/New_CAMUS_png/CAMUS/Training/patient0251/4CH_ES_gt.png')),\n",
      " (WindowsPath('C:/Workspace/Practice/Python/PyTorch/New_CAMUS_png/CAMUS/Training/patient0252/4CH_ES.png'),\n",
      "  WindowsPath('C:/Workspace/Practice/Python/PyTorch/New_CAMUS_png/CAMUS/Training/patient0252/4CH_ES_gt.png')),\n",
      " (WindowsPath('C:/Workspace/Practice/Python/PyTorch/New_CAMUS_png/CAMUS/Training/patient0253/4CH_ES.png'),\n",
      "  WindowsPath('C:/Workspace/Practice/Python/PyTorch/New_CAMUS_png/CAMUS/Training/patient0253/4CH_ES_gt.png')),\n",
      " (WindowsPath('C:/Workspace/Practice/Python/PyTorch/New_CAMUS_png/CAMUS/Training/patient0254/4CH_ES.png'),\n",
      "  WindowsPath('C:/Workspace/Practice/Python/PyTorch/New_CAMUS_png/CAMUS/Training/patient0254/4CH_ES_gt.png')),\n",
      " (WindowsPath('C:/Workspace/Practice/Python/PyTorch/New_CAMUS_png/CAMUS/Training/patient0255/4CH_ES.png'),\n",
      "  WindowsPath('C:/Workspace/Practice/Python/PyTorch/New_CAMUS_png/CAMUS/Training/patient0255/4CH_ES_gt.png')),\n",
      " (WindowsPath('C:/Workspace/Practice/Python/PyTorch/New_CAMUS_png/CAMUS/Training/patient0256/4CH_ES.png'),\n",
      "  WindowsPath('C:/Workspace/Practice/Python/PyTorch/New_CAMUS_png/CAMUS/Training/patient0256/4CH_ES_gt.png')),\n",
      " (WindowsPath('C:/Workspace/Practice/Python/PyTorch/New_CAMUS_png/CAMUS/Training/patient0257/4CH_ES.png'),\n",
      "  WindowsPath('C:/Workspace/Practice/Python/PyTorch/New_CAMUS_png/CAMUS/Training/patient0257/4CH_ES_gt.png')),\n",
      " (WindowsPath('C:/Workspace/Practice/Python/PyTorch/New_CAMUS_png/CAMUS/Training/patient0258/4CH_ES.png'),\n",
      "  WindowsPath('C:/Workspace/Practice/Python/PyTorch/New_CAMUS_png/CAMUS/Training/patient0258/4CH_ES_gt.png')),\n",
      " (WindowsPath('C:/Workspace/Practice/Python/PyTorch/New_CAMUS_png/CAMUS/Training/patient0259/4CH_ES.png'),\n",
      "  WindowsPath('C:/Workspace/Practice/Python/PyTorch/New_CAMUS_png/CAMUS/Training/patient0259/4CH_ES_gt.png')),\n",
      " (WindowsPath('C:/Workspace/Practice/Python/PyTorch/New_CAMUS_png/CAMUS/Training/patient0260/4CH_ES.png'),\n",
      "  WindowsPath('C:/Workspace/Practice/Python/PyTorch/New_CAMUS_png/CAMUS/Training/patient0260/4CH_ES_gt.png')),\n",
      " (WindowsPath('C:/Workspace/Practice/Python/PyTorch/New_CAMUS_png/CAMUS/Training/patient0261/4CH_ES.png'),\n",
      "  WindowsPath('C:/Workspace/Practice/Python/PyTorch/New_CAMUS_png/CAMUS/Training/patient0261/4CH_ES_gt.png')),\n",
      " (WindowsPath('C:/Workspace/Practice/Python/PyTorch/New_CAMUS_png/CAMUS/Training/patient0262/4CH_ES.png'),\n",
      "  WindowsPath('C:/Workspace/Practice/Python/PyTorch/New_CAMUS_png/CAMUS/Training/patient0262/4CH_ES_gt.png')),\n",
      " (WindowsPath('C:/Workspace/Practice/Python/PyTorch/New_CAMUS_png/CAMUS/Training/patient0263/4CH_ES.png'),\n",
      "  WindowsPath('C:/Workspace/Practice/Python/PyTorch/New_CAMUS_png/CAMUS/Training/patient0263/4CH_ES_gt.png')),\n",
      " (WindowsPath('C:/Workspace/Practice/Python/PyTorch/New_CAMUS_png/CAMUS/Training/patient0264/4CH_ES.png'),\n",
      "  WindowsPath('C:/Workspace/Practice/Python/PyTorch/New_CAMUS_png/CAMUS/Training/patient0264/4CH_ES_gt.png')),\n",
      " (WindowsPath('C:/Workspace/Practice/Python/PyTorch/New_CAMUS_png/CAMUS/Training/patient0265/4CH_ES.png'),\n",
      "  WindowsPath('C:/Workspace/Practice/Python/PyTorch/New_CAMUS_png/CAMUS/Training/patient0265/4CH_ES_gt.png')),\n",
      " (WindowsPath('C:/Workspace/Practice/Python/PyTorch/New_CAMUS_png/CAMUS/Training/patient0266/4CH_ES.png'),\n",
      "  WindowsPath('C:/Workspace/Practice/Python/PyTorch/New_CAMUS_png/CAMUS/Training/patient0266/4CH_ES_gt.png')),\n",
      " (WindowsPath('C:/Workspace/Practice/Python/PyTorch/New_CAMUS_png/CAMUS/Training/patient0267/4CH_ES.png'),\n",
      "  WindowsPath('C:/Workspace/Practice/Python/PyTorch/New_CAMUS_png/CAMUS/Training/patient0267/4CH_ES_gt.png')),\n",
      " (WindowsPath('C:/Workspace/Practice/Python/PyTorch/New_CAMUS_png/CAMUS/Training/patient0268/4CH_ES.png'),\n",
      "  WindowsPath('C:/Workspace/Practice/Python/PyTorch/New_CAMUS_png/CAMUS/Training/patient0268/4CH_ES_gt.png')),\n",
      " (WindowsPath('C:/Workspace/Practice/Python/PyTorch/New_CAMUS_png/CAMUS/Training/patient0269/4CH_ES.png'),\n",
      "  WindowsPath('C:/Workspace/Practice/Python/PyTorch/New_CAMUS_png/CAMUS/Training/patient0269/4CH_ES_gt.png')),\n",
      " (WindowsPath('C:/Workspace/Practice/Python/PyTorch/New_CAMUS_png/CAMUS/Training/patient0270/4CH_ES.png'),\n",
      "  WindowsPath('C:/Workspace/Practice/Python/PyTorch/New_CAMUS_png/CAMUS/Training/patient0270/4CH_ES_gt.png')),\n",
      " (WindowsPath('C:/Workspace/Practice/Python/PyTorch/New_CAMUS_png/CAMUS/Training/patient0271/4CH_ES.png'),\n",
      "  WindowsPath('C:/Workspace/Practice/Python/PyTorch/New_CAMUS_png/CAMUS/Training/patient0271/4CH_ES_gt.png')),\n",
      " (WindowsPath('C:/Workspace/Practice/Python/PyTorch/New_CAMUS_png/CAMUS/Training/patient0272/4CH_ES.png'),\n",
      "  WindowsPath('C:/Workspace/Practice/Python/PyTorch/New_CAMUS_png/CAMUS/Training/patient0272/4CH_ES_gt.png')),\n",
      " (WindowsPath('C:/Workspace/Practice/Python/PyTorch/New_CAMUS_png/CAMUS/Training/patient0273/4CH_ES.png'),\n",
      "  WindowsPath('C:/Workspace/Practice/Python/PyTorch/New_CAMUS_png/CAMUS/Training/patient0273/4CH_ES_gt.png')),\n",
      " (WindowsPath('C:/Workspace/Practice/Python/PyTorch/New_CAMUS_png/CAMUS/Training/patient0274/4CH_ES.png'),\n",
      "  WindowsPath('C:/Workspace/Practice/Python/PyTorch/New_CAMUS_png/CAMUS/Training/patient0274/4CH_ES_gt.png')),\n",
      " (WindowsPath('C:/Workspace/Practice/Python/PyTorch/New_CAMUS_png/CAMUS/Training/patient0275/4CH_ES.png'),\n",
      "  WindowsPath('C:/Workspace/Practice/Python/PyTorch/New_CAMUS_png/CAMUS/Training/patient0275/4CH_ES_gt.png')),\n",
      " (WindowsPath('C:/Workspace/Practice/Python/PyTorch/New_CAMUS_png/CAMUS/Training/patient0276/4CH_ES.png'),\n",
      "  WindowsPath('C:/Workspace/Practice/Python/PyTorch/New_CAMUS_png/CAMUS/Training/patient0276/4CH_ES_gt.png')),\n",
      " (WindowsPath('C:/Workspace/Practice/Python/PyTorch/New_CAMUS_png/CAMUS/Training/patient0277/4CH_ES.png'),\n",
      "  WindowsPath('C:/Workspace/Practice/Python/PyTorch/New_CAMUS_png/CAMUS/Training/patient0277/4CH_ES_gt.png')),\n",
      " (WindowsPath('C:/Workspace/Practice/Python/PyTorch/New_CAMUS_png/CAMUS/Training/patient0278/4CH_ES.png'),\n",
      "  WindowsPath('C:/Workspace/Practice/Python/PyTorch/New_CAMUS_png/CAMUS/Training/patient0278/4CH_ES_gt.png')),\n",
      " (WindowsPath('C:/Workspace/Practice/Python/PyTorch/New_CAMUS_png/CAMUS/Training/patient0279/4CH_ES.png'),\n",
      "  WindowsPath('C:/Workspace/Practice/Python/PyTorch/New_CAMUS_png/CAMUS/Training/patient0279/4CH_ES_gt.png')),\n",
      " (WindowsPath('C:/Workspace/Practice/Python/PyTorch/New_CAMUS_png/CAMUS/Training/patient0280/4CH_ES.png'),\n",
      "  WindowsPath('C:/Workspace/Practice/Python/PyTorch/New_CAMUS_png/CAMUS/Training/patient0280/4CH_ES_gt.png')),\n",
      " (WindowsPath('C:/Workspace/Practice/Python/PyTorch/New_CAMUS_png/CAMUS/Training/patient0281/4CH_ES.png'),\n",
      "  WindowsPath('C:/Workspace/Practice/Python/PyTorch/New_CAMUS_png/CAMUS/Training/patient0281/4CH_ES_gt.png')),\n",
      " (WindowsPath('C:/Workspace/Practice/Python/PyTorch/New_CAMUS_png/CAMUS/Training/patient0282/4CH_ES.png'),\n",
      "  WindowsPath('C:/Workspace/Practice/Python/PyTorch/New_CAMUS_png/CAMUS/Training/patient0282/4CH_ES_gt.png')),\n",
      " (WindowsPath('C:/Workspace/Practice/Python/PyTorch/New_CAMUS_png/CAMUS/Training/patient0283/4CH_ES.png'),\n",
      "  WindowsPath('C:/Workspace/Practice/Python/PyTorch/New_CAMUS_png/CAMUS/Training/patient0283/4CH_ES_gt.png')),\n",
      " (WindowsPath('C:/Workspace/Practice/Python/PyTorch/New_CAMUS_png/CAMUS/Training/patient0284/4CH_ES.png'),\n",
      "  WindowsPath('C:/Workspace/Practice/Python/PyTorch/New_CAMUS_png/CAMUS/Training/patient0284/4CH_ES_gt.png')),\n",
      " (WindowsPath('C:/Workspace/Practice/Python/PyTorch/New_CAMUS_png/CAMUS/Training/patient0285/4CH_ES.png'),\n",
      "  WindowsPath('C:/Workspace/Practice/Python/PyTorch/New_CAMUS_png/CAMUS/Training/patient0285/4CH_ES_gt.png')),\n",
      " (WindowsPath('C:/Workspace/Practice/Python/PyTorch/New_CAMUS_png/CAMUS/Training/patient0286/4CH_ES.png'),\n",
      "  WindowsPath('C:/Workspace/Practice/Python/PyTorch/New_CAMUS_png/CAMUS/Training/patient0286/4CH_ES_gt.png')),\n",
      " (WindowsPath('C:/Workspace/Practice/Python/PyTorch/New_CAMUS_png/CAMUS/Training/patient0287/4CH_ES.png'),\n",
      "  WindowsPath('C:/Workspace/Practice/Python/PyTorch/New_CAMUS_png/CAMUS/Training/patient0287/4CH_ES_gt.png')),\n",
      " (WindowsPath('C:/Workspace/Practice/Python/PyTorch/New_CAMUS_png/CAMUS/Training/patient0288/4CH_ES.png'),\n",
      "  WindowsPath('C:/Workspace/Practice/Python/PyTorch/New_CAMUS_png/CAMUS/Training/patient0288/4CH_ES_gt.png')),\n",
      " (WindowsPath('C:/Workspace/Practice/Python/PyTorch/New_CAMUS_png/CAMUS/Training/patient0289/4CH_ES.png'),\n",
      "  WindowsPath('C:/Workspace/Practice/Python/PyTorch/New_CAMUS_png/CAMUS/Training/patient0289/4CH_ES_gt.png')),\n",
      " (WindowsPath('C:/Workspace/Practice/Python/PyTorch/New_CAMUS_png/CAMUS/Training/patient0290/4CH_ES.png'),\n",
      "  WindowsPath('C:/Workspace/Practice/Python/PyTorch/New_CAMUS_png/CAMUS/Training/patient0290/4CH_ES_gt.png')),\n",
      " (WindowsPath('C:/Workspace/Practice/Python/PyTorch/New_CAMUS_png/CAMUS/Training/patient0291/4CH_ES.png'),\n",
      "  WindowsPath('C:/Workspace/Practice/Python/PyTorch/New_CAMUS_png/CAMUS/Training/patient0291/4CH_ES_gt.png')),\n",
      " (WindowsPath('C:/Workspace/Practice/Python/PyTorch/New_CAMUS_png/CAMUS/Training/patient0292/4CH_ES.png'),\n",
      "  WindowsPath('C:/Workspace/Practice/Python/PyTorch/New_CAMUS_png/CAMUS/Training/patient0292/4CH_ES_gt.png')),\n",
      " (WindowsPath('C:/Workspace/Practice/Python/PyTorch/New_CAMUS_png/CAMUS/Training/patient0293/4CH_ES.png'),\n",
      "  WindowsPath('C:/Workspace/Practice/Python/PyTorch/New_CAMUS_png/CAMUS/Training/patient0293/4CH_ES_gt.png')),\n",
      " (WindowsPath('C:/Workspace/Practice/Python/PyTorch/New_CAMUS_png/CAMUS/Training/patient0294/4CH_ES.png'),\n",
      "  WindowsPath('C:/Workspace/Practice/Python/PyTorch/New_CAMUS_png/CAMUS/Training/patient0294/4CH_ES_gt.png')),\n",
      " (WindowsPath('C:/Workspace/Practice/Python/PyTorch/New_CAMUS_png/CAMUS/Training/patient0295/4CH_ES.png'),\n",
      "  WindowsPath('C:/Workspace/Practice/Python/PyTorch/New_CAMUS_png/CAMUS/Training/patient0295/4CH_ES_gt.png')),\n",
      " (WindowsPath('C:/Workspace/Practice/Python/PyTorch/New_CAMUS_png/CAMUS/Training/patient0296/4CH_ES.png'),\n",
      "  WindowsPath('C:/Workspace/Practice/Python/PyTorch/New_CAMUS_png/CAMUS/Training/patient0296/4CH_ES_gt.png')),\n",
      " (WindowsPath('C:/Workspace/Practice/Python/PyTorch/New_CAMUS_png/CAMUS/Training/patient0297/4CH_ES.png'),\n",
      "  WindowsPath('C:/Workspace/Practice/Python/PyTorch/New_CAMUS_png/CAMUS/Training/patient0297/4CH_ES_gt.png')),\n",
      " (WindowsPath('C:/Workspace/Practice/Python/PyTorch/New_CAMUS_png/CAMUS/Training/patient0298/4CH_ES.png'),\n",
      "  WindowsPath('C:/Workspace/Practice/Python/PyTorch/New_CAMUS_png/CAMUS/Training/patient0298/4CH_ES_gt.png')),\n",
      " (WindowsPath('C:/Workspace/Practice/Python/PyTorch/New_CAMUS_png/CAMUS/Training/patient0299/4CH_ES.png'),\n",
      "  WindowsPath('C:/Workspace/Practice/Python/PyTorch/New_CAMUS_png/CAMUS/Training/patient0299/4CH_ES_gt.png')),\n",
      " (WindowsPath('C:/Workspace/Practice/Python/PyTorch/New_CAMUS_png/CAMUS/Training/patient0300/4CH_ES.png'),\n",
      "  WindowsPath('C:/Workspace/Practice/Python/PyTorch/New_CAMUS_png/CAMUS/Training/patient0300/4CH_ES_gt.png')),\n",
      " (WindowsPath('C:/Workspace/Practice/Python/PyTorch/New_CAMUS_png/CAMUS/Training/patient0301/4CH_ES.png'),\n",
      "  WindowsPath('C:/Workspace/Practice/Python/PyTorch/New_CAMUS_png/CAMUS/Training/patient0301/4CH_ES_gt.png')),\n",
      " (WindowsPath('C:/Workspace/Practice/Python/PyTorch/New_CAMUS_png/CAMUS/Training/patient0302/4CH_ES.png'),\n",
      "  WindowsPath('C:/Workspace/Practice/Python/PyTorch/New_CAMUS_png/CAMUS/Training/patient0302/4CH_ES_gt.png')),\n",
      " (WindowsPath('C:/Workspace/Practice/Python/PyTorch/New_CAMUS_png/CAMUS/Training/patient0303/4CH_ES.png'),\n",
      "  WindowsPath('C:/Workspace/Practice/Python/PyTorch/New_CAMUS_png/CAMUS/Training/patient0303/4CH_ES_gt.png')),\n",
      " (WindowsPath('C:/Workspace/Practice/Python/PyTorch/New_CAMUS_png/CAMUS/Training/patient0304/4CH_ES.png'),\n",
      "  WindowsPath('C:/Workspace/Practice/Python/PyTorch/New_CAMUS_png/CAMUS/Training/patient0304/4CH_ES_gt.png')),\n",
      " (WindowsPath('C:/Workspace/Practice/Python/PyTorch/New_CAMUS_png/CAMUS/Training/patient0305/4CH_ES.png'),\n",
      "  WindowsPath('C:/Workspace/Practice/Python/PyTorch/New_CAMUS_png/CAMUS/Training/patient0305/4CH_ES_gt.png')),\n",
      " (WindowsPath('C:/Workspace/Practice/Python/PyTorch/New_CAMUS_png/CAMUS/Training/patient0306/4CH_ES.png'),\n",
      "  WindowsPath('C:/Workspace/Practice/Python/PyTorch/New_CAMUS_png/CAMUS/Training/patient0306/4CH_ES_gt.png')),\n",
      " (WindowsPath('C:/Workspace/Practice/Python/PyTorch/New_CAMUS_png/CAMUS/Training/patient0307/4CH_ES.png'),\n",
      "  WindowsPath('C:/Workspace/Practice/Python/PyTorch/New_CAMUS_png/CAMUS/Training/patient0307/4CH_ES_gt.png')),\n",
      " (WindowsPath('C:/Workspace/Practice/Python/PyTorch/New_CAMUS_png/CAMUS/Training/patient0308/4CH_ES.png'),\n",
      "  WindowsPath('C:/Workspace/Practice/Python/PyTorch/New_CAMUS_png/CAMUS/Training/patient0308/4CH_ES_gt.png')),\n",
      " (WindowsPath('C:/Workspace/Practice/Python/PyTorch/New_CAMUS_png/CAMUS/Training/patient0309/4CH_ES.png'),\n",
      "  WindowsPath('C:/Workspace/Practice/Python/PyTorch/New_CAMUS_png/CAMUS/Training/patient0309/4CH_ES_gt.png')),\n",
      " (WindowsPath('C:/Workspace/Practice/Python/PyTorch/New_CAMUS_png/CAMUS/Training/patient0310/4CH_ES.png'),\n",
      "  WindowsPath('C:/Workspace/Practice/Python/PyTorch/New_CAMUS_png/CAMUS/Training/patient0310/4CH_ES_gt.png')),\n",
      " (WindowsPath('C:/Workspace/Practice/Python/PyTorch/New_CAMUS_png/CAMUS/Training/patient0311/4CH_ES.png'),\n",
      "  WindowsPath('C:/Workspace/Practice/Python/PyTorch/New_CAMUS_png/CAMUS/Training/patient0311/4CH_ES_gt.png')),\n",
      " (WindowsPath('C:/Workspace/Practice/Python/PyTorch/New_CAMUS_png/CAMUS/Training/patient0312/4CH_ES.png'),\n",
      "  WindowsPath('C:/Workspace/Practice/Python/PyTorch/New_CAMUS_png/CAMUS/Training/patient0312/4CH_ES_gt.png')),\n",
      " (WindowsPath('C:/Workspace/Practice/Python/PyTorch/New_CAMUS_png/CAMUS/Training/patient0313/4CH_ES.png'),\n",
      "  WindowsPath('C:/Workspace/Practice/Python/PyTorch/New_CAMUS_png/CAMUS/Training/patient0313/4CH_ES_gt.png')),\n",
      " (WindowsPath('C:/Workspace/Practice/Python/PyTorch/New_CAMUS_png/CAMUS/Training/patient0314/4CH_ES.png'),\n",
      "  WindowsPath('C:/Workspace/Practice/Python/PyTorch/New_CAMUS_png/CAMUS/Training/patient0314/4CH_ES_gt.png')),\n",
      " (WindowsPath('C:/Workspace/Practice/Python/PyTorch/New_CAMUS_png/CAMUS/Training/patient0315/4CH_ES.png'),\n",
      "  WindowsPath('C:/Workspace/Practice/Python/PyTorch/New_CAMUS_png/CAMUS/Training/patient0315/4CH_ES_gt.png')),\n",
      " (WindowsPath('C:/Workspace/Practice/Python/PyTorch/New_CAMUS_png/CAMUS/Training/patient0316/4CH_ES.png'),\n",
      "  WindowsPath('C:/Workspace/Practice/Python/PyTorch/New_CAMUS_png/CAMUS/Training/patient0316/4CH_ES_gt.png')),\n",
      " (WindowsPath('C:/Workspace/Practice/Python/PyTorch/New_CAMUS_png/CAMUS/Training/patient0317/4CH_ES.png'),\n",
      "  WindowsPath('C:/Workspace/Practice/Python/PyTorch/New_CAMUS_png/CAMUS/Training/patient0317/4CH_ES_gt.png')),\n",
      " (WindowsPath('C:/Workspace/Practice/Python/PyTorch/New_CAMUS_png/CAMUS/Training/patient0318/4CH_ES.png'),\n",
      "  WindowsPath('C:/Workspace/Practice/Python/PyTorch/New_CAMUS_png/CAMUS/Training/patient0318/4CH_ES_gt.png')),\n",
      " (WindowsPath('C:/Workspace/Practice/Python/PyTorch/New_CAMUS_png/CAMUS/Training/patient0319/4CH_ES.png'),\n",
      "  WindowsPath('C:/Workspace/Practice/Python/PyTorch/New_CAMUS_png/CAMUS/Training/patient0319/4CH_ES_gt.png')),\n",
      " (WindowsPath('C:/Workspace/Practice/Python/PyTorch/New_CAMUS_png/CAMUS/Training/patient0320/4CH_ES.png'),\n",
      "  WindowsPath('C:/Workspace/Practice/Python/PyTorch/New_CAMUS_png/CAMUS/Training/patient0320/4CH_ES_gt.png')),\n",
      " (WindowsPath('C:/Workspace/Practice/Python/PyTorch/New_CAMUS_png/CAMUS/Training/patient0321/4CH_ES.png'),\n",
      "  WindowsPath('C:/Workspace/Practice/Python/PyTorch/New_CAMUS_png/CAMUS/Training/patient0321/4CH_ES_gt.png')),\n",
      " (WindowsPath('C:/Workspace/Practice/Python/PyTorch/New_CAMUS_png/CAMUS/Training/patient0322/4CH_ES.png'),\n",
      "  WindowsPath('C:/Workspace/Practice/Python/PyTorch/New_CAMUS_png/CAMUS/Training/patient0322/4CH_ES_gt.png')),\n",
      " (WindowsPath('C:/Workspace/Practice/Python/PyTorch/New_CAMUS_png/CAMUS/Training/patient0323/4CH_ES.png'),\n",
      "  WindowsPath('C:/Workspace/Practice/Python/PyTorch/New_CAMUS_png/CAMUS/Training/patient0323/4CH_ES_gt.png')),\n",
      " (WindowsPath('C:/Workspace/Practice/Python/PyTorch/New_CAMUS_png/CAMUS/Training/patient0324/4CH_ES.png'),\n",
      "  WindowsPath('C:/Workspace/Practice/Python/PyTorch/New_CAMUS_png/CAMUS/Training/patient0324/4CH_ES_gt.png')),\n",
      " (WindowsPath('C:/Workspace/Practice/Python/PyTorch/New_CAMUS_png/CAMUS/Training/patient0325/4CH_ES.png'),\n",
      "  WindowsPath('C:/Workspace/Practice/Python/PyTorch/New_CAMUS_png/CAMUS/Training/patient0325/4CH_ES_gt.png')),\n",
      " (WindowsPath('C:/Workspace/Practice/Python/PyTorch/New_CAMUS_png/CAMUS/Training/patient0326/4CH_ES.png'),\n",
      "  WindowsPath('C:/Workspace/Practice/Python/PyTorch/New_CAMUS_png/CAMUS/Training/patient0326/4CH_ES_gt.png')),\n",
      " (WindowsPath('C:/Workspace/Practice/Python/PyTorch/New_CAMUS_png/CAMUS/Training/patient0327/4CH_ES.png'),\n",
      "  WindowsPath('C:/Workspace/Practice/Python/PyTorch/New_CAMUS_png/CAMUS/Training/patient0327/4CH_ES_gt.png')),\n",
      " (WindowsPath('C:/Workspace/Practice/Python/PyTorch/New_CAMUS_png/CAMUS/Training/patient0328/4CH_ES.png'),\n",
      "  WindowsPath('C:/Workspace/Practice/Python/PyTorch/New_CAMUS_png/CAMUS/Training/patient0328/4CH_ES_gt.png')),\n",
      " (WindowsPath('C:/Workspace/Practice/Python/PyTorch/New_CAMUS_png/CAMUS/Training/patient0329/4CH_ES.png'),\n",
      "  WindowsPath('C:/Workspace/Practice/Python/PyTorch/New_CAMUS_png/CAMUS/Training/patient0329/4CH_ES_gt.png')),\n",
      " (WindowsPath('C:/Workspace/Practice/Python/PyTorch/New_CAMUS_png/CAMUS/Training/patient0330/4CH_ES.png'),\n",
      "  WindowsPath('C:/Workspace/Practice/Python/PyTorch/New_CAMUS_png/CAMUS/Training/patient0330/4CH_ES_gt.png')),\n",
      " (WindowsPath('C:/Workspace/Practice/Python/PyTorch/New_CAMUS_png/CAMUS/Training/patient0331/4CH_ES.png'),\n",
      "  WindowsPath('C:/Workspace/Practice/Python/PyTorch/New_CAMUS_png/CAMUS/Training/patient0331/4CH_ES_gt.png')),\n",
      " (WindowsPath('C:/Workspace/Practice/Python/PyTorch/New_CAMUS_png/CAMUS/Training/patient0332/4CH_ES.png'),\n",
      "  WindowsPath('C:/Workspace/Practice/Python/PyTorch/New_CAMUS_png/CAMUS/Training/patient0332/4CH_ES_gt.png')),\n",
      " (WindowsPath('C:/Workspace/Practice/Python/PyTorch/New_CAMUS_png/CAMUS/Training/patient0333/4CH_ES.png'),\n",
      "  WindowsPath('C:/Workspace/Practice/Python/PyTorch/New_CAMUS_png/CAMUS/Training/patient0333/4CH_ES_gt.png')),\n",
      " (WindowsPath('C:/Workspace/Practice/Python/PyTorch/New_CAMUS_png/CAMUS/Training/patient0334/4CH_ES.png'),\n",
      "  WindowsPath('C:/Workspace/Practice/Python/PyTorch/New_CAMUS_png/CAMUS/Training/patient0334/4CH_ES_gt.png')),\n",
      " (WindowsPath('C:/Workspace/Practice/Python/PyTorch/New_CAMUS_png/CAMUS/Training/patient0335/4CH_ES.png'),\n",
      "  WindowsPath('C:/Workspace/Practice/Python/PyTorch/New_CAMUS_png/CAMUS/Training/patient0335/4CH_ES_gt.png')),\n",
      " (WindowsPath('C:/Workspace/Practice/Python/PyTorch/New_CAMUS_png/CAMUS/Training/patient0336/4CH_ES.png'),\n",
      "  WindowsPath('C:/Workspace/Practice/Python/PyTorch/New_CAMUS_png/CAMUS/Training/patient0336/4CH_ES_gt.png')),\n",
      " (WindowsPath('C:/Workspace/Practice/Python/PyTorch/New_CAMUS_png/CAMUS/Training/patient0337/4CH_ES.png'),\n",
      "  WindowsPath('C:/Workspace/Practice/Python/PyTorch/New_CAMUS_png/CAMUS/Training/patient0337/4CH_ES_gt.png')),\n",
      " (WindowsPath('C:/Workspace/Practice/Python/PyTorch/New_CAMUS_png/CAMUS/Training/patient0338/4CH_ES.png'),\n",
      "  WindowsPath('C:/Workspace/Practice/Python/PyTorch/New_CAMUS_png/CAMUS/Training/patient0338/4CH_ES_gt.png')),\n",
      " (WindowsPath('C:/Workspace/Practice/Python/PyTorch/New_CAMUS_png/CAMUS/Training/patient0339/4CH_ES.png'),\n",
      "  WindowsPath('C:/Workspace/Practice/Python/PyTorch/New_CAMUS_png/CAMUS/Training/patient0339/4CH_ES_gt.png')),\n",
      " (WindowsPath('C:/Workspace/Practice/Python/PyTorch/New_CAMUS_png/CAMUS/Training/patient0340/4CH_ES.png'),\n",
      "  WindowsPath('C:/Workspace/Practice/Python/PyTorch/New_CAMUS_png/CAMUS/Training/patient0340/4CH_ES_gt.png')),\n",
      " (WindowsPath('C:/Workspace/Practice/Python/PyTorch/New_CAMUS_png/CAMUS/Training/patient0341/4CH_ES.png'),\n",
      "  WindowsPath('C:/Workspace/Practice/Python/PyTorch/New_CAMUS_png/CAMUS/Training/patient0341/4CH_ES_gt.png')),\n",
      " (WindowsPath('C:/Workspace/Practice/Python/PyTorch/New_CAMUS_png/CAMUS/Training/patient0342/4CH_ES.png'),\n",
      "  WindowsPath('C:/Workspace/Practice/Python/PyTorch/New_CAMUS_png/CAMUS/Training/patient0342/4CH_ES_gt.png')),\n",
      " (WindowsPath('C:/Workspace/Practice/Python/PyTorch/New_CAMUS_png/CAMUS/Training/patient0343/4CH_ES.png'),\n",
      "  WindowsPath('C:/Workspace/Practice/Python/PyTorch/New_CAMUS_png/CAMUS/Training/patient0343/4CH_ES_gt.png')),\n",
      " (WindowsPath('C:/Workspace/Practice/Python/PyTorch/New_CAMUS_png/CAMUS/Training/patient0344/4CH_ES.png'),\n",
      "  WindowsPath('C:/Workspace/Practice/Python/PyTorch/New_CAMUS_png/CAMUS/Training/patient0344/4CH_ES_gt.png')),\n",
      " (WindowsPath('C:/Workspace/Practice/Python/PyTorch/New_CAMUS_png/CAMUS/Training/patient0345/4CH_ES.png'),\n",
      "  WindowsPath('C:/Workspace/Practice/Python/PyTorch/New_CAMUS_png/CAMUS/Training/patient0345/4CH_ES_gt.png')),\n",
      " (WindowsPath('C:/Workspace/Practice/Python/PyTorch/New_CAMUS_png/CAMUS/Training/patient0346/4CH_ES.png'),\n",
      "  WindowsPath('C:/Workspace/Practice/Python/PyTorch/New_CAMUS_png/CAMUS/Training/patient0346/4CH_ES_gt.png')),\n",
      " (WindowsPath('C:/Workspace/Practice/Python/PyTorch/New_CAMUS_png/CAMUS/Training/patient0347/4CH_ES.png'),\n",
      "  WindowsPath('C:/Workspace/Practice/Python/PyTorch/New_CAMUS_png/CAMUS/Training/patient0347/4CH_ES_gt.png')),\n",
      " (WindowsPath('C:/Workspace/Practice/Python/PyTorch/New_CAMUS_png/CAMUS/Training/patient0348/4CH_ES.png'),\n",
      "  WindowsPath('C:/Workspace/Practice/Python/PyTorch/New_CAMUS_png/CAMUS/Training/patient0348/4CH_ES_gt.png')),\n",
      " (WindowsPath('C:/Workspace/Practice/Python/PyTorch/New_CAMUS_png/CAMUS/Training/patient0349/4CH_ES.png'),\n",
      "  WindowsPath('C:/Workspace/Practice/Python/PyTorch/New_CAMUS_png/CAMUS/Training/patient0349/4CH_ES_gt.png')),\n",
      " (WindowsPath('C:/Workspace/Practice/Python/PyTorch/New_CAMUS_png/CAMUS/Training/patient0350/4CH_ES.png'),\n",
      "  WindowsPath('C:/Workspace/Practice/Python/PyTorch/New_CAMUS_png/CAMUS/Training/patient0350/4CH_ES_gt.png')),\n",
      " (WindowsPath('C:/Workspace/Practice/Python/PyTorch/New_CAMUS_png/CAMUS/Training/patient0351/4CH_ES.png'),\n",
      "  WindowsPath('C:/Workspace/Practice/Python/PyTorch/New_CAMUS_png/CAMUS/Training/patient0351/4CH_ES_gt.png')),\n",
      " (WindowsPath('C:/Workspace/Practice/Python/PyTorch/New_CAMUS_png/CAMUS/Training/patient0352/4CH_ES.png'),\n",
      "  WindowsPath('C:/Workspace/Practice/Python/PyTorch/New_CAMUS_png/CAMUS/Training/patient0352/4CH_ES_gt.png')),\n",
      " (WindowsPath('C:/Workspace/Practice/Python/PyTorch/New_CAMUS_png/CAMUS/Training/patient0353/4CH_ES.png'),\n",
      "  WindowsPath('C:/Workspace/Practice/Python/PyTorch/New_CAMUS_png/CAMUS/Training/patient0353/4CH_ES_gt.png')),\n",
      " (WindowsPath('C:/Workspace/Practice/Python/PyTorch/New_CAMUS_png/CAMUS/Training/patient0354/4CH_ES.png'),\n",
      "  WindowsPath('C:/Workspace/Practice/Python/PyTorch/New_CAMUS_png/CAMUS/Training/patient0354/4CH_ES_gt.png')),\n",
      " (WindowsPath('C:/Workspace/Practice/Python/PyTorch/New_CAMUS_png/CAMUS/Training/patient0355/4CH_ES.png'),\n",
      "  WindowsPath('C:/Workspace/Practice/Python/PyTorch/New_CAMUS_png/CAMUS/Training/patient0355/4CH_ES_gt.png')),\n",
      " (WindowsPath('C:/Workspace/Practice/Python/PyTorch/New_CAMUS_png/CAMUS/Training/patient0356/4CH_ES.png'),\n",
      "  WindowsPath('C:/Workspace/Practice/Python/PyTorch/New_CAMUS_png/CAMUS/Training/patient0356/4CH_ES_gt.png')),\n",
      " (WindowsPath('C:/Workspace/Practice/Python/PyTorch/New_CAMUS_png/CAMUS/Training/patient0357/4CH_ES.png'),\n",
      "  WindowsPath('C:/Workspace/Practice/Python/PyTorch/New_CAMUS_png/CAMUS/Training/patient0357/4CH_ES_gt.png')),\n",
      " (WindowsPath('C:/Workspace/Practice/Python/PyTorch/New_CAMUS_png/CAMUS/Training/patient0358/4CH_ES.png'),\n",
      "  WindowsPath('C:/Workspace/Practice/Python/PyTorch/New_CAMUS_png/CAMUS/Training/patient0358/4CH_ES_gt.png')),\n",
      " (WindowsPath('C:/Workspace/Practice/Python/PyTorch/New_CAMUS_png/CAMUS/Training/patient0359/4CH_ES.png'),\n",
      "  WindowsPath('C:/Workspace/Practice/Python/PyTorch/New_CAMUS_png/CAMUS/Training/patient0359/4CH_ES_gt.png')),\n",
      " (WindowsPath('C:/Workspace/Practice/Python/PyTorch/New_CAMUS_png/CAMUS/Training/patient0360/4CH_ES.png'),\n",
      "  WindowsPath('C:/Workspace/Practice/Python/PyTorch/New_CAMUS_png/CAMUS/Training/patient0360/4CH_ES_gt.png')),\n",
      " (WindowsPath('C:/Workspace/Practice/Python/PyTorch/New_CAMUS_png/CAMUS/Training/patient0361/4CH_ES.png'),\n",
      "  WindowsPath('C:/Workspace/Practice/Python/PyTorch/New_CAMUS_png/CAMUS/Training/patient0361/4CH_ES_gt.png')),\n",
      " (WindowsPath('C:/Workspace/Practice/Python/PyTorch/New_CAMUS_png/CAMUS/Training/patient0362/4CH_ES.png'),\n",
      "  WindowsPath('C:/Workspace/Practice/Python/PyTorch/New_CAMUS_png/CAMUS/Training/patient0362/4CH_ES_gt.png')),\n",
      " (WindowsPath('C:/Workspace/Practice/Python/PyTorch/New_CAMUS_png/CAMUS/Training/patient0363/4CH_ES.png'),\n",
      "  WindowsPath('C:/Workspace/Practice/Python/PyTorch/New_CAMUS_png/CAMUS/Training/patient0363/4CH_ES_gt.png')),\n",
      " (WindowsPath('C:/Workspace/Practice/Python/PyTorch/New_CAMUS_png/CAMUS/Training/patient0364/4CH_ES.png'),\n",
      "  WindowsPath('C:/Workspace/Practice/Python/PyTorch/New_CAMUS_png/CAMUS/Training/patient0364/4CH_ES_gt.png')),\n",
      " (WindowsPath('C:/Workspace/Practice/Python/PyTorch/New_CAMUS_png/CAMUS/Training/patient0365/4CH_ES.png'),\n",
      "  WindowsPath('C:/Workspace/Practice/Python/PyTorch/New_CAMUS_png/CAMUS/Training/patient0365/4CH_ES_gt.png')),\n",
      " (WindowsPath('C:/Workspace/Practice/Python/PyTorch/New_CAMUS_png/CAMUS/Training/patient0366/4CH_ES.png'),\n",
      "  WindowsPath('C:/Workspace/Practice/Python/PyTorch/New_CAMUS_png/CAMUS/Training/patient0366/4CH_ES_gt.png')),\n",
      " (WindowsPath('C:/Workspace/Practice/Python/PyTorch/New_CAMUS_png/CAMUS/Training/patient0367/4CH_ES.png'),\n",
      "  WindowsPath('C:/Workspace/Practice/Python/PyTorch/New_CAMUS_png/CAMUS/Training/patient0367/4CH_ES_gt.png')),\n",
      " (WindowsPath('C:/Workspace/Practice/Python/PyTorch/New_CAMUS_png/CAMUS/Training/patient0368/4CH_ES.png'),\n",
      "  WindowsPath('C:/Workspace/Practice/Python/PyTorch/New_CAMUS_png/CAMUS/Training/patient0368/4CH_ES_gt.png')),\n",
      " (WindowsPath('C:/Workspace/Practice/Python/PyTorch/New_CAMUS_png/CAMUS/Training/patient0369/4CH_ES.png'),\n",
      "  WindowsPath('C:/Workspace/Practice/Python/PyTorch/New_CAMUS_png/CAMUS/Training/patient0369/4CH_ES_gt.png')),\n",
      " (WindowsPath('C:/Workspace/Practice/Python/PyTorch/New_CAMUS_png/CAMUS/Training/patient0370/4CH_ES.png'),\n",
      "  WindowsPath('C:/Workspace/Practice/Python/PyTorch/New_CAMUS_png/CAMUS/Training/patient0370/4CH_ES_gt.png')),\n",
      " (WindowsPath('C:/Workspace/Practice/Python/PyTorch/New_CAMUS_png/CAMUS/Training/patient0371/4CH_ES.png'),\n",
      "  WindowsPath('C:/Workspace/Practice/Python/PyTorch/New_CAMUS_png/CAMUS/Training/patient0371/4CH_ES_gt.png')),\n",
      " (WindowsPath('C:/Workspace/Practice/Python/PyTorch/New_CAMUS_png/CAMUS/Training/patient0372/4CH_ES.png'),\n",
      "  WindowsPath('C:/Workspace/Practice/Python/PyTorch/New_CAMUS_png/CAMUS/Training/patient0372/4CH_ES_gt.png')),\n",
      " (WindowsPath('C:/Workspace/Practice/Python/PyTorch/New_CAMUS_png/CAMUS/Training/patient0373/4CH_ES.png'),\n",
      "  WindowsPath('C:/Workspace/Practice/Python/PyTorch/New_CAMUS_png/CAMUS/Training/patient0373/4CH_ES_gt.png')),\n",
      " (WindowsPath('C:/Workspace/Practice/Python/PyTorch/New_CAMUS_png/CAMUS/Training/patient0374/4CH_ES.png'),\n",
      "  WindowsPath('C:/Workspace/Practice/Python/PyTorch/New_CAMUS_png/CAMUS/Training/patient0374/4CH_ES_gt.png')),\n",
      " (WindowsPath('C:/Workspace/Practice/Python/PyTorch/New_CAMUS_png/CAMUS/Training/patient0375/4CH_ES.png'),\n",
      "  WindowsPath('C:/Workspace/Practice/Python/PyTorch/New_CAMUS_png/CAMUS/Training/patient0375/4CH_ES_gt.png')),\n",
      " (WindowsPath('C:/Workspace/Practice/Python/PyTorch/New_CAMUS_png/CAMUS/Training/patient0376/4CH_ES.png'),\n",
      "  WindowsPath('C:/Workspace/Practice/Python/PyTorch/New_CAMUS_png/CAMUS/Training/patient0376/4CH_ES_gt.png')),\n",
      " (WindowsPath('C:/Workspace/Practice/Python/PyTorch/New_CAMUS_png/CAMUS/Training/patient0377/4CH_ES.png'),\n",
      "  WindowsPath('C:/Workspace/Practice/Python/PyTorch/New_CAMUS_png/CAMUS/Training/patient0377/4CH_ES_gt.png')),\n",
      " (WindowsPath('C:/Workspace/Practice/Python/PyTorch/New_CAMUS_png/CAMUS/Training/patient0378/4CH_ES.png'),\n",
      "  WindowsPath('C:/Workspace/Practice/Python/PyTorch/New_CAMUS_png/CAMUS/Training/patient0378/4CH_ES_gt.png')),\n",
      " (WindowsPath('C:/Workspace/Practice/Python/PyTorch/New_CAMUS_png/CAMUS/Training/patient0379/4CH_ES.png'),\n",
      "  WindowsPath('C:/Workspace/Practice/Python/PyTorch/New_CAMUS_png/CAMUS/Training/patient0379/4CH_ES_gt.png')),\n",
      " (WindowsPath('C:/Workspace/Practice/Python/PyTorch/New_CAMUS_png/CAMUS/Training/patient0380/4CH_ES.png'),\n",
      "  WindowsPath('C:/Workspace/Practice/Python/PyTorch/New_CAMUS_png/CAMUS/Training/patient0380/4CH_ES_gt.png')),\n",
      " (WindowsPath('C:/Workspace/Practice/Python/PyTorch/New_CAMUS_png/CAMUS/Training/patient0381/4CH_ES.png'),\n",
      "  WindowsPath('C:/Workspace/Practice/Python/PyTorch/New_CAMUS_png/CAMUS/Training/patient0381/4CH_ES_gt.png')),\n",
      " (WindowsPath('C:/Workspace/Practice/Python/PyTorch/New_CAMUS_png/CAMUS/Training/patient0382/4CH_ES.png'),\n",
      "  WindowsPath('C:/Workspace/Practice/Python/PyTorch/New_CAMUS_png/CAMUS/Training/patient0382/4CH_ES_gt.png')),\n",
      " (WindowsPath('C:/Workspace/Practice/Python/PyTorch/New_CAMUS_png/CAMUS/Training/patient0383/4CH_ES.png'),\n",
      "  WindowsPath('C:/Workspace/Practice/Python/PyTorch/New_CAMUS_png/CAMUS/Training/patient0383/4CH_ES_gt.png')),\n",
      " (WindowsPath('C:/Workspace/Practice/Python/PyTorch/New_CAMUS_png/CAMUS/Training/patient0384/4CH_ES.png'),\n",
      "  WindowsPath('C:/Workspace/Practice/Python/PyTorch/New_CAMUS_png/CAMUS/Training/patient0384/4CH_ES_gt.png')),\n",
      " (WindowsPath('C:/Workspace/Practice/Python/PyTorch/New_CAMUS_png/CAMUS/Training/patient0385/4CH_ES.png'),\n",
      "  WindowsPath('C:/Workspace/Practice/Python/PyTorch/New_CAMUS_png/CAMUS/Training/patient0385/4CH_ES_gt.png')),\n",
      " (WindowsPath('C:/Workspace/Practice/Python/PyTorch/New_CAMUS_png/CAMUS/Training/patient0386/4CH_ES.png'),\n",
      "  WindowsPath('C:/Workspace/Practice/Python/PyTorch/New_CAMUS_png/CAMUS/Training/patient0386/4CH_ES_gt.png')),\n",
      " (WindowsPath('C:/Workspace/Practice/Python/PyTorch/New_CAMUS_png/CAMUS/Training/patient0387/4CH_ES.png'),\n",
      "  WindowsPath('C:/Workspace/Practice/Python/PyTorch/New_CAMUS_png/CAMUS/Training/patient0387/4CH_ES_gt.png')),\n",
      " (WindowsPath('C:/Workspace/Practice/Python/PyTorch/New_CAMUS_png/CAMUS/Training/patient0388/4CH_ES.png'),\n",
      "  WindowsPath('C:/Workspace/Practice/Python/PyTorch/New_CAMUS_png/CAMUS/Training/patient0388/4CH_ES_gt.png')),\n",
      " (WindowsPath('C:/Workspace/Practice/Python/PyTorch/New_CAMUS_png/CAMUS/Training/patient0389/4CH_ES.png'),\n",
      "  WindowsPath('C:/Workspace/Practice/Python/PyTorch/New_CAMUS_png/CAMUS/Training/patient0389/4CH_ES_gt.png')),\n",
      " (WindowsPath('C:/Workspace/Practice/Python/PyTorch/New_CAMUS_png/CAMUS/Training/patient0390/4CH_ES.png'),\n",
      "  WindowsPath('C:/Workspace/Practice/Python/PyTorch/New_CAMUS_png/CAMUS/Training/patient0390/4CH_ES_gt.png')),\n",
      " (WindowsPath('C:/Workspace/Practice/Python/PyTorch/New_CAMUS_png/CAMUS/Training/patient0391/4CH_ES.png'),\n",
      "  WindowsPath('C:/Workspace/Practice/Python/PyTorch/New_CAMUS_png/CAMUS/Training/patient0391/4CH_ES_gt.png')),\n",
      " (WindowsPath('C:/Workspace/Practice/Python/PyTorch/New_CAMUS_png/CAMUS/Training/patient0392/4CH_ES.png'),\n",
      "  WindowsPath('C:/Workspace/Practice/Python/PyTorch/New_CAMUS_png/CAMUS/Training/patient0392/4CH_ES_gt.png')),\n",
      " (WindowsPath('C:/Workspace/Practice/Python/PyTorch/New_CAMUS_png/CAMUS/Training/patient0393/4CH_ES.png'),\n",
      "  WindowsPath('C:/Workspace/Practice/Python/PyTorch/New_CAMUS_png/CAMUS/Training/patient0393/4CH_ES_gt.png')),\n",
      " (WindowsPath('C:/Workspace/Practice/Python/PyTorch/New_CAMUS_png/CAMUS/Training/patient0394/4CH_ES.png'),\n",
      "  WindowsPath('C:/Workspace/Practice/Python/PyTorch/New_CAMUS_png/CAMUS/Training/patient0394/4CH_ES_gt.png')),\n",
      " (WindowsPath('C:/Workspace/Practice/Python/PyTorch/New_CAMUS_png/CAMUS/Training/patient0395/4CH_ES.png'),\n",
      "  WindowsPath('C:/Workspace/Practice/Python/PyTorch/New_CAMUS_png/CAMUS/Training/patient0395/4CH_ES_gt.png')),\n",
      " (WindowsPath('C:/Workspace/Practice/Python/PyTorch/New_CAMUS_png/CAMUS/Training/patient0396/4CH_ES.png'),\n",
      "  WindowsPath('C:/Workspace/Practice/Python/PyTorch/New_CAMUS_png/CAMUS/Training/patient0396/4CH_ES_gt.png')),\n",
      " (WindowsPath('C:/Workspace/Practice/Python/PyTorch/New_CAMUS_png/CAMUS/Training/patient0397/4CH_ES.png'),\n",
      "  WindowsPath('C:/Workspace/Practice/Python/PyTorch/New_CAMUS_png/CAMUS/Training/patient0397/4CH_ES_gt.png')),\n",
      " (WindowsPath('C:/Workspace/Practice/Python/PyTorch/New_CAMUS_png/CAMUS/Training/patient0398/4CH_ES.png'),\n",
      "  WindowsPath('C:/Workspace/Practice/Python/PyTorch/New_CAMUS_png/CAMUS/Training/patient0398/4CH_ES_gt.png')),\n",
      " (WindowsPath('C:/Workspace/Practice/Python/PyTorch/New_CAMUS_png/CAMUS/Training/patient0399/4CH_ES.png'),\n",
      "  WindowsPath('C:/Workspace/Practice/Python/PyTorch/New_CAMUS_png/CAMUS/Training/patient0399/4CH_ES_gt.png')),\n",
      " (WindowsPath('C:/Workspace/Practice/Python/PyTorch/New_CAMUS_png/CAMUS/Training/patient0400/4CH_ES.png'),\n",
      "  WindowsPath('C:/Workspace/Practice/Python/PyTorch/New_CAMUS_png/CAMUS/Training/patient0400/4CH_ES_gt.png'))]\n"
     ]
    }
   ],
   "source": [
    "pprint.pprint(training_4chamber_image_files[1])"
   ]
  },
  {
   "cell_type": "code",
   "execution_count": 48,
   "metadata": {},
   "outputs": [],
   "source": [
    "def data_description(image_files_list):\n",
    "    num_total = len(image_files_list[0])\n",
    "    image_width, image_height = PIL.Image.open(image_files_list[0][0][0]).size\n",
    "    print(f\"Total Image Count: {num_total}\")\n",
    "    print(f\"Image Dimensions: {image_width} x {image_height}\")"
   ]
  },
  {
   "cell_type": "code",
   "execution_count": 49,
   "metadata": {},
   "outputs": [
    {
     "name": "stdout",
     "output_type": "stream",
     "text": [
      "Two Chamber Training Data Count\n",
      "Total Image Count: 400\n",
      "Image Dimensions: 256 x 256\n",
      "-------------\n",
      "Four Chamber Training Data Count\n",
      "Total Image Count: 400\n",
      "Image Dimensions: 256 x 256\n",
      "-------------\n",
      "Two Chamber Testing Data Count\n",
      "Total Image Count: 50\n",
      "Image Dimensions: 256 x 256\n",
      "-------------\n",
      "Four Chamber Testing Data Count\n",
      "Total Image Count: 50\n",
      "Image Dimensions: 256 x 256\n",
      "-------------\n"
     ]
    }
   ],
   "source": [
    "print(f\"Two Chamber Training Data Count\")\n",
    "data_description(training_2chamber_image_files)\n",
    "print(\"-------------\")\n",
    "print(f\"Four Chamber Training Data Count\")\n",
    "data_description(training_4chamber_image_files)\n",
    "print(\"-------------\")\n",
    "print(f\"Two Chamber Testing Data Count\")\n",
    "data_description(testing_2chamber_image_files)\n",
    "print(\"-------------\")\n",
    "print(f\"Four Chamber Testing Data Count\")\n",
    "data_description(testing_4chamber_image_files)\n",
    "print(\"-------------\")"
   ]
  },
  {
   "cell_type": "code",
   "execution_count": 50,
   "metadata": {},
   "outputs": [
    {
     "name": "stdout",
     "output_type": "stream",
     "text": [
      "Path C:\\Workspace\\Practice\\Python\\PyTorch\\New_CAMUS_png\\CAMUS\\Training\\training_2ch_info accessible\n",
      "Path C:\\Workspace\\Practice\\Python\\PyTorch\\New_CAMUS_png\\CAMUS\\Training\\training_4ch_info accessible\n",
      "Path C:\\Workspace\\Practice\\Python\\PyTorch\\New_CAMUS_png\\CAMUS\\Testing\\testing_2ch_info accessible\n",
      "Path C:\\Workspace\\Practice\\Python\\PyTorch\\New_CAMUS_png\\CAMUS\\Testing\\testing_4ch_info accessible\n"
     ]
    }
   ],
   "source": [
    "TRAINING_2CH_INFO_DIR = TRAINING_DATA_DIR.joinpath('training_2ch_info')\n",
    "TRAINING_4CH_INFO_DIR = TRAINING_DATA_DIR.joinpath('training_4ch_info')\n",
    "TESTING_2CH_INFO_DIR = TESTING_DATA_DIR.joinpath('testing_2ch_info')\n",
    "TESTING_4CH_INFO_DIR = TESTING_DATA_DIR.joinpath('testing_4ch_info')\n",
    "checkPathExists(TRAINING_2CH_INFO_DIR)\n",
    "checkPathExists(TRAINING_4CH_INFO_DIR)\n",
    "checkPathExists(TESTING_2CH_INFO_DIR)\n",
    "checkPathExists(TESTING_4CH_INFO_DIR)"
   ]
  },
  {
   "cell_type": "code",
   "execution_count": 51,
   "metadata": {},
   "outputs": [],
   "source": [
    "def data_info_file(info_dir, chamber_view):\n",
    "    info_df = pd.DataFrame()\n",
    "    for file in info_dir.glob(f\"**/*.cfg\"):\n",
    "        with open(file) as f: \n",
    "            data = f.readlines() \n",
    "            data = [x.rstrip('\\n') for x in data]\n",
    "            data = { f\"{x.split(': ')[0]}_{chamber_view}\": x.split(': ')[1] for x in data}\n",
    "            data['id'] = str(file.name).split('_')[0]\n",
    "            info_df = pd.concat([info_df, pd.DataFrame([data])])\n",
    "    info_df = info_df.reset_index(drop=True)\n",
    "    info_df = info_df.set_index('id')\n",
    "    return info_df"
   ]
  },
  {
   "cell_type": "code",
   "execution_count": 52,
   "metadata": {},
   "outputs": [],
   "source": [
    "training_2chamber_info_df = data_info_file(TRAINING_2CH_INFO_DIR, TWO_CHANNEL)\n",
    "training_4chamber_info_df = data_info_file(TRAINING_4CH_INFO_DIR, FOUR_CHANNEL)\n",
    "testing_2chamber_info_df = data_info_file(TESTING_2CH_INFO_DIR, TWO_CHANNEL)\n",
    "testing_4chamber_info_df = data_info_file(TESTING_4CH_INFO_DIR, FOUR_CHANNEL)"
   ]
  },
  {
   "cell_type": "code",
   "execution_count": 53,
   "metadata": {},
   "outputs": [],
   "source": [
    "training_2chamber_info_df.LVedv_2CH = training_2chamber_info_df.LVedv_2CH.astype('float32')\n",
    "training_2chamber_info_df.LVesv_2CH = training_2chamber_info_df.LVedv_2CH.astype('float32')\n",
    "training_2chamber_info_df.LVef_2CH = training_2chamber_info_df.LVef_2CH.astype('float32')\n",
    "\n",
    "training_4chamber_info_df.LVedv_4CH = training_4chamber_info_df.LVedv_4CH.astype('float32')\n",
    "training_4chamber_info_df.LVesv_4CH = training_4chamber_info_df.LVedv_4CH.astype('float32')\n",
    "training_4chamber_info_df.LVef_4CH = training_4chamber_info_df.LVef_4CH.astype('float32')\n",
    "\n",
    "testing_2chamber_info_df.LVedv_2CH = testing_2chamber_info_df.LVedv_2CH.astype('float32')\n",
    "testing_2chamber_info_df.LVesv_2CH = testing_2chamber_info_df.LVedv_2CH.astype('float32')\n",
    "testing_2chamber_info_df.LVef_2CH = testing_2chamber_info_df.LVef_2CH.astype('float32')\n",
    "\n",
    "testing_4chamber_info_df.LVedv_4CH = testing_4chamber_info_df.LVedv_4CH.astype('float32')\n",
    "testing_4chamber_info_df.LVesv_4CH = testing_4chamber_info_df.LVedv_4CH.astype('float32')\n",
    "testing_4chamber_info_df.LVef_4CH = testing_4chamber_info_df.LVef_4CH.astype('float32')"
   ]
  },
  {
   "cell_type": "code",
   "execution_count": 54,
   "metadata": {},
   "outputs": [
    {
     "data": {
      "text/html": [
       "<div>\n",
       "<style scoped>\n",
       "    .dataframe tbody tr th:only-of-type {\n",
       "        vertical-align: middle;\n",
       "    }\n",
       "\n",
       "    .dataframe tbody tr th {\n",
       "        vertical-align: top;\n",
       "    }\n",
       "\n",
       "    .dataframe thead th {\n",
       "        text-align: right;\n",
       "    }\n",
       "</style>\n",
       "<table border=\"1\" class=\"dataframe\">\n",
       "  <thead>\n",
       "    <tr style=\"text-align: right;\">\n",
       "      <th></th>\n",
       "      <th>ED_4CH</th>\n",
       "      <th>ES_4CH</th>\n",
       "      <th>NbFrame_4CH</th>\n",
       "      <th>Sex_4CH</th>\n",
       "      <th>Age_4CH</th>\n",
       "      <th>ImageQuality_4CH</th>\n",
       "      <th>LVedv_4CH</th>\n",
       "      <th>LVesv_4CH</th>\n",
       "      <th>LVef_4CH</th>\n",
       "    </tr>\n",
       "    <tr>\n",
       "      <th>id</th>\n",
       "      <th></th>\n",
       "      <th></th>\n",
       "      <th></th>\n",
       "      <th></th>\n",
       "      <th></th>\n",
       "      <th></th>\n",
       "      <th></th>\n",
       "      <th></th>\n",
       "      <th></th>\n",
       "    </tr>\n",
       "  </thead>\n",
       "  <tbody>\n",
       "    <tr>\n",
       "      <th>patient0001</th>\n",
       "      <td>1</td>\n",
       "      <td>21</td>\n",
       "      <td>21</td>\n",
       "      <td>M</td>\n",
       "      <td>73</td>\n",
       "      <td>Good</td>\n",
       "      <td>165.100006</td>\n",
       "      <td>165.100006</td>\n",
       "      <td>50.400002</td>\n",
       "    </tr>\n",
       "    <tr>\n",
       "      <th>patient0002</th>\n",
       "      <td>1</td>\n",
       "      <td>18</td>\n",
       "      <td>18</td>\n",
       "      <td>F</td>\n",
       "      <td>88</td>\n",
       "      <td>Good</td>\n",
       "      <td>78.500000</td>\n",
       "      <td>78.500000</td>\n",
       "      <td>39.500000</td>\n",
       "    </tr>\n",
       "    <tr>\n",
       "      <th>patient0003</th>\n",
       "      <td>1</td>\n",
       "      <td>26</td>\n",
       "      <td>26</td>\n",
       "      <td>M</td>\n",
       "      <td>51</td>\n",
       "      <td>Good</td>\n",
       "      <td>120.699997</td>\n",
       "      <td>120.699997</td>\n",
       "      <td>37.799999</td>\n",
       "    </tr>\n",
       "    <tr>\n",
       "      <th>patient0004</th>\n",
       "      <td>10</td>\n",
       "      <td>1</td>\n",
       "      <td>10</td>\n",
       "      <td>M</td>\n",
       "      <td>41</td>\n",
       "      <td>Good</td>\n",
       "      <td>182.199997</td>\n",
       "      <td>182.199997</td>\n",
       "      <td>7.900000</td>\n",
       "    </tr>\n",
       "    <tr>\n",
       "      <th>patient0005</th>\n",
       "      <td>1</td>\n",
       "      <td>20</td>\n",
       "      <td>20</td>\n",
       "      <td>F</td>\n",
       "      <td>87</td>\n",
       "      <td>Good</td>\n",
       "      <td>73.400002</td>\n",
       "      <td>73.400002</td>\n",
       "      <td>49.299999</td>\n",
       "    </tr>\n",
       "  </tbody>\n",
       "</table>\n",
       "</div>"
      ],
      "text/plain": [
       "            ED_4CH ES_4CH NbFrame_4CH Sex_4CH Age_4CH ImageQuality_4CH  \\\n",
       "id                                                                       \n",
       "patient0001      1     21          21       M      73             Good   \n",
       "patient0002      1     18          18       F      88             Good   \n",
       "patient0003      1     26          26       M      51             Good   \n",
       "patient0004     10      1          10       M      41             Good   \n",
       "patient0005      1     20          20       F      87             Good   \n",
       "\n",
       "              LVedv_4CH   LVesv_4CH   LVef_4CH  \n",
       "id                                              \n",
       "patient0001  165.100006  165.100006  50.400002  \n",
       "patient0002   78.500000   78.500000  39.500000  \n",
       "patient0003  120.699997  120.699997  37.799999  \n",
       "patient0004  182.199997  182.199997   7.900000  \n",
       "patient0005   73.400002   73.400002  49.299999  "
      ]
     },
     "execution_count": 54,
     "metadata": {},
     "output_type": "execute_result"
    }
   ],
   "source": [
    "testing_4chamber_info_df.head()"
   ]
  },
  {
   "attachments": {},
   "cell_type": "markdown",
   "metadata": {},
   "source": [
    "## Encoder Decoder"
   ]
  },
  {
   "cell_type": "code",
   "execution_count": 55,
   "metadata": {},
   "outputs": [],
   "source": [
    "class TubeEncoderDecoder(nn.Module):\n",
    "    def __init__(self):\n",
    "        super(TubeEncoderDecoder, self).__init__()\n",
    "     \n",
    "\n",
    "        self.encoder = nn.Sequential(\n",
    "            nn.Conv2d(2, 16, 3, padding=1),\n",
    "            nn.ReLU(),\n",
    "            nn.MaxPool2d(2,2),\n",
    "            nn.Conv2d(16, 32, 3, padding=1),\n",
    "            nn.ReLU(),\n",
    "            nn.MaxPool2d(2,2),\n",
    "            nn.ConvTranspose2d(32, 16, 2, stride=2),\n",
    "            nn.ReLU(),\n",
    "            nn.ConvTranspose2d(16, 3, 2, stride=2 ),\n",
    "            nn.ReLU())\n",
    "        \n",
    "        self.decoder = nn.Sequential(\n",
    "            nn.Conv2d(3, 16, 3, padding=1),\n",
    "            nn.ReLU(),\n",
    "            nn.MaxPool2d(2,2),\n",
    "            nn.Conv2d(16, 32, 3, padding=1),\n",
    "            nn.ReLU(),\n",
    "            nn.MaxPool2d(2,2),\n",
    "            nn.ConvTranspose2d(32, 16, 2, stride=2),\n",
    "            nn.ReLU(),\n",
    "            nn.ConvTranspose2d(16, 2, 2, stride=2 ),\n",
    "            nn.ReLU())\n",
    "\n",
    "\n",
    "    def forward(self, x):\n",
    "        \n",
    "        feature_img = self.encoder(x)\n",
    "        output = self.decoder(feature_img)\n",
    "                \n",
    "        return feature_img, output\n"
   ]
  },
  {
   "cell_type": "code",
   "execution_count": 56,
   "metadata": {},
   "outputs": [],
   "source": [
    "def prepare_model():\n",
    "    model = TubeEncoderDecoder()\n",
    "    model = model.to(device)\n",
    "    \n",
    "    return model"
   ]
  },
  {
   "cell_type": "code",
   "execution_count": 57,
   "metadata": {},
   "outputs": [],
   "source": [
    "## Note that we are only extracting images and not the segmentations.\n",
    "class StackDataSet(Dataset):\n",
    "    def __init__(self, data_df, info_df, channel_name):\n",
    "        self.data_df = data_df\n",
    "        self.info_df = info_df\n",
    "        self.transform = transforms.ToTensor()\n",
    "        self.channel_name = channel_name\n",
    "        self.mean = info_df[f\"LVef_{channel_name}\"].mean()\n",
    "        self.std = info_df[f\"LVef_{channel_name}\"].std()\n",
    "\n",
    "    def __len__(self):\n",
    "        num_total = len(self.data_df[0])\n",
    "        return num_total\n",
    "\n",
    "    def __getitem__(self, idx):\n",
    "        img_loc_ED = self.data_df[0][idx][0]\n",
    "        img_loc_ES = self.data_df[1][idx][0]\n",
    "\n",
    "        image_ED = PIL.Image.open(img_loc_ED).convert(\"L\")\n",
    "        image_ES = PIL.Image.open(img_loc_ES).convert(\"L\")\n",
    "\n",
    "        #tensor_image = torch.stack((torch.from_numpy(image_ED), torch.from_numpy(image_ES)))\n",
    "        tensor_image = torch.stack((self.transform(image_ED)[0], self.transform(image_ES)[0]))\n",
    "        #tensor_image = self.transform(tensor_image)\n",
    "        return {\"image\": tensor_image, \n",
    "                \"lvef_real\": self.info_df[f'LVef_{self.channel_name}'][idx],\n",
    "                \"lvef_real_norm\": (self.info_df[f'LVef_{self.channel_name}'][idx] - self.mean)/self.std,\n",
    "                \"mean\": self.mean,\n",
    "                \"std\": self.std\n",
    "               }"
   ]
  },
  {
   "cell_type": "code",
   "execution_count": 58,
   "metadata": {},
   "outputs": [],
   "source": [
    "def train_val_dataset(dataset, val_split=0.15):\n",
    "    train_idx, val_idx = train_test_split(list(range(len(dataset))), test_size=val_split)\n",
    "    datasets = {}\n",
    "    datasets['train'] = Subset(dataset, train_idx)\n",
    "    datasets['val'] = Subset(dataset, val_idx)\n",
    "    return datasets"
   ]
  },
  {
   "cell_type": "code",
   "execution_count": 59,
   "metadata": {},
   "outputs": [],
   "source": [
    "def prepare_data(data_df, info_df, channel_name, split=0.15):\n",
    "    # Whole dataset\n",
    "    stacks = StackDataSet(data_df, info_df, channel_name)\n",
    "\n",
    "    # Split\n",
    "    datasets = train_val_dataset(stacks, split)\n",
    "\n",
    "    # Train sub dataset from the whole dataset  \n",
    "    dataset_train = datasets['train']\n",
    "    \n",
    "    # 1 fold to validation\n",
    "    dataset_val = datasets['val']\n",
    "\n",
    "    train_size = len(dataset_train)\n",
    "    val_size = len(dataset_val)\n",
    "\n",
    "    print(\"train dataset size =\", train_size)\n",
    "    print(\"validation dataset size=\", val_size)\n",
    "\n",
    "    dataloader_train = torch.utils.data.DataLoader(dataset_train, batch_size=2,\n",
    "                                                  shuffle=False, num_workers= 0)\n",
    "    \n",
    "    dataloader_val = torch.utils.data.DataLoader(dataset_val, batch_size=2,\n",
    "                                                  shuffle=False, num_workers=0)\n",
    "\n",
    "    return {\"train\":dataloader_train, \"val\":dataloader_val, \"dataset_size\":{\"train\": train_size, \"val\":val_size}}"
   ]
  },
  {
   "cell_type": "code",
   "execution_count": 60,
   "metadata": {},
   "outputs": [
    {
     "name": "stdout",
     "output_type": "stream",
     "text": [
      "train dataset size = 340\n",
      "validation dataset size= 60\n",
      "torch.Size([2, 2, 256, 256]), ef=tensor([65.3000, 58.2000])\n",
      "torch.Size([2, 2, 256, 256]), ef=tensor([61.1000, 56.2000])\n",
      "torch.Size([2, 2, 256, 256]), ef=tensor([58.8000, 54.3000])\n"
     ]
    }
   ],
   "source": [
    "dataloaders  = prepare_data(training_4chamber_image_files, training_4chamber_info_df, FOUR_CHANNEL)\n",
    "for i, data in enumerate(dataloaders['train']):\n",
    "    print(f\"{data['image'].shape}, ef={data['lvef_real']}\")\n",
    "    if i == 2:\n",
    "        break"
   ]
  },
  {
   "cell_type": "code",
   "execution_count": 61,
   "metadata": {},
   "outputs": [],
   "source": [
    "def save_model(model, optimizer, epoch, validation_loss, output_path):\n",
    "   \n",
    "    check_point_name = f\"CAMUS_epoch{epoch}.pt\" # get code file name and make a name\n",
    "    check_point_path = os.path.join(output_path, check_point_name)\n",
    "    # save torch model\n",
    "    torch.save({\n",
    "        \"epoch\": epoch,\n",
    "        \"model_state_dict\": model.state_dict(),\n",
    "        \"optimizer_state_dict\": optimizer.state_dict(),\n",
    "        # \"train_loss\": train_loss,\n",
    "        \"val_loss\": validation_loss\n",
    "    }, check_point_path)"
   ]
  },
  {
   "cell_type": "code",
   "execution_count": 62,
   "metadata": {},
   "outputs": [],
   "source": [
    "def train_model(model, optimizer, criterion, criterion_validation, dataloaders: dict, start_epoch, num_epochs, checkpoint_interval):\n",
    "    for epoch in tqdm(range(start_epoch, start_epoch + num_epochs)):\n",
    "\n",
    "        # reset dataloader after some epochs\n",
    "        for phase in [\"train\", \"val\"]:\n",
    "\n",
    "            if phase == \"train\":\n",
    "                model.train()\n",
    "                dataloader = dataloaders[\"train\"]\n",
    "            else:\n",
    "                model.eval()\n",
    "                dataloader = dataloaders[\"val\"]\n",
    "\n",
    "            running_loss = 0.0\n",
    "            running_loss_real = 0.0\n",
    "            \n",
    "            for i, sample in tqdm(enumerate(dataloader, 0)):\n",
    "\n",
    "                # handle input data\n",
    "                input_img = sample['image']\n",
    "                input_img = input_img.to(device, torch.float)\n",
    "\n",
    "                optimizer.zero_grad()\n",
    "                with torch.set_grad_enabled(phase == \"train\"):\n",
    "\n",
    "                    feature_img, output_img= model(input_img)\n",
    "                    #outputs_real = outputs  # * std + mean\n",
    "\n",
    "                    # Loss\n",
    "                    loss = criterion(output_img, input_img)\n",
    "                    loss_real = criterion_validation(output_img , input_img)\n",
    "\n",
    "                    if phase == \"train\":\n",
    "                        loss.backward()\n",
    "                        optimizer.step()\n",
    "\n",
    "                \n",
    "                # calculate running loss\n",
    "                running_loss += loss.detach().item() * input_img.size(0)\n",
    "                running_loss_real+= loss_real.detach().item() * input_img.size(0)\n",
    "\n",
    "            epoch_loss = running_loss / dataloaders[\"dataset_size\"][phase]\n",
    "            epoch_loss_real  = running_loss_real / dataloaders[\"dataset_size\"][phase]\n",
    "\n",
    "            # update tensorboard writer\n",
    "            #writer.add_scalars(\"Loss\", {phase:epoch_loss}, epoch)\n",
    "            #writer.add_scalars(\"Loss_real\" , {phase:epoch_loss_real}, epoch)\n",
    "            \n",
    "            # update the lr based on the epoch loss\n",
    "            if phase == \"val\": \n",
    "                # Get current lr\n",
    "                lr = optimizer.param_groups[0]['lr']\n",
    "                #print(\"lr=\", lr)\n",
    "                #writer.add_scalar(\"LR\", lr, epoch)\n",
    "                # scheduler.step(epoch_loss) \n",
    "\n",
    "                # save sample feature grid and image grid\n",
    "                save_image(input_img[:, 0:1, :, :], str(f\"Ip_{epoch}\") + \".png\", nrow=8, padding=2, normalize=False, value_range=(0,255), scale_each=True, pad_value=0)\n",
    "                save_image(feature_img[:, 0:1, :, :], str(f\"Feat_{epoch}\") + \".png\", nrow=8, padding=2, normalize=False, value_range=(0,255), scale_each=True, pad_value=0)\n",
    "                save_image(output_img[:, 0:1, :, :], str(f\"Op_{epoch}\") + \".png\", nrow=8, padding=2, normalize=False, value_range=(0,255), scale_each=True, pad_value=0)\n",
    "                #writer.add_images(\"input_one_channel\", input_img[:, 0:1, :, :], epoch)\n",
    "\n",
    "                #writer.add_images(\"feature_img\",feature_img, epoch)\n",
    "\n",
    "                #writer.add_images(\"output_one_channel\", output_img[:, 0:1, :, :], epoch)\n",
    "                \n",
    "            # Print output\n",
    "            print('Epoch:\\t  %d |Phase: \\t %s | Loss:\\t\\t %.4f | Loss-Real:\\t %.4f '\n",
    "                      % (epoch, phase, epoch_loss, epoch_loss_real))\n",
    "        \n",
    "        # Save model\n",
    "        if epoch % checkpoint_interval == 0:\n",
    "            save_model(model, optimizer, epoch, loss, 'output') # loss = validation loss (because of phase=val at last)"
   ]
  },
  {
   "cell_type": "code",
   "execution_count": 63,
   "metadata": {},
   "outputs": [],
   "source": [
    "def run_train(data_df, info_df, channel_name):\n",
    "    model = prepare_model()\n",
    "    dataloaders = prepare_data(data_df, info_df, channel_name)\n",
    "\n",
    "    optimizer = optim.Adam(model.parameters(), lr=1e-4 , weight_decay=0)\n",
    "    # optimizer = optim.SGD(model.parameters(), lr=opt.lr )\n",
    "\n",
    "    criterion =  nn.MSELoss() # backprop loss calculation\n",
    "    criterion_validation = nn.L1Loss() # Absolute error for real loss calculations\n",
    "\n",
    "    # LR shceduler\n",
    "    #scheduler = lr_scheduler.ReduceLROnPlateau(optimizer, mode=\"min\", factor=opt.lr_sch_factor, patience=opt.lr_sch_patience, verbose=True)\n",
    "    # call main train loop\n",
    "    train_model(model,optimizer,criterion, criterion_validation, dataloaders, 0, 50, 2)"
   ]
  },
  {
   "cell_type": "code",
   "execution_count": 64,
   "metadata": {},
   "outputs": [
    {
     "name": "stdout",
     "output_type": "stream",
     "text": [
      "Training process is strted..!\n",
      "train dataset size = 340\n",
      "validation dataset size= 60\n"
     ]
    },
    {
     "name": "stderr",
     "output_type": "stream",
     "text": [
      "170it [00:04, 34.26it/s]0:00<?, ?it/s]\n"
     ]
    },
    {
     "name": "stdout",
     "output_type": "stream",
     "text": [
      "Epoch:\t  0 |Phase: \t train | Loss:\t\t 0.0749 | Loss-Real:\t 0.1993 \n"
     ]
    },
    {
     "name": "stderr",
     "output_type": "stream",
     "text": [
      "30it [00:00, 40.60it/s]\n",
      "  2%|▏         | 1/50 [00:05<04:43,  5.78s/it]"
     ]
    },
    {
     "name": "stdout",
     "output_type": "stream",
     "text": [
      "Epoch:\t  0 |Phase: \t val | Loss:\t\t 0.0705 | Loss-Real:\t 0.1922 \n"
     ]
    },
    {
     "name": "stderr",
     "output_type": "stream",
     "text": [
      "170it [00:05, 33.59it/s]\n"
     ]
    },
    {
     "name": "stdout",
     "output_type": "stream",
     "text": [
      "Epoch:\t  1 |Phase: \t train | Loss:\t\t 0.0564 | Loss-Real:\t 0.1666 \n"
     ]
    },
    {
     "name": "stderr",
     "output_type": "stream",
     "text": [
      "30it [00:00, 45.10it/s]\n",
      "  4%|▍         | 2/50 [00:11<04:38,  5.79s/it]"
     ]
    },
    {
     "name": "stdout",
     "output_type": "stream",
     "text": [
      "Epoch:\t  1 |Phase: \t val | Loss:\t\t 0.0446 | Loss-Real:\t 0.1415 \n"
     ]
    },
    {
     "name": "stderr",
     "output_type": "stream",
     "text": [
      "170it [00:05, 33.23it/s]\n"
     ]
    },
    {
     "name": "stdout",
     "output_type": "stream",
     "text": [
      "Epoch:\t  2 |Phase: \t train | Loss:\t\t 0.0389 | Loss-Real:\t 0.1196 \n"
     ]
    },
    {
     "name": "stderr",
     "output_type": "stream",
     "text": [
      "30it [00:00, 44.12it/s]\n",
      "  6%|▌         | 3/50 [00:17<04:34,  5.83s/it]"
     ]
    },
    {
     "name": "stdout",
     "output_type": "stream",
     "text": [
      "Epoch:\t  2 |Phase: \t val | Loss:\t\t 0.0347 | Loss-Real:\t 0.1025 \n"
     ]
    },
    {
     "name": "stderr",
     "output_type": "stream",
     "text": [
      "170it [00:05, 33.93it/s]\n"
     ]
    },
    {
     "name": "stdout",
     "output_type": "stream",
     "text": [
      "Epoch:\t  3 |Phase: \t train | Loss:\t\t 0.0342 | Loss-Real:\t 0.0954 \n"
     ]
    },
    {
     "name": "stderr",
     "output_type": "stream",
     "text": [
      "30it [00:00, 38.80it/s]\n",
      "  8%|▊         | 4/50 [00:23<04:28,  5.85s/it]"
     ]
    },
    {
     "name": "stdout",
     "output_type": "stream",
     "text": [
      "Epoch:\t  3 |Phase: \t val | Loss:\t\t 0.0329 | Loss-Real:\t 0.0903 \n"
     ]
    },
    {
     "name": "stderr",
     "output_type": "stream",
     "text": [
      "170it [00:05, 30.52it/s]\n"
     ]
    },
    {
     "name": "stdout",
     "output_type": "stream",
     "text": [
      "Epoch:\t  4 |Phase: \t train | Loss:\t\t 0.0333 | Loss-Real:\t 0.0890 \n"
     ]
    },
    {
     "name": "stderr",
     "output_type": "stream",
     "text": [
      "30it [00:00, 38.16it/s]\n",
      " 10%|█         | 5/50 [00:29<04:33,  6.07s/it]"
     ]
    },
    {
     "name": "stdout",
     "output_type": "stream",
     "text": [
      "Epoch:\t  4 |Phase: \t val | Loss:\t\t 0.0323 | Loss-Real:\t 0.0866 \n"
     ]
    },
    {
     "name": "stderr",
     "output_type": "stream",
     "text": [
      "170it [00:05, 33.45it/s]\n"
     ]
    },
    {
     "name": "stdout",
     "output_type": "stream",
     "text": [
      "Epoch:\t  5 |Phase: \t train | Loss:\t\t 0.0328 | Loss-Real:\t 0.0861 \n"
     ]
    },
    {
     "name": "stderr",
     "output_type": "stream",
     "text": [
      "30it [00:00, 38.50it/s]\n",
      " 12%|█▏        | 6/50 [00:35<04:25,  6.03s/it]"
     ]
    },
    {
     "name": "stdout",
     "output_type": "stream",
     "text": [
      "Epoch:\t  5 |Phase: \t val | Loss:\t\t 0.0318 | Loss-Real:\t 0.0843 \n"
     ]
    },
    {
     "name": "stderr",
     "output_type": "stream",
     "text": [
      "170it [00:07, 21.89it/s]\n"
     ]
    },
    {
     "name": "stdout",
     "output_type": "stream",
     "text": [
      "Epoch:\t  6 |Phase: \t train | Loss:\t\t 0.0324 | Loss-Real:\t 0.0841 \n"
     ]
    },
    {
     "name": "stderr",
     "output_type": "stream",
     "text": [
      "30it [00:01, 24.73it/s]\n",
      " 14%|█▍        | 7/50 [00:44<05:02,  7.03s/it]"
     ]
    },
    {
     "name": "stdout",
     "output_type": "stream",
     "text": [
      "Epoch:\t  6 |Phase: \t val | Loss:\t\t 0.0314 | Loss-Real:\t 0.0825 \n"
     ]
    },
    {
     "name": "stderr",
     "output_type": "stream",
     "text": [
      "170it [00:05, 29.60it/s]\n"
     ]
    },
    {
     "name": "stdout",
     "output_type": "stream",
     "text": [
      "Epoch:\t  7 |Phase: \t train | Loss:\t\t 0.0321 | Loss-Real:\t 0.0828 \n"
     ]
    },
    {
     "name": "stderr",
     "output_type": "stream",
     "text": [
      "30it [00:01, 24.29it/s]\n",
      " 16%|█▌        | 8/50 [00:51<04:56,  7.06s/it]"
     ]
    },
    {
     "name": "stdout",
     "output_type": "stream",
     "text": [
      "Epoch:\t  7 |Phase: \t val | Loss:\t\t 0.0312 | Loss-Real:\t 0.0814 \n"
     ]
    },
    {
     "name": "stderr",
     "output_type": "stream",
     "text": [
      "170it [00:06, 26.02it/s]\n"
     ]
    },
    {
     "name": "stdout",
     "output_type": "stream",
     "text": [
      "Epoch:\t  8 |Phase: \t train | Loss:\t\t 0.0319 | Loss-Real:\t 0.0820 \n"
     ]
    },
    {
     "name": "stderr",
     "output_type": "stream",
     "text": [
      "30it [00:00, 30.28it/s]\n",
      " 18%|█▊        | 9/50 [00:59<04:56,  7.24s/it]"
     ]
    },
    {
     "name": "stdout",
     "output_type": "stream",
     "text": [
      "Epoch:\t  8 |Phase: \t val | Loss:\t\t 0.0311 | Loss-Real:\t 0.0808 \n"
     ]
    },
    {
     "name": "stderr",
     "output_type": "stream",
     "text": [
      "170it [00:05, 28.40it/s]\n"
     ]
    },
    {
     "name": "stdout",
     "output_type": "stream",
     "text": [
      "Epoch:\t  9 |Phase: \t train | Loss:\t\t 0.0319 | Loss-Real:\t 0.0815 \n"
     ]
    },
    {
     "name": "stderr",
     "output_type": "stream",
     "text": [
      "30it [00:01, 27.54it/s]\n",
      " 20%|██        | 10/50 [01:06<04:48,  7.21s/it]"
     ]
    },
    {
     "name": "stdout",
     "output_type": "stream",
     "text": [
      "Epoch:\t  9 |Phase: \t val | Loss:\t\t 0.0310 | Loss-Real:\t 0.0804 \n"
     ]
    },
    {
     "name": "stderr",
     "output_type": "stream",
     "text": [
      "170it [00:05, 29.21it/s]\n"
     ]
    },
    {
     "name": "stdout",
     "output_type": "stream",
     "text": [
      "Epoch:\t  10 |Phase: \t train | Loss:\t\t 0.0318 | Loss-Real:\t 0.0811 \n"
     ]
    },
    {
     "name": "stderr",
     "output_type": "stream",
     "text": [
      "30it [00:00, 32.32it/s]\n",
      " 22%|██▏       | 11/50 [01:13<04:36,  7.10s/it]"
     ]
    },
    {
     "name": "stdout",
     "output_type": "stream",
     "text": [
      "Epoch:\t  10 |Phase: \t val | Loss:\t\t 0.0310 | Loss-Real:\t 0.0801 \n"
     ]
    },
    {
     "name": "stderr",
     "output_type": "stream",
     "text": [
      "170it [00:05, 31.12it/s]\n"
     ]
    },
    {
     "name": "stdout",
     "output_type": "stream",
     "text": [
      "Epoch:\t  11 |Phase: \t train | Loss:\t\t 0.0317 | Loss-Real:\t 0.0809 \n"
     ]
    },
    {
     "name": "stderr",
     "output_type": "stream",
     "text": [
      "30it [00:00, 37.15it/s]\n",
      " 24%|██▍       | 12/50 [01:19<04:21,  6.87s/it]"
     ]
    },
    {
     "name": "stdout",
     "output_type": "stream",
     "text": [
      "Epoch:\t  11 |Phase: \t val | Loss:\t\t 0.0309 | Loss-Real:\t 0.0799 \n"
     ]
    },
    {
     "name": "stderr",
     "output_type": "stream",
     "text": [
      "170it [00:05, 31.58it/s]\n"
     ]
    },
    {
     "name": "stdout",
     "output_type": "stream",
     "text": [
      "Epoch:\t  12 |Phase: \t train | Loss:\t\t 0.0317 | Loss-Real:\t 0.0807 \n"
     ]
    },
    {
     "name": "stderr",
     "output_type": "stream",
     "text": [
      "30it [00:00, 42.55it/s]\n",
      " 26%|██▌       | 13/50 [01:26<04:06,  6.66s/it]"
     ]
    },
    {
     "name": "stdout",
     "output_type": "stream",
     "text": [
      "Epoch:\t  12 |Phase: \t val | Loss:\t\t 0.0309 | Loss-Real:\t 0.0797 \n"
     ]
    },
    {
     "name": "stderr",
     "output_type": "stream",
     "text": [
      "170it [00:05, 33.31it/s]\n"
     ]
    },
    {
     "name": "stdout",
     "output_type": "stream",
     "text": [
      "Epoch:\t  13 |Phase: \t train | Loss:\t\t 0.0317 | Loss-Real:\t 0.0805 \n"
     ]
    },
    {
     "name": "stderr",
     "output_type": "stream",
     "text": [
      "30it [00:00, 31.31it/s]\n",
      " 28%|██▊       | 14/50 [01:32<03:54,  6.51s/it]"
     ]
    },
    {
     "name": "stdout",
     "output_type": "stream",
     "text": [
      "Epoch:\t  13 |Phase: \t val | Loss:\t\t 0.0309 | Loss-Real:\t 0.0795 \n"
     ]
    },
    {
     "name": "stderr",
     "output_type": "stream",
     "text": [
      "170it [00:05, 30.90it/s]\n"
     ]
    },
    {
     "name": "stdout",
     "output_type": "stream",
     "text": [
      "Epoch:\t  14 |Phase: \t train | Loss:\t\t 0.0316 | Loss-Real:\t 0.0803 \n"
     ]
    },
    {
     "name": "stderr",
     "output_type": "stream",
     "text": [
      "30it [00:00, 39.43it/s]\n",
      " 30%|███       | 15/50 [01:38<03:46,  6.46s/it]"
     ]
    },
    {
     "name": "stdout",
     "output_type": "stream",
     "text": [
      "Epoch:\t  14 |Phase: \t val | Loss:\t\t 0.0309 | Loss-Real:\t 0.0794 \n"
     ]
    },
    {
     "name": "stderr",
     "output_type": "stream",
     "text": [
      "170it [00:05, 31.69it/s]\n"
     ]
    },
    {
     "name": "stdout",
     "output_type": "stream",
     "text": [
      "Epoch:\t  15 |Phase: \t train | Loss:\t\t 0.0316 | Loss-Real:\t 0.0802 \n"
     ]
    },
    {
     "name": "stderr",
     "output_type": "stream",
     "text": [
      "30it [00:00, 43.64it/s]\n",
      " 32%|███▏      | 16/50 [01:44<03:36,  6.36s/it]"
     ]
    },
    {
     "name": "stdout",
     "output_type": "stream",
     "text": [
      "Epoch:\t  15 |Phase: \t val | Loss:\t\t 0.0308 | Loss-Real:\t 0.0792 \n"
     ]
    },
    {
     "name": "stderr",
     "output_type": "stream",
     "text": [
      "170it [00:04, 34.44it/s]\n"
     ]
    },
    {
     "name": "stdout",
     "output_type": "stream",
     "text": [
      "Epoch:\t  16 |Phase: \t train | Loss:\t\t 0.0316 | Loss-Real:\t 0.0800 \n"
     ]
    },
    {
     "name": "stderr",
     "output_type": "stream",
     "text": [
      "30it [00:00, 43.78it/s]\n",
      " 34%|███▍      | 17/50 [01:50<03:23,  6.17s/it]"
     ]
    },
    {
     "name": "stdout",
     "output_type": "stream",
     "text": [
      "Epoch:\t  16 |Phase: \t val | Loss:\t\t 0.0308 | Loss-Real:\t 0.0791 \n"
     ]
    },
    {
     "name": "stderr",
     "output_type": "stream",
     "text": [
      "170it [00:04, 35.38it/s]\n"
     ]
    },
    {
     "name": "stdout",
     "output_type": "stream",
     "text": [
      "Epoch:\t  17 |Phase: \t train | Loss:\t\t 0.0316 | Loss-Real:\t 0.0799 \n"
     ]
    },
    {
     "name": "stderr",
     "output_type": "stream",
     "text": [
      "30it [00:00, 42.45it/s]\n",
      " 36%|███▌      | 18/50 [01:56<03:11,  5.99s/it]"
     ]
    },
    {
     "name": "stdout",
     "output_type": "stream",
     "text": [
      "Epoch:\t  17 |Phase: \t val | Loss:\t\t 0.0308 | Loss-Real:\t 0.0789 \n"
     ]
    },
    {
     "name": "stderr",
     "output_type": "stream",
     "text": [
      "170it [00:06, 25.62it/s]\n"
     ]
    },
    {
     "name": "stdout",
     "output_type": "stream",
     "text": [
      "Epoch:\t  18 |Phase: \t train | Loss:\t\t 0.0316 | Loss-Real:\t 0.0798 \n"
     ]
    },
    {
     "name": "stderr",
     "output_type": "stream",
     "text": [
      "30it [00:00, 35.98it/s]\n",
      " 38%|███▊      | 19/50 [02:03<03:20,  6.47s/it]"
     ]
    },
    {
     "name": "stdout",
     "output_type": "stream",
     "text": [
      "Epoch:\t  18 |Phase: \t val | Loss:\t\t 0.0308 | Loss-Real:\t 0.0788 \n"
     ]
    },
    {
     "name": "stderr",
     "output_type": "stream",
     "text": [
      "170it [00:05, 30.40it/s]\n"
     ]
    },
    {
     "name": "stdout",
     "output_type": "stream",
     "text": [
      "Epoch:\t  19 |Phase: \t train | Loss:\t\t 0.0315 | Loss-Real:\t 0.0797 \n"
     ]
    },
    {
     "name": "stderr",
     "output_type": "stream",
     "text": [
      "30it [00:00, 43.24it/s]\n",
      " 40%|████      | 20/50 [02:09<03:13,  6.43s/it]"
     ]
    },
    {
     "name": "stdout",
     "output_type": "stream",
     "text": [
      "Epoch:\t  19 |Phase: \t val | Loss:\t\t 0.0308 | Loss-Real:\t 0.0787 \n"
     ]
    },
    {
     "name": "stderr",
     "output_type": "stream",
     "text": [
      "170it [00:04, 35.14it/s]\n"
     ]
    },
    {
     "name": "stdout",
     "output_type": "stream",
     "text": [
      "Epoch:\t  20 |Phase: \t train | Loss:\t\t 0.0315 | Loss-Real:\t 0.0796 \n"
     ]
    },
    {
     "name": "stderr",
     "output_type": "stream",
     "text": [
      "30it [00:00, 43.59it/s]\n",
      " 42%|████▏     | 21/50 [02:15<02:59,  6.19s/it]"
     ]
    },
    {
     "name": "stdout",
     "output_type": "stream",
     "text": [
      "Epoch:\t  20 |Phase: \t val | Loss:\t\t 0.0307 | Loss-Real:\t 0.0786 \n"
     ]
    },
    {
     "name": "stderr",
     "output_type": "stream",
     "text": [
      "170it [00:04, 35.23it/s]\n"
     ]
    },
    {
     "name": "stdout",
     "output_type": "stream",
     "text": [
      "Epoch:\t  21 |Phase: \t train | Loss:\t\t 0.0315 | Loss-Real:\t 0.0795 \n"
     ]
    },
    {
     "name": "stderr",
     "output_type": "stream",
     "text": [
      "30it [00:00, 46.06it/s]\n",
      " 44%|████▍     | 22/50 [02:21<02:47,  6.00s/it]"
     ]
    },
    {
     "name": "stdout",
     "output_type": "stream",
     "text": [
      "Epoch:\t  21 |Phase: \t val | Loss:\t\t 0.0307 | Loss-Real:\t 0.0785 \n"
     ]
    },
    {
     "name": "stderr",
     "output_type": "stream",
     "text": [
      "170it [00:04, 34.55it/s]\n"
     ]
    },
    {
     "name": "stdout",
     "output_type": "stream",
     "text": [
      "Epoch:\t  22 |Phase: \t train | Loss:\t\t 0.0315 | Loss-Real:\t 0.0794 \n"
     ]
    },
    {
     "name": "stderr",
     "output_type": "stream",
     "text": [
      "30it [00:00, 42.93it/s]\n",
      " 46%|████▌     | 23/50 [02:26<02:39,  5.91s/it]"
     ]
    },
    {
     "name": "stdout",
     "output_type": "stream",
     "text": [
      "Epoch:\t  22 |Phase: \t val | Loss:\t\t 0.0307 | Loss-Real:\t 0.0784 \n"
     ]
    },
    {
     "name": "stderr",
     "output_type": "stream",
     "text": [
      "170it [00:04, 34.36it/s]\n"
     ]
    },
    {
     "name": "stdout",
     "output_type": "stream",
     "text": [
      "Epoch:\t  23 |Phase: \t train | Loss:\t\t 0.0315 | Loss-Real:\t 0.0793 \n"
     ]
    },
    {
     "name": "stderr",
     "output_type": "stream",
     "text": [
      "30it [00:00, 41.85it/s]\n",
      " 48%|████▊     | 24/50 [02:32<02:32,  5.86s/it]"
     ]
    },
    {
     "name": "stdout",
     "output_type": "stream",
     "text": [
      "Epoch:\t  23 |Phase: \t val | Loss:\t\t 0.0307 | Loss-Real:\t 0.0783 \n"
     ]
    },
    {
     "name": "stderr",
     "output_type": "stream",
     "text": [
      "170it [00:05, 32.96it/s]\n"
     ]
    },
    {
     "name": "stdout",
     "output_type": "stream",
     "text": [
      "Epoch:\t  24 |Phase: \t train | Loss:\t\t 0.0315 | Loss-Real:\t 0.0792 \n"
     ]
    },
    {
     "name": "stderr",
     "output_type": "stream",
     "text": [
      "30it [00:00, 41.33it/s]\n",
      " 50%|█████     | 25/50 [02:38<02:27,  5.89s/it]"
     ]
    },
    {
     "name": "stdout",
     "output_type": "stream",
     "text": [
      "Epoch:\t  24 |Phase: \t val | Loss:\t\t 0.0307 | Loss-Real:\t 0.0782 \n"
     ]
    },
    {
     "name": "stderr",
     "output_type": "stream",
     "text": [
      "170it [00:05, 32.84it/s]\n"
     ]
    },
    {
     "name": "stdout",
     "output_type": "stream",
     "text": [
      "Epoch:\t  25 |Phase: \t train | Loss:\t\t 0.0315 | Loss-Real:\t 0.0791 \n"
     ]
    },
    {
     "name": "stderr",
     "output_type": "stream",
     "text": [
      "30it [00:00, 40.82it/s]\n",
      " 52%|█████▏    | 26/50 [02:44<02:22,  5.92s/it]"
     ]
    },
    {
     "name": "stdout",
     "output_type": "stream",
     "text": [
      "Epoch:\t  25 |Phase: \t val | Loss:\t\t 0.0307 | Loss-Real:\t 0.0782 \n"
     ]
    },
    {
     "name": "stderr",
     "output_type": "stream",
     "text": [
      "170it [00:05, 33.33it/s]\n"
     ]
    },
    {
     "name": "stdout",
     "output_type": "stream",
     "text": [
      "Epoch:\t  26 |Phase: \t train | Loss:\t\t 0.0314 | Loss-Real:\t 0.0791 \n"
     ]
    },
    {
     "name": "stderr",
     "output_type": "stream",
     "text": [
      "30it [00:00, 35.74it/s]\n",
      " 54%|█████▍    | 27/50 [02:50<02:17,  5.96s/it]"
     ]
    },
    {
     "name": "stdout",
     "output_type": "stream",
     "text": [
      "Epoch:\t  26 |Phase: \t val | Loss:\t\t 0.0307 | Loss-Real:\t 0.0781 \n"
     ]
    },
    {
     "name": "stderr",
     "output_type": "stream",
     "text": [
      "170it [00:04, 35.52it/s]\n"
     ]
    },
    {
     "name": "stdout",
     "output_type": "stream",
     "text": [
      "Epoch:\t  27 |Phase: \t train | Loss:\t\t 0.0314 | Loss-Real:\t 0.0790 \n"
     ]
    },
    {
     "name": "stderr",
     "output_type": "stream",
     "text": [
      "30it [00:00, 44.13it/s]\n",
      " 56%|█████▌    | 28/50 [02:56<02:08,  5.83s/it]"
     ]
    },
    {
     "name": "stdout",
     "output_type": "stream",
     "text": [
      "Epoch:\t  27 |Phase: \t val | Loss:\t\t 0.0306 | Loss-Real:\t 0.0780 \n"
     ]
    },
    {
     "name": "stderr",
     "output_type": "stream",
     "text": [
      "170it [00:04, 34.31it/s]\n"
     ]
    },
    {
     "name": "stdout",
     "output_type": "stream",
     "text": [
      "Epoch:\t  28 |Phase: \t train | Loss:\t\t 0.0314 | Loss-Real:\t 0.0789 \n"
     ]
    },
    {
     "name": "stderr",
     "output_type": "stream",
     "text": [
      "30it [00:00, 40.46it/s]\n",
      " 58%|█████▊    | 29/50 [03:01<02:02,  5.82s/it]"
     ]
    },
    {
     "name": "stdout",
     "output_type": "stream",
     "text": [
      "Epoch:\t  28 |Phase: \t val | Loss:\t\t 0.0306 | Loss-Real:\t 0.0779 \n"
     ]
    },
    {
     "name": "stderr",
     "output_type": "stream",
     "text": [
      "170it [00:05, 30.30it/s]\n"
     ]
    },
    {
     "name": "stdout",
     "output_type": "stream",
     "text": [
      "Epoch:\t  29 |Phase: \t train | Loss:\t\t 0.0314 | Loss-Real:\t 0.0788 \n"
     ]
    },
    {
     "name": "stderr",
     "output_type": "stream",
     "text": [
      "30it [00:00, 37.27it/s]\n",
      " 60%|██████    | 30/50 [03:08<02:00,  6.02s/it]"
     ]
    },
    {
     "name": "stdout",
     "output_type": "stream",
     "text": [
      "Epoch:\t  29 |Phase: \t val | Loss:\t\t 0.0306 | Loss-Real:\t 0.0778 \n"
     ]
    },
    {
     "name": "stderr",
     "output_type": "stream",
     "text": [
      "170it [00:05, 30.76it/s]\n"
     ]
    },
    {
     "name": "stdout",
     "output_type": "stream",
     "text": [
      "Epoch:\t  30 |Phase: \t train | Loss:\t\t 0.0314 | Loss-Real:\t 0.0788 \n"
     ]
    },
    {
     "name": "stderr",
     "output_type": "stream",
     "text": [
      "30it [00:00, 35.49it/s]\n",
      " 62%|██████▏   | 31/50 [03:14<01:57,  6.16s/it]"
     ]
    },
    {
     "name": "stdout",
     "output_type": "stream",
     "text": [
      "Epoch:\t  30 |Phase: \t val | Loss:\t\t 0.0306 | Loss-Real:\t 0.0778 \n"
     ]
    },
    {
     "name": "stderr",
     "output_type": "stream",
     "text": [
      "170it [00:05, 32.13it/s]\n"
     ]
    },
    {
     "name": "stdout",
     "output_type": "stream",
     "text": [
      "Epoch:\t  31 |Phase: \t train | Loss:\t\t 0.0314 | Loss-Real:\t 0.0787 \n"
     ]
    },
    {
     "name": "stderr",
     "output_type": "stream",
     "text": [
      "30it [00:00, 41.79it/s]\n",
      " 64%|██████▍   | 32/50 [03:20<01:50,  6.14s/it]"
     ]
    },
    {
     "name": "stdout",
     "output_type": "stream",
     "text": [
      "Epoch:\t  31 |Phase: \t val | Loss:\t\t 0.0306 | Loss-Real:\t 0.0777 \n"
     ]
    },
    {
     "name": "stderr",
     "output_type": "stream",
     "text": [
      "170it [00:05, 30.67it/s]\n"
     ]
    },
    {
     "name": "stdout",
     "output_type": "stream",
     "text": [
      "Epoch:\t  32 |Phase: \t train | Loss:\t\t 0.0314 | Loss-Real:\t 0.0786 \n"
     ]
    },
    {
     "name": "stderr",
     "output_type": "stream",
     "text": [
      "30it [00:00, 38.00it/s]\n",
      " 66%|██████▌   | 33/50 [03:27<01:45,  6.23s/it]"
     ]
    },
    {
     "name": "stdout",
     "output_type": "stream",
     "text": [
      "Epoch:\t  32 |Phase: \t val | Loss:\t\t 0.0306 | Loss-Real:\t 0.0776 \n"
     ]
    },
    {
     "name": "stderr",
     "output_type": "stream",
     "text": [
      "170it [00:05, 29.79it/s]\n"
     ]
    },
    {
     "name": "stdout",
     "output_type": "stream",
     "text": [
      "Epoch:\t  33 |Phase: \t train | Loss:\t\t 0.0314 | Loss-Real:\t 0.0786 \n"
     ]
    },
    {
     "name": "stderr",
     "output_type": "stream",
     "text": [
      "30it [00:00, 40.07it/s]\n",
      " 68%|██████▊   | 34/50 [03:33<01:41,  6.32s/it]"
     ]
    },
    {
     "name": "stdout",
     "output_type": "stream",
     "text": [
      "Epoch:\t  33 |Phase: \t val | Loss:\t\t 0.0306 | Loss-Real:\t 0.0776 \n"
     ]
    },
    {
     "name": "stderr",
     "output_type": "stream",
     "text": [
      "170it [00:05, 32.54it/s]\n"
     ]
    },
    {
     "name": "stdout",
     "output_type": "stream",
     "text": [
      "Epoch:\t  34 |Phase: \t train | Loss:\t\t 0.0314 | Loss-Real:\t 0.0785 \n"
     ]
    },
    {
     "name": "stderr",
     "output_type": "stream",
     "text": [
      "30it [00:00, 39.84it/s]\n",
      " 70%|███████   | 35/50 [03:40<01:33,  6.24s/it]"
     ]
    },
    {
     "name": "stdout",
     "output_type": "stream",
     "text": [
      "Epoch:\t  34 |Phase: \t val | Loss:\t\t 0.0306 | Loss-Real:\t 0.0775 \n"
     ]
    },
    {
     "name": "stderr",
     "output_type": "stream",
     "text": [
      "170it [00:05, 33.85it/s]\n"
     ]
    },
    {
     "name": "stdout",
     "output_type": "stream",
     "text": [
      "Epoch:\t  35 |Phase: \t train | Loss:\t\t 0.0313 | Loss-Real:\t 0.0785 \n"
     ]
    },
    {
     "name": "stderr",
     "output_type": "stream",
     "text": [
      "30it [00:00, 40.73it/s]\n",
      " 72%|███████▏  | 36/50 [03:45<01:25,  6.12s/it]"
     ]
    },
    {
     "name": "stdout",
     "output_type": "stream",
     "text": [
      "Epoch:\t  35 |Phase: \t val | Loss:\t\t 0.0306 | Loss-Real:\t 0.0775 \n"
     ]
    },
    {
     "name": "stderr",
     "output_type": "stream",
     "text": [
      "170it [00:05, 33.17it/s]\n"
     ]
    },
    {
     "name": "stdout",
     "output_type": "stream",
     "text": [
      "Epoch:\t  36 |Phase: \t train | Loss:\t\t 0.0313 | Loss-Real:\t 0.0784 \n"
     ]
    },
    {
     "name": "stderr",
     "output_type": "stream",
     "text": [
      "30it [00:00, 40.26it/s]\n",
      " 74%|███████▍  | 37/50 [03:51<01:18,  6.08s/it]"
     ]
    },
    {
     "name": "stdout",
     "output_type": "stream",
     "text": [
      "Epoch:\t  36 |Phase: \t val | Loss:\t\t 0.0306 | Loss-Real:\t 0.0774 \n"
     ]
    },
    {
     "name": "stderr",
     "output_type": "stream",
     "text": [
      "170it [00:05, 33.23it/s]\n"
     ]
    },
    {
     "name": "stdout",
     "output_type": "stream",
     "text": [
      "Epoch:\t  37 |Phase: \t train | Loss:\t\t 0.0313 | Loss-Real:\t 0.0784 \n"
     ]
    },
    {
     "name": "stderr",
     "output_type": "stream",
     "text": [
      "30it [00:00, 38.93it/s]\n",
      " 76%|███████▌  | 38/50 [03:57<01:12,  6.05s/it]"
     ]
    },
    {
     "name": "stdout",
     "output_type": "stream",
     "text": [
      "Epoch:\t  37 |Phase: \t val | Loss:\t\t 0.0305 | Loss-Real:\t 0.0774 \n"
     ]
    },
    {
     "name": "stderr",
     "output_type": "stream",
     "text": [
      "170it [00:05, 32.62it/s]\n"
     ]
    },
    {
     "name": "stdout",
     "output_type": "stream",
     "text": [
      "Epoch:\t  38 |Phase: \t train | Loss:\t\t 0.0313 | Loss-Real:\t 0.0783 \n"
     ]
    },
    {
     "name": "stderr",
     "output_type": "stream",
     "text": [
      "30it [00:00, 40.74it/s]\n",
      " 78%|███████▊  | 39/50 [04:03<01:06,  6.05s/it]"
     ]
    },
    {
     "name": "stdout",
     "output_type": "stream",
     "text": [
      "Epoch:\t  38 |Phase: \t val | Loss:\t\t 0.0305 | Loss-Real:\t 0.0773 \n"
     ]
    },
    {
     "name": "stderr",
     "output_type": "stream",
     "text": [
      "170it [00:04, 34.15it/s]\n"
     ]
    },
    {
     "name": "stdout",
     "output_type": "stream",
     "text": [
      "Epoch:\t  39 |Phase: \t train | Loss:\t\t 0.0313 | Loss-Real:\t 0.0783 \n"
     ]
    },
    {
     "name": "stderr",
     "output_type": "stream",
     "text": [
      "30it [00:00, 38.74it/s]\n",
      " 80%|████████  | 40/50 [04:09<00:59,  5.98s/it]"
     ]
    },
    {
     "name": "stdout",
     "output_type": "stream",
     "text": [
      "Epoch:\t  39 |Phase: \t val | Loss:\t\t 0.0305 | Loss-Real:\t 0.0772 \n"
     ]
    },
    {
     "name": "stderr",
     "output_type": "stream",
     "text": [
      "170it [00:05, 31.42it/s]\n"
     ]
    },
    {
     "name": "stdout",
     "output_type": "stream",
     "text": [
      "Epoch:\t  40 |Phase: \t train | Loss:\t\t 0.0313 | Loss-Real:\t 0.0782 \n"
     ]
    },
    {
     "name": "stderr",
     "output_type": "stream",
     "text": [
      "30it [00:00, 33.02it/s]\n",
      " 82%|████████▏ | 41/50 [04:16<00:55,  6.11s/it]"
     ]
    },
    {
     "name": "stdout",
     "output_type": "stream",
     "text": [
      "Epoch:\t  40 |Phase: \t val | Loss:\t\t 0.0305 | Loss-Real:\t 0.0772 \n"
     ]
    },
    {
     "name": "stderr",
     "output_type": "stream",
     "text": [
      "170it [00:05, 30.73it/s]\n"
     ]
    },
    {
     "name": "stdout",
     "output_type": "stream",
     "text": [
      "Epoch:\t  41 |Phase: \t train | Loss:\t\t 0.0313 | Loss-Real:\t 0.0782 \n"
     ]
    },
    {
     "name": "stderr",
     "output_type": "stream",
     "text": [
      "30it [00:00, 38.46it/s]\n",
      " 84%|████████▍ | 42/50 [04:22<00:49,  6.20s/it]"
     ]
    },
    {
     "name": "stdout",
     "output_type": "stream",
     "text": [
      "Epoch:\t  41 |Phase: \t val | Loss:\t\t 0.0305 | Loss-Real:\t 0.0771 \n"
     ]
    },
    {
     "name": "stderr",
     "output_type": "stream",
     "text": [
      "170it [00:05, 30.57it/s]\n"
     ]
    },
    {
     "name": "stdout",
     "output_type": "stream",
     "text": [
      "Epoch:\t  42 |Phase: \t train | Loss:\t\t 0.0313 | Loss-Real:\t 0.0781 \n"
     ]
    },
    {
     "name": "stderr",
     "output_type": "stream",
     "text": [
      "30it [00:00, 34.87it/s]\n",
      " 86%|████████▌ | 43/50 [04:29<00:44,  6.29s/it]"
     ]
    },
    {
     "name": "stdout",
     "output_type": "stream",
     "text": [
      "Epoch:\t  42 |Phase: \t val | Loss:\t\t 0.0305 | Loss-Real:\t 0.0771 \n"
     ]
    },
    {
     "name": "stderr",
     "output_type": "stream",
     "text": [
      "170it [00:05, 32.98it/s]\n"
     ]
    },
    {
     "name": "stdout",
     "output_type": "stream",
     "text": [
      "Epoch:\t  43 |Phase: \t train | Loss:\t\t 0.0313 | Loss-Real:\t 0.0781 \n"
     ]
    },
    {
     "name": "stderr",
     "output_type": "stream",
     "text": [
      "30it [00:00, 43.50it/s]\n",
      " 88%|████████▊ | 44/50 [04:34<00:37,  6.18s/it]"
     ]
    },
    {
     "name": "stdout",
     "output_type": "stream",
     "text": [
      "Epoch:\t  43 |Phase: \t val | Loss:\t\t 0.0305 | Loss-Real:\t 0.0770 \n"
     ]
    },
    {
     "name": "stderr",
     "output_type": "stream",
     "text": [
      "170it [00:04, 34.70it/s]\n"
     ]
    },
    {
     "name": "stdout",
     "output_type": "stream",
     "text": [
      "Epoch:\t  44 |Phase: \t train | Loss:\t\t 0.0313 | Loss-Real:\t 0.0780 \n"
     ]
    },
    {
     "name": "stderr",
     "output_type": "stream",
     "text": [
      "30it [00:00, 43.21it/s]\n",
      " 90%|█████████ | 45/50 [04:40<00:30,  6.03s/it]"
     ]
    },
    {
     "name": "stdout",
     "output_type": "stream",
     "text": [
      "Epoch:\t  44 |Phase: \t val | Loss:\t\t 0.0305 | Loss-Real:\t 0.0770 \n"
     ]
    },
    {
     "name": "stderr",
     "output_type": "stream",
     "text": [
      "170it [00:05, 33.53it/s]\n"
     ]
    },
    {
     "name": "stdout",
     "output_type": "stream",
     "text": [
      "Epoch:\t  45 |Phase: \t train | Loss:\t\t 0.0313 | Loss-Real:\t 0.0780 \n"
     ]
    },
    {
     "name": "stderr",
     "output_type": "stream",
     "text": [
      "30it [00:00, 45.37it/s]\n",
      " 92%|█████████▏| 46/50 [04:46<00:23,  5.96s/it]"
     ]
    },
    {
     "name": "stdout",
     "output_type": "stream",
     "text": [
      "Epoch:\t  45 |Phase: \t val | Loss:\t\t 0.0305 | Loss-Real:\t 0.0770 \n"
     ]
    },
    {
     "name": "stderr",
     "output_type": "stream",
     "text": [
      "170it [00:04, 35.19it/s]\n"
     ]
    },
    {
     "name": "stdout",
     "output_type": "stream",
     "text": [
      "Epoch:\t  46 |Phase: \t train | Loss:\t\t 0.0313 | Loss-Real:\t 0.0779 \n"
     ]
    },
    {
     "name": "stderr",
     "output_type": "stream",
     "text": [
      "30it [00:00, 44.73it/s]\n",
      " 94%|█████████▍| 47/50 [04:51<00:17,  5.85s/it]"
     ]
    },
    {
     "name": "stdout",
     "output_type": "stream",
     "text": [
      "Epoch:\t  46 |Phase: \t val | Loss:\t\t 0.0305 | Loss-Real:\t 0.0769 \n"
     ]
    },
    {
     "name": "stderr",
     "output_type": "stream",
     "text": [
      "170it [00:04, 34.01it/s]\n"
     ]
    },
    {
     "name": "stdout",
     "output_type": "stream",
     "text": [
      "Epoch:\t  47 |Phase: \t train | Loss:\t\t 0.0313 | Loss-Real:\t 0.0779 \n"
     ]
    },
    {
     "name": "stderr",
     "output_type": "stream",
     "text": [
      "30it [00:00, 45.22it/s]\n",
      " 96%|█████████▌| 48/50 [04:57<00:11,  5.81s/it]"
     ]
    },
    {
     "name": "stdout",
     "output_type": "stream",
     "text": [
      "Epoch:\t  47 |Phase: \t val | Loss:\t\t 0.0305 | Loss-Real:\t 0.0769 \n"
     ]
    },
    {
     "name": "stderr",
     "output_type": "stream",
     "text": [
      "170it [00:04, 35.12it/s]\n"
     ]
    },
    {
     "name": "stdout",
     "output_type": "stream",
     "text": [
      "Epoch:\t  48 |Phase: \t train | Loss:\t\t 0.0312 | Loss-Real:\t 0.0778 \n"
     ]
    },
    {
     "name": "stderr",
     "output_type": "stream",
     "text": [
      "30it [00:00, 44.71it/s]\n",
      " 98%|█████████▊| 49/50 [05:03<00:05,  5.75s/it]"
     ]
    },
    {
     "name": "stdout",
     "output_type": "stream",
     "text": [
      "Epoch:\t  48 |Phase: \t val | Loss:\t\t 0.0305 | Loss-Real:\t 0.0768 \n"
     ]
    },
    {
     "name": "stderr",
     "output_type": "stream",
     "text": [
      "170it [00:04, 34.52it/s]\n"
     ]
    },
    {
     "name": "stdout",
     "output_type": "stream",
     "text": [
      "Epoch:\t  49 |Phase: \t train | Loss:\t\t 0.0312 | Loss-Real:\t 0.0778 \n"
     ]
    },
    {
     "name": "stderr",
     "output_type": "stream",
     "text": [
      "30it [00:00, 41.91it/s]\n",
      "100%|██████████| 50/50 [05:09<00:00,  6.18s/it]"
     ]
    },
    {
     "name": "stdout",
     "output_type": "stream",
     "text": [
      "Epoch:\t  49 |Phase: \t val | Loss:\t\t 0.0305 | Loss-Real:\t 0.0768 \n"
     ]
    },
    {
     "name": "stderr",
     "output_type": "stream",
     "text": [
      "\n"
     ]
    }
   ],
   "source": [
    "# Train or retrain or inference\n",
    "\n",
    "print(\"Training process is strted..!\")\n",
    "run_train(training_4chamber_image_files, training_4chamber_info_df, FOUR_CHANNEL)"
   ]
  },
  {
   "attachments": {},
   "cell_type": "markdown",
   "metadata": {},
   "source": [
    "## Regression using ResNet"
   ]
  },
  {
   "cell_type": "code",
   "execution_count": 65,
   "metadata": {},
   "outputs": [],
   "source": [
    "def prepare_resnet_model():\n",
    "    model = models.resnet34(pretrained=True)\n",
    "    num_features = model.fc.in_features\n",
    "    model.fc = nn.Linear(num_features, 1)\n",
    "    model = model.to(device)\n",
    "\n",
    "    return model"
   ]
  },
  {
   "cell_type": "code",
   "execution_count": 66,
   "metadata": {},
   "outputs": [],
   "source": [
    "def prepare_ae_model(checkpoint_path):\n",
    "    model = TubeEncoderDecoder()\n",
    "    checkpoint = torch.load(checkpoint_path)\n",
    "\n",
    "    model.load_state_dict(checkpoint[\"model_state_dict\"])\n",
    "    model.eval()\n",
    "    model = model.to(device)    \n",
    "    return model"
   ]
  },
  {
   "cell_type": "code",
   "execution_count": 67,
   "metadata": {},
   "outputs": [],
   "source": [
    "def train_regression_model(model, model_ae, optimizer, criterion, criterion_validation, dataloaders: dict, start_epoch, num_epochs, checkpoint_interval):\n",
    "\n",
    "    for epoch in tqdm(range(start_epoch, start_epoch + num_epochs)):\n",
    "        for phase in [\"train\", \"val\"]:\n",
    "\n",
    "            if phase == \"train\":\n",
    "                model.train()\n",
    "                dataloader = dataloaders[\"train\"]\n",
    "            else:\n",
    "                model.eval()\n",
    "                dataloader = dataloaders[\"val\"]\n",
    "\n",
    "            running_loss = 0.0\n",
    "            running_loss_real = 0.0\n",
    "            \n",
    "            for i, sample in tqdm(enumerate(dataloader, 0)):\n",
    "\n",
    "                # handle input data\n",
    "                input_img = sample[\"image\"]\n",
    "                input_img = input_img.to(device, torch.float)\n",
    "\n",
    "                # Ground truth data\n",
    "                gt_real = sample[\"lvef_real_norm\"].reshape((2, 1))\n",
    "                gt_real = gt_real.to(device, torch.float)\n",
    "\n",
    "                # get feature image\n",
    "                feature_img, output_img= model_ae(input_img)\n",
    "                \n",
    "                optimizer.zero_grad()\n",
    "                with torch.set_grad_enabled(phase == \"train\"):\n",
    "                    outputs = model(feature_img)\n",
    "\n",
    "                    # Loss\n",
    "                    loss = criterion(outputs, gt_real)\n",
    "                    loss_real = criterion_validation(outputs , gt_real)\n",
    "\n",
    "                    if phase == \"train\":\n",
    "                        loss.backward()\n",
    "                        optimizer.step()\n",
    "\n",
    "                # calculate running loss\n",
    "                running_loss += loss.detach().item() * input_img.size(0)\n",
    "                running_loss_real+= loss_real.detach().item() * input_img.size(0)\n",
    "\n",
    "            epoch_loss = running_loss / dataloaders[\"dataset_size\"][phase]\n",
    "            epoch_loss_real  = running_loss_real / dataloaders[\"dataset_size\"][phase]\n",
    "\n",
    "            # update tensorboard writer\n",
    "            #writer.add_scalars(\"Loss\", {phase:epoch_loss}, epoch)\n",
    "            #writer.add_scalars(\"Loss_real\" , {phase:epoch_loss_real}, epoch)\n",
    "            \n",
    "            # update the lr based on the epoch loss\n",
    "            if phase == \"val\": \n",
    "                # Get current lr\n",
    "                lr = optimizer.param_groups[0]['lr']\n",
    "                print(\"lr=\", lr)\n",
    "                #writer.add_scalar(\"LR\", lr, epoch)\n",
    "                # scheduler.step(epoch_loss) \n",
    "\n",
    "                # save sample feature grid and image grid\n",
    "                save_image(feature_img, f\"regressionoutput/{epoch}.png\", nrow=8, padding=2, normalize=False, value_range=(0,255), scale_each=True, pad_value=0)\n",
    "                #writer.add_images(\"input_one_channel\", input_img[:, 0:1, :, :], epoch)\n",
    "\n",
    "                #writer.add_images(\"feature_img\",feature_img, epoch)\n",
    "\n",
    "                #writer.add_images(\"output_one_channel\", output_img[:, 0:1, :, :], epoch)\n",
    "                \n",
    "            # Print output\n",
    "            print('Epoch:\\t  %d |Phase: \\t %s | Loss:\\t\\t %.4f | Loss-Real:\\t %.4f '\n",
    "                      % (epoch, phase, epoch_loss, epoch_loss_real))\n",
    "        \n",
    "        # Save model\n",
    "        if epoch % checkpoint_interval == 0:\n",
    "            save_model(model, optimizer, epoch, loss, \"regressionoutput\") # loss = validation loss (because of phase=val at last)"
   ]
  },
  {
   "cell_type": "code",
   "execution_count": 68,
   "metadata": {},
   "outputs": [],
   "source": [
    "def run_regression_train():\n",
    "    model = prepare_resnet_model()\n",
    "    model_ae = prepare_ae_model('output/CAMUS_epoch48.pt')\n",
    "    dataloaders = prepare_data(training_4chamber_image_files, training_4chamber_info_df, FOUR_CHANNEL, 0.1)\n",
    "\n",
    "    optimizer = optim.Adam(model.parameters(), lr=1e-3 , weight_decay=0)\n",
    "    # optimizer = optim.SGD(model.parameters(), lr=opt.lr )\n",
    "\n",
    "    criterion =  nn.MSELoss() # backprop loss calculation\n",
    "    criterion_validation = nn.L1Loss() # Absolute error for real loss calculations\n",
    "\n",
    "    # LR shceduler\n",
    "    scheduler = lr_scheduler.ReduceLROnPlateau(optimizer, mode=\"min\", factor=0.1, patience=25, verbose=True)\n",
    "\n",
    "    # call main train loop\n",
    "    train_regression_model(model,model_ae, optimizer, criterion, criterion_validation, dataloaders, 0, 50, 1)\n"
   ]
  },
  {
   "cell_type": "code",
   "execution_count": 69,
   "metadata": {},
   "outputs": [
    {
     "name": "stdout",
     "output_type": "stream",
     "text": [
      "Regression training process is strted..!\n"
     ]
    },
    {
     "name": "stderr",
     "output_type": "stream",
     "text": [
      "c:\\Users\\212364473\\.virtualenvs\\PyTorch-arlbtak8\\lib\\site-packages\\torchvision\\models\\_utils.py:208: UserWarning: The parameter 'pretrained' is deprecated since 0.13 and will be removed in 0.15, please use 'weights' instead.\n",
      "  warnings.warn(\n",
      "c:\\Users\\212364473\\.virtualenvs\\PyTorch-arlbtak8\\lib\\site-packages\\torchvision\\models\\_utils.py:223: UserWarning: Arguments other than a weight enum or `None` for 'weights' are deprecated since 0.13 and will be removed in 0.15. The current behavior is equivalent to passing `weights=ResNet34_Weights.IMAGENET1K_V1`. You can also use `weights=ResNet34_Weights.DEFAULT` to get the most up-to-date weights.\n",
      "  warnings.warn(msg)\n"
     ]
    },
    {
     "name": "stdout",
     "output_type": "stream",
     "text": [
      "train dataset size = 360\n",
      "validation dataset size= 40\n"
     ]
    },
    {
     "name": "stderr",
     "output_type": "stream",
     "text": [
      "180it [00:12, 14.14it/s]0:00<?, ?it/s]\n"
     ]
    },
    {
     "name": "stdout",
     "output_type": "stream",
     "text": [
      "Epoch:\t  0 |Phase: \t train | Loss:\t\t 1.1412 | Loss-Real:\t 0.8422 \n"
     ]
    },
    {
     "name": "stderr",
     "output_type": "stream",
     "text": [
      "20it [00:00, 24.44it/s]\n"
     ]
    },
    {
     "name": "stdout",
     "output_type": "stream",
     "text": [
      "lr= 0.001\n",
      "Epoch:\t  0 |Phase: \t val | Loss:\t\t 2.1440 | Loss-Real:\t 1.1384 \n"
     ]
    },
    {
     "name": "stderr",
     "output_type": "stream",
     "text": [
      "180it [00:13, 13.55it/s]0:13<11:23, 13.95s/it]\n"
     ]
    },
    {
     "name": "stdout",
     "output_type": "stream",
     "text": [
      "Epoch:\t  1 |Phase: \t train | Loss:\t\t 0.9588 | Loss-Real:\t 0.7754 \n"
     ]
    },
    {
     "name": "stderr",
     "output_type": "stream",
     "text": [
      "20it [00:00, 26.86it/s]\n"
     ]
    },
    {
     "name": "stdout",
     "output_type": "stream",
     "text": [
      "lr= 0.001\n",
      "Epoch:\t  1 |Phase: \t val | Loss:\t\t 1.0176 | Loss-Real:\t 0.7123 \n"
     ]
    },
    {
     "name": "stderr",
     "output_type": "stream",
     "text": [
      "180it [00:13, 13.67it/s]0:28<11:23, 14.24s/it]\n"
     ]
    },
    {
     "name": "stdout",
     "output_type": "stream",
     "text": [
      "Epoch:\t  2 |Phase: \t train | Loss:\t\t 0.8814 | Loss-Real:\t 0.7384 \n"
     ]
    },
    {
     "name": "stderr",
     "output_type": "stream",
     "text": [
      "20it [00:00, 26.42it/s]\n"
     ]
    },
    {
     "name": "stdout",
     "output_type": "stream",
     "text": [
      "lr= 0.001\n",
      "Epoch:\t  2 |Phase: \t val | Loss:\t\t 0.9545 | Loss-Real:\t 0.7627 \n"
     ]
    },
    {
     "name": "stderr",
     "output_type": "stream",
     "text": [
      "180it [00:12, 14.63it/s]0:42<11:12, 14.31s/it]\n"
     ]
    },
    {
     "name": "stdout",
     "output_type": "stream",
     "text": [
      "Epoch:\t  3 |Phase: \t train | Loss:\t\t 0.7943 | Loss-Real:\t 0.6995 \n"
     ]
    },
    {
     "name": "stderr",
     "output_type": "stream",
     "text": [
      "20it [00:00, 26.53it/s]\n"
     ]
    },
    {
     "name": "stdout",
     "output_type": "stream",
     "text": [
      "lr= 0.001\n",
      "Epoch:\t  3 |Phase: \t val | Loss:\t\t 0.9333 | Loss-Real:\t 0.7675 \n"
     ]
    },
    {
     "name": "stderr",
     "output_type": "stream",
     "text": [
      "180it [00:11, 15.02it/s]0:56<10:43, 14.00s/it]\n"
     ]
    },
    {
     "name": "stdout",
     "output_type": "stream",
     "text": [
      "Epoch:\t  4 |Phase: \t train | Loss:\t\t 0.7391 | Loss-Real:\t 0.6789 \n"
     ]
    },
    {
     "name": "stderr",
     "output_type": "stream",
     "text": [
      "20it [00:00, 28.69it/s]\n"
     ]
    },
    {
     "name": "stdout",
     "output_type": "stream",
     "text": [
      "lr= 0.001\n",
      "Epoch:\t  4 |Phase: \t val | Loss:\t\t 1.1560 | Loss-Real:\t 0.8543 \n"
     ]
    },
    {
     "name": "stderr",
     "output_type": "stream",
     "text": [
      "180it [00:12, 14.15it/s]1:09<10:16, 13.69s/it]\n"
     ]
    },
    {
     "name": "stdout",
     "output_type": "stream",
     "text": [
      "Epoch:\t  5 |Phase: \t train | Loss:\t\t 0.6880 | Loss-Real:\t 0.6614 \n"
     ]
    },
    {
     "name": "stderr",
     "output_type": "stream",
     "text": [
      "20it [00:01, 19.54it/s]\n"
     ]
    },
    {
     "name": "stdout",
     "output_type": "stream",
     "text": [
      "lr= 0.001\n",
      "Epoch:\t  5 |Phase: \t val | Loss:\t\t 1.3409 | Loss-Real:\t 0.9211 \n"
     ]
    },
    {
     "name": "stderr",
     "output_type": "stream",
     "text": [
      "180it [00:12, 14.14it/s]1:23<10:11, 13.90s/it]\n"
     ]
    },
    {
     "name": "stdout",
     "output_type": "stream",
     "text": [
      "Epoch:\t  6 |Phase: \t train | Loss:\t\t 0.6522 | Loss-Real:\t 0.6394 \n"
     ]
    },
    {
     "name": "stderr",
     "output_type": "stream",
     "text": [
      "20it [00:00, 25.94it/s]\n"
     ]
    },
    {
     "name": "stdout",
     "output_type": "stream",
     "text": [
      "lr= 0.001\n",
      "Epoch:\t  6 |Phase: \t val | Loss:\t\t 0.8347 | Loss-Real:\t 0.7529 \n"
     ]
    },
    {
     "name": "stderr",
     "output_type": "stream",
     "text": [
      "180it [00:12, 14.79it/s]1:37<09:58, 13.93s/it]\n"
     ]
    },
    {
     "name": "stdout",
     "output_type": "stream",
     "text": [
      "Epoch:\t  7 |Phase: \t train | Loss:\t\t 0.6089 | Loss-Real:\t 0.6208 \n"
     ]
    },
    {
     "name": "stderr",
     "output_type": "stream",
     "text": [
      "20it [00:00, 27.51it/s]\n"
     ]
    },
    {
     "name": "stdout",
     "output_type": "stream",
     "text": [
      "lr= 0.001\n",
      "Epoch:\t  7 |Phase: \t val | Loss:\t\t 0.9893 | Loss-Real:\t 0.8218 \n"
     ]
    },
    {
     "name": "stderr",
     "output_type": "stream",
     "text": [
      "180it [00:11, 15.09it/s]1:51<09:37, 13.75s/it]\n"
     ]
    },
    {
     "name": "stdout",
     "output_type": "stream",
     "text": [
      "Epoch:\t  8 |Phase: \t train | Loss:\t\t 0.5578 | Loss-Real:\t 0.5925 \n"
     ]
    },
    {
     "name": "stderr",
     "output_type": "stream",
     "text": [
      "20it [00:00, 29.49it/s]\n"
     ]
    },
    {
     "name": "stdout",
     "output_type": "stream",
     "text": [
      "lr= 0.001\n",
      "Epoch:\t  8 |Phase: \t val | Loss:\t\t 1.1488 | Loss-Real:\t 0.8637 \n"
     ]
    },
    {
     "name": "stderr",
     "output_type": "stream",
     "text": [
      "180it [00:12, 14.77it/s]2:04<09:14, 13.53s/it]\n"
     ]
    },
    {
     "name": "stdout",
     "output_type": "stream",
     "text": [
      "Epoch:\t  9 |Phase: \t train | Loss:\t\t 0.4721 | Loss-Real:\t 0.5504 \n"
     ]
    },
    {
     "name": "stderr",
     "output_type": "stream",
     "text": [
      "20it [00:00, 27.46it/s]\n"
     ]
    },
    {
     "name": "stdout",
     "output_type": "stream",
     "text": [
      "lr= 0.001\n",
      "Epoch:\t  9 |Phase: \t val | Loss:\t\t 0.9274 | Loss-Real:\t 0.7713 \n"
     ]
    },
    {
     "name": "stderr",
     "output_type": "stream",
     "text": [
      "180it [00:12, 14.73it/s]02:17<08:59, 13.49s/it]\n"
     ]
    },
    {
     "name": "stdout",
     "output_type": "stream",
     "text": [
      "Epoch:\t  10 |Phase: \t train | Loss:\t\t 0.3767 | Loss-Real:\t 0.4847 \n"
     ]
    },
    {
     "name": "stderr",
     "output_type": "stream",
     "text": [
      "20it [00:01, 15.77it/s]\n"
     ]
    },
    {
     "name": "stdout",
     "output_type": "stream",
     "text": [
      "lr= 0.001\n",
      "Epoch:\t  10 |Phase: \t val | Loss:\t\t 1.2530 | Loss-Real:\t 0.8848 \n"
     ]
    },
    {
     "name": "stderr",
     "output_type": "stream",
     "text": [
      "180it [00:13, 13.80it/s]02:31<08:53, 13.68s/it]\n"
     ]
    },
    {
     "name": "stdout",
     "output_type": "stream",
     "text": [
      "Epoch:\t  11 |Phase: \t train | Loss:\t\t 0.3920 | Loss-Real:\t 0.4876 \n"
     ]
    },
    {
     "name": "stderr",
     "output_type": "stream",
     "text": [
      "20it [00:00, 27.13it/s]\n"
     ]
    },
    {
     "name": "stdout",
     "output_type": "stream",
     "text": [
      "lr= 0.001\n",
      "Epoch:\t  11 |Phase: \t val | Loss:\t\t 1.5363 | Loss-Real:\t 0.9583 \n"
     ]
    },
    {
     "name": "stderr",
     "output_type": "stream",
     "text": [
      "180it [00:12, 14.82it/s]02:45<08:46, 13.85s/it]\n"
     ]
    },
    {
     "name": "stdout",
     "output_type": "stream",
     "text": [
      "Epoch:\t  12 |Phase: \t train | Loss:\t\t 0.4091 | Loss-Real:\t 0.5076 \n"
     ]
    },
    {
     "name": "stderr",
     "output_type": "stream",
     "text": [
      "20it [00:00, 25.35it/s]\n"
     ]
    },
    {
     "name": "stdout",
     "output_type": "stream",
     "text": [
      "lr= 0.001\n",
      "Epoch:\t  12 |Phase: \t val | Loss:\t\t 1.8404 | Loss-Real:\t 1.0685 \n"
     ]
    },
    {
     "name": "stderr",
     "output_type": "stream",
     "text": [
      "180it [00:12, 14.36it/s]02:59<08:27, 13.73s/it]\n"
     ]
    },
    {
     "name": "stdout",
     "output_type": "stream",
     "text": [
      "Epoch:\t  13 |Phase: \t train | Loss:\t\t 0.2783 | Loss-Real:\t 0.4161 \n"
     ]
    },
    {
     "name": "stderr",
     "output_type": "stream",
     "text": [
      "20it [00:00, 26.88it/s]\n"
     ]
    },
    {
     "name": "stdout",
     "output_type": "stream",
     "text": [
      "lr= 0.001\n",
      "Epoch:\t  13 |Phase: \t val | Loss:\t\t 1.3001 | Loss-Real:\t 0.8853 \n"
     ]
    },
    {
     "name": "stderr",
     "output_type": "stream",
     "text": [
      "180it [00:11, 15.42it/s]03:13<08:15, 13.76s/it]\n"
     ]
    },
    {
     "name": "stdout",
     "output_type": "stream",
     "text": [
      "Epoch:\t  14 |Phase: \t train | Loss:\t\t 0.2461 | Loss-Real:\t 0.3905 \n"
     ]
    },
    {
     "name": "stderr",
     "output_type": "stream",
     "text": [
      "20it [00:00, 27.24it/s]\n"
     ]
    },
    {
     "name": "stdout",
     "output_type": "stream",
     "text": [
      "lr= 0.001\n",
      "Epoch:\t  14 |Phase: \t val | Loss:\t\t 1.4857 | Loss-Real:\t 0.9722 \n"
     ]
    },
    {
     "name": "stderr",
     "output_type": "stream",
     "text": [
      "180it [00:12, 14.09it/s]03:26<07:52, 13.49s/it]\n"
     ]
    },
    {
     "name": "stdout",
     "output_type": "stream",
     "text": [
      "Epoch:\t  15 |Phase: \t train | Loss:\t\t 0.2018 | Loss-Real:\t 0.3569 \n"
     ]
    },
    {
     "name": "stderr",
     "output_type": "stream",
     "text": [
      "20it [00:00, 24.49it/s]\n"
     ]
    },
    {
     "name": "stdout",
     "output_type": "stream",
     "text": [
      "lr= 0.001\n",
      "Epoch:\t  15 |Phase: \t val | Loss:\t\t 1.5793 | Loss-Real:\t 0.9788 \n"
     ]
    },
    {
     "name": "stderr",
     "output_type": "stream",
     "text": [
      "180it [00:14, 12.33it/s]03:40<07:45, 13.68s/it]\n"
     ]
    },
    {
     "name": "stdout",
     "output_type": "stream",
     "text": [
      "Epoch:\t  16 |Phase: \t train | Loss:\t\t 0.2096 | Loss-Real:\t 0.3559 \n"
     ]
    },
    {
     "name": "stderr",
     "output_type": "stream",
     "text": [
      "20it [00:00, 26.49it/s]\n"
     ]
    },
    {
     "name": "stdout",
     "output_type": "stream",
     "text": [
      "lr= 0.001\n",
      "Epoch:\t  16 |Phase: \t val | Loss:\t\t 2.1967 | Loss-Real:\t 1.1442 \n"
     ]
    },
    {
     "name": "stderr",
     "output_type": "stream",
     "text": [
      "180it [00:13, 13.52it/s]03:55<07:52, 14.33s/it]\n"
     ]
    },
    {
     "name": "stdout",
     "output_type": "stream",
     "text": [
      "Epoch:\t  17 |Phase: \t train | Loss:\t\t 0.1771 | Loss-Real:\t 0.3304 \n"
     ]
    },
    {
     "name": "stderr",
     "output_type": "stream",
     "text": [
      "20it [00:00, 28.18it/s]\n"
     ]
    },
    {
     "name": "stdout",
     "output_type": "stream",
     "text": [
      "lr= 0.001\n",
      "Epoch:\t  17 |Phase: \t val | Loss:\t\t 2.1831 | Loss-Real:\t 1.1640 \n"
     ]
    },
    {
     "name": "stderr",
     "output_type": "stream",
     "text": [
      "180it [00:12, 13.88it/s]04:10<07:40, 14.38s/it]\n"
     ]
    },
    {
     "name": "stdout",
     "output_type": "stream",
     "text": [
      "Epoch:\t  18 |Phase: \t train | Loss:\t\t 0.2698 | Loss-Real:\t 0.4175 \n"
     ]
    },
    {
     "name": "stderr",
     "output_type": "stream",
     "text": [
      "20it [00:00, 25.93it/s]\n"
     ]
    },
    {
     "name": "stdout",
     "output_type": "stream",
     "text": [
      "lr= 0.001\n",
      "Epoch:\t  18 |Phase: \t val | Loss:\t\t 0.8578 | Loss-Real:\t 0.7390 \n"
     ]
    },
    {
     "name": "stderr",
     "output_type": "stream",
     "text": [
      "180it [00:13, 13.73it/s]04:24<07:24, 14.34s/it]\n"
     ]
    },
    {
     "name": "stdout",
     "output_type": "stream",
     "text": [
      "Epoch:\t  19 |Phase: \t train | Loss:\t\t 0.2075 | Loss-Real:\t 0.3685 \n"
     ]
    },
    {
     "name": "stderr",
     "output_type": "stream",
     "text": [
      "20it [00:00, 26.51it/s]\n"
     ]
    },
    {
     "name": "stdout",
     "output_type": "stream",
     "text": [
      "lr= 0.001\n",
      "Epoch:\t  19 |Phase: \t val | Loss:\t\t 0.9333 | Loss-Real:\t 0.7623 \n"
     ]
    },
    {
     "name": "stderr",
     "output_type": "stream",
     "text": [
      "180it [00:13, 13.49it/s]04:39<07:10, 14.34s/it]\n"
     ]
    },
    {
     "name": "stdout",
     "output_type": "stream",
     "text": [
      "Epoch:\t  20 |Phase: \t train | Loss:\t\t 0.2624 | Loss-Real:\t 0.4030 \n"
     ]
    },
    {
     "name": "stderr",
     "output_type": "stream",
     "text": [
      "20it [00:00, 26.97it/s]\n"
     ]
    },
    {
     "name": "stdout",
     "output_type": "stream",
     "text": [
      "lr= 0.001\n",
      "Epoch:\t  20 |Phase: \t val | Loss:\t\t 0.8942 | Loss-Real:\t 0.7575 \n"
     ]
    },
    {
     "name": "stderr",
     "output_type": "stream",
     "text": [
      "180it [00:15, 11.73it/s]04:53<06:58, 14.41s/it]\n"
     ]
    },
    {
     "name": "stdout",
     "output_type": "stream",
     "text": [
      "Epoch:\t  21 |Phase: \t train | Loss:\t\t 0.1814 | Loss-Real:\t 0.3408 \n"
     ]
    },
    {
     "name": "stderr",
     "output_type": "stream",
     "text": [
      "20it [00:00, 27.12it/s]\n"
     ]
    },
    {
     "name": "stdout",
     "output_type": "stream",
     "text": [
      "lr= 0.001\n",
      "Epoch:\t  21 |Phase: \t val | Loss:\t\t 1.0060 | Loss-Real:\t 0.7893 \n"
     ]
    },
    {
     "name": "stderr",
     "output_type": "stream",
     "text": [
      "180it [00:12, 14.11it/s]05:10<07:01, 15.06s/it]\n"
     ]
    },
    {
     "name": "stdout",
     "output_type": "stream",
     "text": [
      "Epoch:\t  22 |Phase: \t train | Loss:\t\t 0.2612 | Loss-Real:\t 0.4068 \n"
     ]
    },
    {
     "name": "stderr",
     "output_type": "stream",
     "text": [
      "20it [00:00, 25.49it/s]\n"
     ]
    },
    {
     "name": "stdout",
     "output_type": "stream",
     "text": [
      "lr= 0.001\n",
      "Epoch:\t  22 |Phase: \t val | Loss:\t\t 1.2275 | Loss-Real:\t 0.8438 \n"
     ]
    },
    {
     "name": "stderr",
     "output_type": "stream",
     "text": [
      "180it [00:12, 14.69it/s]05:24<06:38, 14.75s/it]\n"
     ]
    },
    {
     "name": "stdout",
     "output_type": "stream",
     "text": [
      "Epoch:\t  23 |Phase: \t train | Loss:\t\t 0.2604 | Loss-Real:\t 0.3985 \n"
     ]
    },
    {
     "name": "stderr",
     "output_type": "stream",
     "text": [
      "20it [00:00, 26.75it/s]\n"
     ]
    },
    {
     "name": "stdout",
     "output_type": "stream",
     "text": [
      "lr= 0.001\n",
      "Epoch:\t  23 |Phase: \t val | Loss:\t\t 0.7130 | Loss-Real:\t 0.6373 \n"
     ]
    },
    {
     "name": "stderr",
     "output_type": "stream",
     "text": [
      "180it [00:12, 14.42it/s]05:37<06:13, 14.37s/it]\n"
     ]
    },
    {
     "name": "stdout",
     "output_type": "stream",
     "text": [
      "Epoch:\t  24 |Phase: \t train | Loss:\t\t 0.2290 | Loss-Real:\t 0.3768 \n"
     ]
    },
    {
     "name": "stderr",
     "output_type": "stream",
     "text": [
      "20it [00:00, 25.74it/s]\n"
     ]
    },
    {
     "name": "stdout",
     "output_type": "stream",
     "text": [
      "lr= 0.001\n",
      "Epoch:\t  24 |Phase: \t val | Loss:\t\t 1.6785 | Loss-Real:\t 0.9924 \n"
     ]
    },
    {
     "name": "stderr",
     "output_type": "stream",
     "text": [
      "180it [00:12, 14.76it/s]05:51<05:54, 14.18s/it]\n"
     ]
    },
    {
     "name": "stdout",
     "output_type": "stream",
     "text": [
      "Epoch:\t  25 |Phase: \t train | Loss:\t\t 0.1297 | Loss-Real:\t 0.2858 \n"
     ]
    },
    {
     "name": "stderr",
     "output_type": "stream",
     "text": [
      "20it [00:00, 24.55it/s]\n"
     ]
    },
    {
     "name": "stdout",
     "output_type": "stream",
     "text": [
      "lr= 0.001\n",
      "Epoch:\t  25 |Phase: \t val | Loss:\t\t 2.3398 | Loss-Real:\t 1.1750 \n"
     ]
    },
    {
     "name": "stderr",
     "output_type": "stream",
     "text": [
      "180it [00:12, 14.54it/s]06:05<05:35, 13.99s/it]\n"
     ]
    },
    {
     "name": "stdout",
     "output_type": "stream",
     "text": [
      "Epoch:\t  26 |Phase: \t train | Loss:\t\t 0.1116 | Loss-Real:\t 0.2642 \n"
     ]
    },
    {
     "name": "stderr",
     "output_type": "stream",
     "text": [
      "20it [00:00, 27.06it/s]\n"
     ]
    },
    {
     "name": "stdout",
     "output_type": "stream",
     "text": [
      "lr= 0.001\n",
      "Epoch:\t  26 |Phase: \t val | Loss:\t\t 1.0790 | Loss-Real:\t 0.8186 \n"
     ]
    },
    {
     "name": "stderr",
     "output_type": "stream",
     "text": [
      "180it [00:12, 14.57it/s]06:18<05:19, 13.87s/it]\n"
     ]
    },
    {
     "name": "stdout",
     "output_type": "stream",
     "text": [
      "Epoch:\t  27 |Phase: \t train | Loss:\t\t 0.0926 | Loss-Real:\t 0.2390 \n"
     ]
    },
    {
     "name": "stderr",
     "output_type": "stream",
     "text": [
      "20it [00:00, 27.77it/s]\n"
     ]
    },
    {
     "name": "stdout",
     "output_type": "stream",
     "text": [
      "lr= 0.001\n",
      "Epoch:\t  27 |Phase: \t val | Loss:\t\t 1.4972 | Loss-Real:\t 0.9644 \n"
     ]
    },
    {
     "name": "stderr",
     "output_type": "stream",
     "text": [
      "180it [00:11, 15.31it/s]06:32<05:03, 13.77s/it]\n"
     ]
    },
    {
     "name": "stdout",
     "output_type": "stream",
     "text": [
      "Epoch:\t  28 |Phase: \t train | Loss:\t\t 0.0883 | Loss-Real:\t 0.2325 \n"
     ]
    },
    {
     "name": "stderr",
     "output_type": "stream",
     "text": [
      "20it [00:00, 27.63it/s]\n"
     ]
    },
    {
     "name": "stdout",
     "output_type": "stream",
     "text": [
      "lr= 0.001\n",
      "Epoch:\t  28 |Phase: \t val | Loss:\t\t 1.3187 | Loss-Real:\t 0.8998 \n"
     ]
    },
    {
     "name": "stderr",
     "output_type": "stream",
     "text": [
      "180it [00:12, 14.98it/s]06:45<04:44, 13.53s/it]\n"
     ]
    },
    {
     "name": "stdout",
     "output_type": "stream",
     "text": [
      "Epoch:\t  29 |Phase: \t train | Loss:\t\t 0.0978 | Loss-Real:\t 0.2454 \n"
     ]
    },
    {
     "name": "stderr",
     "output_type": "stream",
     "text": [
      "20it [00:00, 25.99it/s]\n"
     ]
    },
    {
     "name": "stdout",
     "output_type": "stream",
     "text": [
      "lr= 0.001\n",
      "Epoch:\t  29 |Phase: \t val | Loss:\t\t 0.8117 | Loss-Real:\t 0.7253 \n"
     ]
    },
    {
     "name": "stderr",
     "output_type": "stream",
     "text": [
      "180it [00:13, 13.60it/s]06:58<04:28, 13.45s/it]\n"
     ]
    },
    {
     "name": "stdout",
     "output_type": "stream",
     "text": [
      "Epoch:\t  30 |Phase: \t train | Loss:\t\t 0.1278 | Loss-Real:\t 0.2788 \n"
     ]
    },
    {
     "name": "stderr",
     "output_type": "stream",
     "text": [
      "20it [00:00, 23.26it/s]\n"
     ]
    },
    {
     "name": "stdout",
     "output_type": "stream",
     "text": [
      "lr= 0.001\n",
      "Epoch:\t  30 |Phase: \t val | Loss:\t\t 0.8748 | Loss-Real:\t 0.7705 \n"
     ]
    },
    {
     "name": "stderr",
     "output_type": "stream",
     "text": [
      "180it [00:12, 14.65it/s]07:13<04:22, 13.80s/it]\n"
     ]
    },
    {
     "name": "stdout",
     "output_type": "stream",
     "text": [
      "Epoch:\t  31 |Phase: \t train | Loss:\t\t 0.1454 | Loss-Real:\t 0.2906 \n"
     ]
    },
    {
     "name": "stderr",
     "output_type": "stream",
     "text": [
      "20it [00:00, 25.68it/s]\n"
     ]
    },
    {
     "name": "stdout",
     "output_type": "stream",
     "text": [
      "lr= 0.001\n",
      "Epoch:\t  31 |Phase: \t val | Loss:\t\t 0.5728 | Loss-Real:\t 0.6081 \n"
     ]
    },
    {
     "name": "stderr",
     "output_type": "stream",
     "text": [
      "180it [00:12, 14.55it/s]07:26<04:06, 13.72s/it]\n"
     ]
    },
    {
     "name": "stdout",
     "output_type": "stream",
     "text": [
      "Epoch:\t  32 |Phase: \t train | Loss:\t\t 0.1353 | Loss-Real:\t 0.2886 \n"
     ]
    },
    {
     "name": "stderr",
     "output_type": "stream",
     "text": [
      "20it [00:00, 26.22it/s]\n"
     ]
    },
    {
     "name": "stdout",
     "output_type": "stream",
     "text": [
      "lr= 0.001\n",
      "Epoch:\t  32 |Phase: \t val | Loss:\t\t 0.6785 | Loss-Real:\t 0.6674 \n"
     ]
    },
    {
     "name": "stderr",
     "output_type": "stream",
     "text": [
      "180it [00:12, 13.85it/s]07:40<03:52, 13.69s/it]\n"
     ]
    },
    {
     "name": "stdout",
     "output_type": "stream",
     "text": [
      "Epoch:\t  33 |Phase: \t train | Loss:\t\t 0.1578 | Loss-Real:\t 0.3196 \n"
     ]
    },
    {
     "name": "stderr",
     "output_type": "stream",
     "text": [
      "20it [00:00, 25.65it/s]\n"
     ]
    },
    {
     "name": "stdout",
     "output_type": "stream",
     "text": [
      "lr= 0.001\n",
      "Epoch:\t  33 |Phase: \t val | Loss:\t\t 0.7623 | Loss-Real:\t 0.6931 \n"
     ]
    },
    {
     "name": "stderr",
     "output_type": "stream",
     "text": [
      "180it [00:12, 14.10it/s]07:54<03:41, 13.86s/it]\n"
     ]
    },
    {
     "name": "stdout",
     "output_type": "stream",
     "text": [
      "Epoch:\t  34 |Phase: \t train | Loss:\t\t 0.1614 | Loss-Real:\t 0.3167 \n"
     ]
    },
    {
     "name": "stderr",
     "output_type": "stream",
     "text": [
      "20it [00:00, 26.35it/s]\n"
     ]
    },
    {
     "name": "stdout",
     "output_type": "stream",
     "text": [
      "lr= 0.001\n",
      "Epoch:\t  34 |Phase: \t val | Loss:\t\t 0.8904 | Loss-Real:\t 0.7574 \n"
     ]
    },
    {
     "name": "stderr",
     "output_type": "stream",
     "text": [
      "180it [00:14, 12.83it/s]08:08<03:28, 13.91s/it]\n"
     ]
    },
    {
     "name": "stdout",
     "output_type": "stream",
     "text": [
      "Epoch:\t  35 |Phase: \t train | Loss:\t\t 0.1409 | Loss-Real:\t 0.2925 \n"
     ]
    },
    {
     "name": "stderr",
     "output_type": "stream",
     "text": [
      "20it [00:00, 24.93it/s]\n"
     ]
    },
    {
     "name": "stdout",
     "output_type": "stream",
     "text": [
      "lr= 0.001\n",
      "Epoch:\t  35 |Phase: \t val | Loss:\t\t 0.8692 | Loss-Real:\t 0.7161 \n"
     ]
    },
    {
     "name": "stderr",
     "output_type": "stream",
     "text": [
      "180it [00:12, 14.07it/s]08:23<03:20, 14.34s/it]\n"
     ]
    },
    {
     "name": "stdout",
     "output_type": "stream",
     "text": [
      "Epoch:\t  36 |Phase: \t train | Loss:\t\t 0.1314 | Loss-Real:\t 0.2947 \n"
     ]
    },
    {
     "name": "stderr",
     "output_type": "stream",
     "text": [
      "20it [00:00, 24.03it/s]\n"
     ]
    },
    {
     "name": "stdout",
     "output_type": "stream",
     "text": [
      "lr= 0.001\n",
      "Epoch:\t  36 |Phase: \t val | Loss:\t\t 1.2957 | Loss-Real:\t 0.8999 \n"
     ]
    },
    {
     "name": "stderr",
     "output_type": "stream",
     "text": [
      "180it [00:13, 13.77it/s]08:37<03:05, 14.28s/it]\n"
     ]
    },
    {
     "name": "stdout",
     "output_type": "stream",
     "text": [
      "Epoch:\t  37 |Phase: \t train | Loss:\t\t 0.1588 | Loss-Real:\t 0.3274 \n"
     ]
    },
    {
     "name": "stderr",
     "output_type": "stream",
     "text": [
      "20it [00:00, 25.68it/s]\n"
     ]
    },
    {
     "name": "stdout",
     "output_type": "stream",
     "text": [
      "lr= 0.001\n",
      "Epoch:\t  37 |Phase: \t val | Loss:\t\t 1.5790 | Loss-Real:\t 0.9820 \n"
     ]
    },
    {
     "name": "stderr",
     "output_type": "stream",
     "text": [
      "180it [00:12, 14.14it/s]08:52<02:51, 14.29s/it]\n"
     ]
    },
    {
     "name": "stdout",
     "output_type": "stream",
     "text": [
      "Epoch:\t  38 |Phase: \t train | Loss:\t\t 0.1634 | Loss-Real:\t 0.3277 \n"
     ]
    },
    {
     "name": "stderr",
     "output_type": "stream",
     "text": [
      "20it [00:00, 23.30it/s]\n"
     ]
    },
    {
     "name": "stdout",
     "output_type": "stream",
     "text": [
      "lr= 0.001\n",
      "Epoch:\t  38 |Phase: \t val | Loss:\t\t 1.4893 | Loss-Real:\t 0.9708 \n"
     ]
    },
    {
     "name": "stderr",
     "output_type": "stream",
     "text": [
      "180it [00:12, 13.88it/s]09:06<02:36, 14.23s/it]\n"
     ]
    },
    {
     "name": "stdout",
     "output_type": "stream",
     "text": [
      "Epoch:\t  39 |Phase: \t train | Loss:\t\t 0.1197 | Loss-Real:\t 0.2802 \n"
     ]
    },
    {
     "name": "stderr",
     "output_type": "stream",
     "text": [
      "20it [00:00, 24.84it/s]\n"
     ]
    },
    {
     "name": "stdout",
     "output_type": "stream",
     "text": [
      "lr= 0.001\n",
      "Epoch:\t  39 |Phase: \t val | Loss:\t\t 0.8503 | Loss-Real:\t 0.6990 \n"
     ]
    },
    {
     "name": "stderr",
     "output_type": "stream",
     "text": [
      "180it [00:12, 13.89it/s]09:20<02:22, 14.25s/it]\n"
     ]
    },
    {
     "name": "stdout",
     "output_type": "stream",
     "text": [
      "Epoch:\t  40 |Phase: \t train | Loss:\t\t 0.0984 | Loss-Real:\t 0.2543 \n"
     ]
    },
    {
     "name": "stderr",
     "output_type": "stream",
     "text": [
      "20it [00:00, 24.98it/s]\n"
     ]
    },
    {
     "name": "stdout",
     "output_type": "stream",
     "text": [
      "lr= 0.001\n",
      "Epoch:\t  40 |Phase: \t val | Loss:\t\t 0.7145 | Loss-Real:\t 0.6584 \n"
     ]
    },
    {
     "name": "stderr",
     "output_type": "stream",
     "text": [
      "180it [00:12, 13.94it/s]09:34<02:08, 14.27s/it]\n"
     ]
    },
    {
     "name": "stdout",
     "output_type": "stream",
     "text": [
      "Epoch:\t  41 |Phase: \t train | Loss:\t\t 0.1012 | Loss-Real:\t 0.2461 \n"
     ]
    },
    {
     "name": "stderr",
     "output_type": "stream",
     "text": [
      "20it [00:00, 25.58it/s]\n"
     ]
    },
    {
     "name": "stdout",
     "output_type": "stream",
     "text": [
      "lr= 0.001\n",
      "Epoch:\t  41 |Phase: \t val | Loss:\t\t 0.7571 | Loss-Real:\t 0.6546 \n"
     ]
    },
    {
     "name": "stderr",
     "output_type": "stream",
     "text": [
      "180it [00:12, 14.46it/s]09:49<01:53, 14.25s/it]\n"
     ]
    },
    {
     "name": "stdout",
     "output_type": "stream",
     "text": [
      "Epoch:\t  42 |Phase: \t train | Loss:\t\t 0.0961 | Loss-Real:\t 0.2371 \n"
     ]
    },
    {
     "name": "stderr",
     "output_type": "stream",
     "text": [
      "20it [00:00, 27.78it/s]\n"
     ]
    },
    {
     "name": "stdout",
     "output_type": "stream",
     "text": [
      "lr= 0.001\n",
      "Epoch:\t  42 |Phase: \t val | Loss:\t\t 0.7894 | Loss-Real:\t 0.7010 \n"
     ]
    },
    {
     "name": "stderr",
     "output_type": "stream",
     "text": [
      "180it [00:12, 14.45it/s]10:02<01:38, 14.06s/it]\n"
     ]
    },
    {
     "name": "stdout",
     "output_type": "stream",
     "text": [
      "Epoch:\t  43 |Phase: \t train | Loss:\t\t 0.0994 | Loss-Real:\t 0.2457 \n"
     ]
    },
    {
     "name": "stderr",
     "output_type": "stream",
     "text": [
      "20it [00:00, 24.76it/s]\n"
     ]
    },
    {
     "name": "stdout",
     "output_type": "stream",
     "text": [
      "lr= 0.001\n",
      "Epoch:\t  43 |Phase: \t val | Loss:\t\t 0.8358 | Loss-Real:\t 0.7133 \n"
     ]
    },
    {
     "name": "stderr",
     "output_type": "stream",
     "text": [
      "180it [00:13, 13.49it/s]10:16<01:23, 13.97s/it]\n"
     ]
    },
    {
     "name": "stdout",
     "output_type": "stream",
     "text": [
      "Epoch:\t  44 |Phase: \t train | Loss:\t\t 0.1062 | Loss-Real:\t 0.2567 \n"
     ]
    },
    {
     "name": "stderr",
     "output_type": "stream",
     "text": [
      "20it [00:00, 25.98it/s]\n"
     ]
    },
    {
     "name": "stdout",
     "output_type": "stream",
     "text": [
      "lr= 0.001\n",
      "Epoch:\t  44 |Phase: \t val | Loss:\t\t 0.7471 | Loss-Real:\t 0.6960 \n"
     ]
    },
    {
     "name": "stderr",
     "output_type": "stream",
     "text": [
      "180it [00:12, 14.21it/s]10:31<01:10, 14.16s/it]\n"
     ]
    },
    {
     "name": "stdout",
     "output_type": "stream",
     "text": [
      "Epoch:\t  45 |Phase: \t train | Loss:\t\t 0.1038 | Loss-Real:\t 0.2553 \n"
     ]
    },
    {
     "name": "stderr",
     "output_type": "stream",
     "text": [
      "20it [00:00, 22.47it/s]\n"
     ]
    },
    {
     "name": "stdout",
     "output_type": "stream",
     "text": [
      "lr= 0.001\n",
      "Epoch:\t  45 |Phase: \t val | Loss:\t\t 0.6838 | Loss-Real:\t 0.6384 \n"
     ]
    },
    {
     "name": "stderr",
     "output_type": "stream",
     "text": [
      "180it [00:13, 13.14it/s]10:45<00:56, 14.13s/it]\n"
     ]
    },
    {
     "name": "stdout",
     "output_type": "stream",
     "text": [
      "Epoch:\t  46 |Phase: \t train | Loss:\t\t 0.0997 | Loss-Real:\t 0.2469 \n"
     ]
    },
    {
     "name": "stderr",
     "output_type": "stream",
     "text": [
      "20it [00:00, 23.98it/s]\n"
     ]
    },
    {
     "name": "stdout",
     "output_type": "stream",
     "text": [
      "lr= 0.001\n",
      "Epoch:\t  46 |Phase: \t val | Loss:\t\t 0.7655 | Loss-Real:\t 0.6873 \n"
     ]
    },
    {
     "name": "stderr",
     "output_type": "stream",
     "text": [
      "180it [00:13, 13.62it/s]11:00<00:43, 14.40s/it]\n"
     ]
    },
    {
     "name": "stdout",
     "output_type": "stream",
     "text": [
      "Epoch:\t  47 |Phase: \t train | Loss:\t\t 0.1072 | Loss-Real:\t 0.2597 \n"
     ]
    },
    {
     "name": "stderr",
     "output_type": "stream",
     "text": [
      "20it [00:00, 24.26it/s]\n"
     ]
    },
    {
     "name": "stdout",
     "output_type": "stream",
     "text": [
      "lr= 0.001\n",
      "Epoch:\t  47 |Phase: \t val | Loss:\t\t 0.9653 | Loss-Real:\t 0.7314 \n"
     ]
    },
    {
     "name": "stderr",
     "output_type": "stream",
     "text": [
      "180it [00:14, 12.54it/s]11:14<00:28, 14.44s/it]\n"
     ]
    },
    {
     "name": "stdout",
     "output_type": "stream",
     "text": [
      "Epoch:\t  48 |Phase: \t train | Loss:\t\t 0.1000 | Loss-Real:\t 0.2540 \n"
     ]
    },
    {
     "name": "stderr",
     "output_type": "stream",
     "text": [
      "20it [00:00, 22.41it/s]\n"
     ]
    },
    {
     "name": "stdout",
     "output_type": "stream",
     "text": [
      "lr= 0.001\n",
      "Epoch:\t  48 |Phase: \t val | Loss:\t\t 0.8754 | Loss-Real:\t 0.7202 \n"
     ]
    },
    {
     "name": "stderr",
     "output_type": "stream",
     "text": [
      "180it [00:13, 13.77it/s]11:30<00:14, 14.83s/it]\n"
     ]
    },
    {
     "name": "stdout",
     "output_type": "stream",
     "text": [
      "Epoch:\t  49 |Phase: \t train | Loss:\t\t 0.1272 | Loss-Real:\t 0.2829 \n"
     ]
    },
    {
     "name": "stderr",
     "output_type": "stream",
     "text": [
      "20it [00:00, 22.64it/s]\n"
     ]
    },
    {
     "name": "stdout",
     "output_type": "stream",
     "text": [
      "lr= 0.001\n",
      "Epoch:\t  49 |Phase: \t val | Loss:\t\t 1.3085 | Loss-Real:\t 0.8905 \n"
     ]
    },
    {
     "name": "stderr",
     "output_type": "stream",
     "text": [
      "100%|██████████| 50/50 [11:44<00:00, 14.10s/it]\n"
     ]
    }
   ],
   "source": [
    "# Train or retrain or inference\n",
    "\n",
    "print(\"Regression training process is strted..!\")\n",
    "run_regression_train()"
   ]
  },
  {
   "cell_type": "markdown",
   "metadata": {},
   "source": []
  },
  {
   "cell_type": "code",
   "execution_count": 70,
   "metadata": {},
   "outputs": [],
   "source": [
    "model_ae = prepare_ae_model('output/CAMUS_epoch48.pt')"
   ]
  },
  {
   "cell_type": "code",
   "execution_count": 71,
   "metadata": {},
   "outputs": [],
   "source": [
    "model = models.resnet34()\n",
    "num_features = model.fc.in_features\n",
    "model.fc = nn.Linear(num_features, 1)\n",
    "checkpoint = torch.load('regressionoutput/CAMUS_epoch49.pt')\n",
    "model.load_state_dict(checkpoint[\"model_state_dict\"])\n",
    "model.eval()\n",
    "model = model.to(device)    "
   ]
  },
  {
   "cell_type": "code",
   "execution_count": 94,
   "metadata": {},
   "outputs": [
    {
     "name": "stdout",
     "output_type": "stream",
     "text": [
      "train dataset size = 360\n",
      "validation dataset size= 40\n"
     ]
    }
   ],
   "source": [
    "dataloaders  = prepare_data(training_4chamber_image_files, training_4chamber_info_df, FOUR_CHANNEL, 0.1)\n",
    "def getfinaldf(split):\n",
    "    predicted_values = []\n",
    "    actual_values = []\n",
    "    for i, data in enumerate(dataloaders[split]):\n",
    "        #print(f\"{data['image'].shape}, ef={data['lvef_real'].reshape((2, 1)).shape}\")\n",
    "        input_img = data['image'].to(device, torch.float)\n",
    "        feature_img, output_img = model_ae(input_img)\n",
    "        value = model(feature_img)\n",
    "        value = value.detach().cpu()\n",
    "        value1 = torch.mul(value, data['std'][0])\n",
    "        value1 = torch.add(value1, data['mean'][0]).numpy().flatten()\n",
    "        #print(f\"EF values {value1}\")\n",
    "        #print(f\"Real EF values {data['lvef_real']}\")\n",
    "        predicted_values.extend(value1.tolist())\n",
    "        actual_values.extend(data['lvef_real'].numpy().tolist())\n",
    "    final_df = pd.DataFrame({'Pred_EF': predicted_values, 'Actual_EF': actual_values, 'Diff_EF': np.abs(np.array(predicted_values)-np.array(actual_values))})\n",
    "    act_lvef_class = []\n",
    "    for i in final_df.Actual_EF:\n",
    "        if i >= 50:\n",
    "            act_lvef_class.append('Normal')\n",
    "        elif i > 40:\n",
    "            act_lvef_class.append('Mild')\n",
    "        else:\n",
    "            act_lvef_class.append('Abnormal')\n",
    "    act_lvef_class = pd.Series(act_lvef_class, name='Actual_HFClass')\n",
    "    act_lvef_class = act_lvef_class.astype('category')\n",
    "    act_lvef_class = act_lvef_class.cat.set_categories([\"Normal\", \"Mild\", \"Abnormal\"], ordered=True)\n",
    "    final_df['Actual_HFClass'] = act_lvef_class\n",
    "    pred_lvef_class = []\n",
    "    for i in final_df.Pred_EF:\n",
    "        if i >= 50:\n",
    "            pred_lvef_class.append('Normal')\n",
    "        elif i > 40:\n",
    "            pred_lvef_class.append('Mild')\n",
    "        else:\n",
    "            pred_lvef_class.append('Abnormal')\n",
    "    pred_lvef_class = pd.Series(pred_lvef_class, name='Pred_HFClass')\n",
    "    pred_lvef_class = pred_lvef_class.astype('category')\n",
    "    pred_lvef_class = pred_lvef_class.cat.set_categories([\"Normal\", \"Mild\", \"Abnormal\"], ordered=True)\n",
    "    final_df['Pred_HFClass'] = pred_lvef_class\n",
    "    return final_df"
   ]
  },
  {
   "cell_type": "code",
   "execution_count": 95,
   "metadata": {},
   "outputs": [],
   "source": [
    "train_output_df = getfinaldf('train')"
   ]
  },
  {
   "attachments": {},
   "cell_type": "markdown",
   "metadata": {},
   "source": [
    "## Error Analysis"
   ]
  },
  {
   "cell_type": "code",
   "execution_count": 96,
   "metadata": {},
   "outputs": [
    {
     "data": {
      "text/html": [
       "<div>\n",
       "<style scoped>\n",
       "    .dataframe tbody tr th:only-of-type {\n",
       "        vertical-align: middle;\n",
       "    }\n",
       "\n",
       "    .dataframe tbody tr th {\n",
       "        vertical-align: top;\n",
       "    }\n",
       "\n",
       "    .dataframe thead th {\n",
       "        text-align: right;\n",
       "    }\n",
       "</style>\n",
       "<table border=\"1\" class=\"dataframe\">\n",
       "  <thead>\n",
       "    <tr style=\"text-align: right;\">\n",
       "      <th></th>\n",
       "      <th>Pred_EF</th>\n",
       "      <th>Actual_EF</th>\n",
       "      <th>Diff_EF</th>\n",
       "      <th>Actual_HFClass</th>\n",
       "      <th>Pred_HFClass</th>\n",
       "    </tr>\n",
       "  </thead>\n",
       "  <tbody>\n",
       "    <tr>\n",
       "      <th>0</th>\n",
       "      <td>41.314144</td>\n",
       "      <td>28.100000</td>\n",
       "      <td>13.214144</td>\n",
       "      <td>Abnormal</td>\n",
       "      <td>Mild</td>\n",
       "    </tr>\n",
       "    <tr>\n",
       "      <th>1</th>\n",
       "      <td>40.726936</td>\n",
       "      <td>26.799999</td>\n",
       "      <td>13.926937</td>\n",
       "      <td>Abnormal</td>\n",
       "      <td>Mild</td>\n",
       "    </tr>\n",
       "    <tr>\n",
       "      <th>2</th>\n",
       "      <td>45.455311</td>\n",
       "      <td>39.299999</td>\n",
       "      <td>6.155312</td>\n",
       "      <td>Abnormal</td>\n",
       "      <td>Mild</td>\n",
       "    </tr>\n",
       "    <tr>\n",
       "      <th>3</th>\n",
       "      <td>48.623318</td>\n",
       "      <td>42.099998</td>\n",
       "      <td>6.523319</td>\n",
       "      <td>Mild</td>\n",
       "      <td>Mild</td>\n",
       "    </tr>\n",
       "    <tr>\n",
       "      <th>4</th>\n",
       "      <td>57.843239</td>\n",
       "      <td>55.400002</td>\n",
       "      <td>2.443237</td>\n",
       "      <td>Normal</td>\n",
       "      <td>Normal</td>\n",
       "    </tr>\n",
       "    <tr>\n",
       "      <th>...</th>\n",
       "      <td>...</td>\n",
       "      <td>...</td>\n",
       "      <td>...</td>\n",
       "      <td>...</td>\n",
       "      <td>...</td>\n",
       "    </tr>\n",
       "    <tr>\n",
       "      <th>355</th>\n",
       "      <td>80.408737</td>\n",
       "      <td>81.900002</td>\n",
       "      <td>1.491264</td>\n",
       "      <td>Normal</td>\n",
       "      <td>Normal</td>\n",
       "    </tr>\n",
       "    <tr>\n",
       "      <th>356</th>\n",
       "      <td>56.215496</td>\n",
       "      <td>50.500000</td>\n",
       "      <td>5.715496</td>\n",
       "      <td>Normal</td>\n",
       "      <td>Normal</td>\n",
       "    </tr>\n",
       "    <tr>\n",
       "      <th>357</th>\n",
       "      <td>56.970600</td>\n",
       "      <td>64.300003</td>\n",
       "      <td>7.329403</td>\n",
       "      <td>Normal</td>\n",
       "      <td>Normal</td>\n",
       "    </tr>\n",
       "    <tr>\n",
       "      <th>358</th>\n",
       "      <td>37.245880</td>\n",
       "      <td>32.299999</td>\n",
       "      <td>4.945881</td>\n",
       "      <td>Abnormal</td>\n",
       "      <td>Abnormal</td>\n",
       "    </tr>\n",
       "    <tr>\n",
       "      <th>359</th>\n",
       "      <td>54.949825</td>\n",
       "      <td>58.700001</td>\n",
       "      <td>3.750175</td>\n",
       "      <td>Normal</td>\n",
       "      <td>Normal</td>\n",
       "    </tr>\n",
       "  </tbody>\n",
       "</table>\n",
       "<p>360 rows × 5 columns</p>\n",
       "</div>"
      ],
      "text/plain": [
       "       Pred_EF  Actual_EF    Diff_EF Actual_HFClass Pred_HFClass\n",
       "0    41.314144  28.100000  13.214144       Abnormal         Mild\n",
       "1    40.726936  26.799999  13.926937       Abnormal         Mild\n",
       "2    45.455311  39.299999   6.155312       Abnormal         Mild\n",
       "3    48.623318  42.099998   6.523319           Mild         Mild\n",
       "4    57.843239  55.400002   2.443237         Normal       Normal\n",
       "..         ...        ...        ...            ...          ...\n",
       "355  80.408737  81.900002   1.491264         Normal       Normal\n",
       "356  56.215496  50.500000   5.715496         Normal       Normal\n",
       "357  56.970600  64.300003   7.329403         Normal       Normal\n",
       "358  37.245880  32.299999   4.945881       Abnormal     Abnormal\n",
       "359  54.949825  58.700001   3.750175         Normal       Normal\n",
       "\n",
       "[360 rows x 5 columns]"
      ]
     },
     "execution_count": 96,
     "metadata": {},
     "output_type": "execute_result"
    }
   ],
   "source": [
    "\n",
    "train_output_df\n"
   ]
  },
  {
   "cell_type": "code",
   "execution_count": 97,
   "metadata": {},
   "outputs": [],
   "source": [
    "from sklearn.metrics import accuracy_score\n",
    "def Accuracy_ConfusionMatrix(actual, predicted, categories):\n",
    "    print(f\"Accuracy of model: {accuracy_score(actual, predicted)}\")\n",
    "    confusion_matrix = pd.crosstab(actual, predicted, rownames=['Actual'], colnames=['Predicted'])\n",
    "    print(confusion_matrix)\n",
    "    print(\"Sensitivity of model for individual classes\")\n",
    "    class_sum = np.sum(confusion_matrix, axis=1)\n",
    "    for c,i in enumerate(categories):\n",
    "        print(f\"Class {i} : {confusion_matrix.iloc[c][c]/class_sum[c]}\")"
   ]
  },
  {
   "cell_type": "code",
   "execution_count": 99,
   "metadata": {},
   "outputs": [
    {
     "name": "stdout",
     "output_type": "stream",
     "text": [
      "Confusion Matrix for Training Data\n",
      "Accuracy of model: 0.6611111111111111\n",
      "Predicted  Normal  Mild  Abnormal\n",
      "Actual                           \n",
      "Normal        212     9         0\n",
      "Mild           62    21         0\n",
      "Abnormal       17    34         5\n",
      "Sensitivity of model for individual classes\n",
      "Class Normal : 0.9592760180995475\n",
      "Class Mild : 0.25301204819277107\n",
      "Class Abnormal : 0.08928571428571429\n"
     ]
    }
   ],
   "source": [
    "print('Confusion Matrix for Training Data')\n",
    "Accuracy_ConfusionMatrix(train_output_df.Actual_HFClass, \n",
    "                         train_output_df.Pred_HFClass,\n",
    "                         train_output_df.Actual_HFClass.cat.categories)"
   ]
  },
  {
   "attachments": {},
   "cell_type": "markdown",
   "metadata": {},
   "source": [
    "CAMUS Data is too imbalanced. Hence it works really well on the Normal cases. The other 2 classes do not do well.\n",
    "Also the Resnet does not seem to learning anything. The loss values is all over the place."
   ]
  },
  {
   "cell_type": "code",
   "execution_count": null,
   "metadata": {},
   "outputs": [],
   "source": []
  }
 ],
 "metadata": {
  "kernelspec": {
   "display_name": "PyTorch-arlbtak8",
   "language": "python",
   "name": "python3"
  },
  "language_info": {
   "codemirror_mode": {
    "name": "ipython",
    "version": 3
   },
   "file_extension": ".py",
   "mimetype": "text/x-python",
   "name": "python",
   "nbconvert_exporter": "python",
   "pygments_lexer": "ipython3",
   "version": "3.8.5"
  },
  "orig_nbformat": 4
 },
 "nbformat": 4,
 "nbformat_minor": 2
}
